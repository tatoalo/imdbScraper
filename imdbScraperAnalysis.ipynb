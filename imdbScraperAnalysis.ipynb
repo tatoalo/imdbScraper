{
 "cells": [
  {
   "cell_type": "code",
   "execution_count": 50,
   "metadata": {},
   "outputs": [
    {
     "data": {
      "text/html": [
       "\n",
       "    <div class=\"bk-root\">\n",
       "        <a href=\"https://bokeh.org\" target=\"_blank\" class=\"bk-logo bk-logo-small bk-logo-notebook\"></a>\n",
       "        <span id=\"2396\">Loading BokehJS ...</span>\n",
       "    </div>"
      ]
     },
     "metadata": {},
     "output_type": "display_data"
    },
    {
     "data": {
      "application/javascript": [
       "\n",
       "(function(root) {\n",
       "  function now() {\n",
       "    return new Date();\n",
       "  }\n",
       "\n",
       "  var force = true;\n",
       "\n",
       "  if (typeof root._bokeh_onload_callbacks === \"undefined\" || force === true) {\n",
       "    root._bokeh_onload_callbacks = [];\n",
       "    root._bokeh_is_loading = undefined;\n",
       "  }\n",
       "\n",
       "  var JS_MIME_TYPE = 'application/javascript';\n",
       "  var HTML_MIME_TYPE = 'text/html';\n",
       "  var EXEC_MIME_TYPE = 'application/vnd.bokehjs_exec.v0+json';\n",
       "  var CLASS_NAME = 'output_bokeh rendered_html';\n",
       "\n",
       "  /**\n",
       "   * Render data to the DOM node\n",
       "   */\n",
       "  function render(props, node) {\n",
       "    var script = document.createElement(\"script\");\n",
       "    node.appendChild(script);\n",
       "  }\n",
       "\n",
       "  /**\n",
       "   * Handle when an output is cleared or removed\n",
       "   */\n",
       "  function handleClearOutput(event, handle) {\n",
       "    var cell = handle.cell;\n",
       "\n",
       "    var id = cell.output_area._bokeh_element_id;\n",
       "    var server_id = cell.output_area._bokeh_server_id;\n",
       "    // Clean up Bokeh references\n",
       "    if (id != null && id in Bokeh.index) {\n",
       "      Bokeh.index[id].model.document.clear();\n",
       "      delete Bokeh.index[id];\n",
       "    }\n",
       "\n",
       "    if (server_id !== undefined) {\n",
       "      // Clean up Bokeh references\n",
       "      var cmd = \"from bokeh.io.state import curstate; print(curstate().uuid_to_server['\" + server_id + \"'].get_sessions()[0].document.roots[0]._id)\";\n",
       "      cell.notebook.kernel.execute(cmd, {\n",
       "        iopub: {\n",
       "          output: function(msg) {\n",
       "            var id = msg.content.text.trim();\n",
       "            if (id in Bokeh.index) {\n",
       "              Bokeh.index[id].model.document.clear();\n",
       "              delete Bokeh.index[id];\n",
       "            }\n",
       "          }\n",
       "        }\n",
       "      });\n",
       "      // Destroy server and session\n",
       "      var cmd = \"import bokeh.io.notebook as ion; ion.destroy_server('\" + server_id + \"')\";\n",
       "      cell.notebook.kernel.execute(cmd);\n",
       "    }\n",
       "  }\n",
       "\n",
       "  /**\n",
       "   * Handle when a new output is added\n",
       "   */\n",
       "  function handleAddOutput(event, handle) {\n",
       "    var output_area = handle.output_area;\n",
       "    var output = handle.output;\n",
       "\n",
       "    // limit handleAddOutput to display_data with EXEC_MIME_TYPE content only\n",
       "    if ((output.output_type != \"display_data\") || (!output.data.hasOwnProperty(EXEC_MIME_TYPE))) {\n",
       "      return\n",
       "    }\n",
       "\n",
       "    var toinsert = output_area.element.find(\".\" + CLASS_NAME.split(' ')[0]);\n",
       "\n",
       "    if (output.metadata[EXEC_MIME_TYPE][\"id\"] !== undefined) {\n",
       "      toinsert[toinsert.length - 1].firstChild.textContent = output.data[JS_MIME_TYPE];\n",
       "      // store reference to embed id on output_area\n",
       "      output_area._bokeh_element_id = output.metadata[EXEC_MIME_TYPE][\"id\"];\n",
       "    }\n",
       "    if (output.metadata[EXEC_MIME_TYPE][\"server_id\"] !== undefined) {\n",
       "      var bk_div = document.createElement(\"div\");\n",
       "      bk_div.innerHTML = output.data[HTML_MIME_TYPE];\n",
       "      var script_attrs = bk_div.children[0].attributes;\n",
       "      for (var i = 0; i < script_attrs.length; i++) {\n",
       "        toinsert[toinsert.length - 1].firstChild.setAttribute(script_attrs[i].name, script_attrs[i].value);\n",
       "        toinsert[toinsert.length - 1].firstChild.textContent = bk_div.children[0].textContent\n",
       "      }\n",
       "      // store reference to server id on output_area\n",
       "      output_area._bokeh_server_id = output.metadata[EXEC_MIME_TYPE][\"server_id\"];\n",
       "    }\n",
       "  }\n",
       "\n",
       "  function register_renderer(events, OutputArea) {\n",
       "\n",
       "    function append_mime(data, metadata, element) {\n",
       "      // create a DOM node to render to\n",
       "      var toinsert = this.create_output_subarea(\n",
       "        metadata,\n",
       "        CLASS_NAME,\n",
       "        EXEC_MIME_TYPE\n",
       "      );\n",
       "      this.keyboard_manager.register_events(toinsert);\n",
       "      // Render to node\n",
       "      var props = {data: data, metadata: metadata[EXEC_MIME_TYPE]};\n",
       "      render(props, toinsert[toinsert.length - 1]);\n",
       "      element.append(toinsert);\n",
       "      return toinsert\n",
       "    }\n",
       "\n",
       "    /* Handle when an output is cleared or removed */\n",
       "    events.on('clear_output.CodeCell', handleClearOutput);\n",
       "    events.on('delete.Cell', handleClearOutput);\n",
       "\n",
       "    /* Handle when a new output is added */\n",
       "    events.on('output_added.OutputArea', handleAddOutput);\n",
       "\n",
       "    /**\n",
       "     * Register the mime type and append_mime function with output_area\n",
       "     */\n",
       "    OutputArea.prototype.register_mime_type(EXEC_MIME_TYPE, append_mime, {\n",
       "      /* Is output safe? */\n",
       "      safe: true,\n",
       "      /* Index of renderer in `output_area.display_order` */\n",
       "      index: 0\n",
       "    });\n",
       "  }\n",
       "\n",
       "  // register the mime type if in Jupyter Notebook environment and previously unregistered\n",
       "  if (root.Jupyter !== undefined) {\n",
       "    var events = require('base/js/events');\n",
       "    var OutputArea = require('notebook/js/outputarea').OutputArea;\n",
       "\n",
       "    if (OutputArea.prototype.mime_types().indexOf(EXEC_MIME_TYPE) == -1) {\n",
       "      register_renderer(events, OutputArea);\n",
       "    }\n",
       "  }\n",
       "\n",
       "  \n",
       "  if (typeof (root._bokeh_timeout) === \"undefined\" || force === true) {\n",
       "    root._bokeh_timeout = Date.now() + 5000;\n",
       "    root._bokeh_failed_load = false;\n",
       "  }\n",
       "\n",
       "  var NB_LOAD_WARNING = {'data': {'text/html':\n",
       "     \"<div style='background-color: #fdd'>\\n\"+\n",
       "     \"<p>\\n\"+\n",
       "     \"BokehJS does not appear to have successfully loaded. If loading BokehJS from CDN, this \\n\"+\n",
       "     \"may be due to a slow or bad network connection. Possible fixes:\\n\"+\n",
       "     \"</p>\\n\"+\n",
       "     \"<ul>\\n\"+\n",
       "     \"<li>re-rerun `output_notebook()` to attempt to load from CDN again, or</li>\\n\"+\n",
       "     \"<li>use INLINE resources instead, as so:</li>\\n\"+\n",
       "     \"</ul>\\n\"+\n",
       "     \"<code>\\n\"+\n",
       "     \"from bokeh.resources import INLINE\\n\"+\n",
       "     \"output_notebook(resources=INLINE)\\n\"+\n",
       "     \"</code>\\n\"+\n",
       "     \"</div>\"}};\n",
       "\n",
       "  function display_loaded() {\n",
       "    var el = document.getElementById(\"2396\");\n",
       "    if (el != null) {\n",
       "      el.textContent = \"BokehJS is loading...\";\n",
       "    }\n",
       "    if (root.Bokeh !== undefined) {\n",
       "      if (el != null) {\n",
       "        el.textContent = \"BokehJS \" + root.Bokeh.version + \" successfully loaded.\";\n",
       "      }\n",
       "    } else if (Date.now() < root._bokeh_timeout) {\n",
       "      setTimeout(display_loaded, 100)\n",
       "    }\n",
       "  }\n",
       "\n",
       "\n",
       "  function run_callbacks() {\n",
       "    try {\n",
       "      root._bokeh_onload_callbacks.forEach(function(callback) {\n",
       "        if (callback != null)\n",
       "          callback();\n",
       "      });\n",
       "    } finally {\n",
       "      delete root._bokeh_onload_callbacks\n",
       "    }\n",
       "    console.debug(\"Bokeh: all callbacks have finished\");\n",
       "  }\n",
       "\n",
       "  function load_libs(css_urls, js_urls, callback) {\n",
       "    if (css_urls == null) css_urls = [];\n",
       "    if (js_urls == null) js_urls = [];\n",
       "\n",
       "    root._bokeh_onload_callbacks.push(callback);\n",
       "    if (root._bokeh_is_loading > 0) {\n",
       "      console.debug(\"Bokeh: BokehJS is being loaded, scheduling callback at\", now());\n",
       "      return null;\n",
       "    }\n",
       "    if (js_urls == null || js_urls.length === 0) {\n",
       "      run_callbacks();\n",
       "      return null;\n",
       "    }\n",
       "    console.debug(\"Bokeh: BokehJS not loaded, scheduling load and callback at\", now());\n",
       "    root._bokeh_is_loading = css_urls.length + js_urls.length;\n",
       "\n",
       "    function on_load() {\n",
       "      root._bokeh_is_loading--;\n",
       "      if (root._bokeh_is_loading === 0) {\n",
       "        console.debug(\"Bokeh: all BokehJS libraries/stylesheets loaded\");\n",
       "        run_callbacks()\n",
       "      }\n",
       "    }\n",
       "\n",
       "    function on_error() {\n",
       "      console.error(\"failed to load \" + url);\n",
       "    }\n",
       "\n",
       "    for (var i = 0; i < css_urls.length; i++) {\n",
       "      var url = css_urls[i];\n",
       "      const element = document.createElement(\"link\");\n",
       "      element.onload = on_load;\n",
       "      element.onerror = on_error;\n",
       "      element.rel = \"stylesheet\";\n",
       "      element.type = \"text/css\";\n",
       "      element.href = url;\n",
       "      console.debug(\"Bokeh: injecting link tag for BokehJS stylesheet: \", url);\n",
       "      document.body.appendChild(element);\n",
       "    }\n",
       "\n",
       "    const hashes = {\"https://cdn.bokeh.org/bokeh/release/bokeh-2.2.3.min.js\": \"T2yuo9Oe71Cz/I4X9Ac5+gpEa5a8PpJCDlqKYO0CfAuEszu1JrXLl8YugMqYe3sM\", \"https://cdn.bokeh.org/bokeh/release/bokeh-widgets-2.2.3.min.js\": \"98GDGJ0kOMCUMUePhksaQ/GYgB3+NH9h996V88sh3aOiUNX3N+fLXAtry6xctSZ6\", \"https://cdn.bokeh.org/bokeh/release/bokeh-tables-2.2.3.min.js\": \"89bArO+nlbP3sgakeHjCo1JYxYR5wufVgA3IbUvDY+K7w4zyxJqssu7wVnfeKCq8\"};\n",
       "\n",
       "    for (var i = 0; i < js_urls.length; i++) {\n",
       "      var url = js_urls[i];\n",
       "      var element = document.createElement('script');\n",
       "      element.onload = on_load;\n",
       "      element.onerror = on_error;\n",
       "      element.async = false;\n",
       "      element.src = url;\n",
       "      if (url in hashes) {\n",
       "        element.crossOrigin = \"anonymous\";\n",
       "        element.integrity = \"sha384-\" + hashes[url];\n",
       "      }\n",
       "      console.debug(\"Bokeh: injecting script tag for BokehJS library: \", url);\n",
       "      document.head.appendChild(element);\n",
       "    }\n",
       "  };\n",
       "\n",
       "  function inject_raw_css(css) {\n",
       "    const element = document.createElement(\"style\");\n",
       "    element.appendChild(document.createTextNode(css));\n",
       "    document.body.appendChild(element);\n",
       "  }\n",
       "\n",
       "  \n",
       "  var js_urls = [\"https://cdn.bokeh.org/bokeh/release/bokeh-2.2.3.min.js\", \"https://cdn.bokeh.org/bokeh/release/bokeh-widgets-2.2.3.min.js\", \"https://cdn.bokeh.org/bokeh/release/bokeh-tables-2.2.3.min.js\"];\n",
       "  var css_urls = [];\n",
       "  \n",
       "\n",
       "  var inline_js = [\n",
       "    function(Bokeh) {\n",
       "      Bokeh.set_log_level(\"info\");\n",
       "    },\n",
       "    function(Bokeh) {\n",
       "    \n",
       "    \n",
       "    }\n",
       "  ];\n",
       "\n",
       "  function run_inline_js() {\n",
       "    \n",
       "    if (root.Bokeh !== undefined || force === true) {\n",
       "      \n",
       "    for (var i = 0; i < inline_js.length; i++) {\n",
       "      inline_js[i].call(root, root.Bokeh);\n",
       "    }\n",
       "    if (force === true) {\n",
       "        display_loaded();\n",
       "      }} else if (Date.now() < root._bokeh_timeout) {\n",
       "      setTimeout(run_inline_js, 100);\n",
       "    } else if (!root._bokeh_failed_load) {\n",
       "      console.log(\"Bokeh: BokehJS failed to load within specified timeout.\");\n",
       "      root._bokeh_failed_load = true;\n",
       "    } else if (force !== true) {\n",
       "      var cell = $(document.getElementById(\"2396\")).parents('.cell').data().cell;\n",
       "      cell.output_area.append_execute_result(NB_LOAD_WARNING)\n",
       "    }\n",
       "\n",
       "  }\n",
       "\n",
       "  if (root._bokeh_is_loading === 0) {\n",
       "    console.debug(\"Bokeh: BokehJS loaded, going straight to plotting\");\n",
       "    run_inline_js();\n",
       "  } else {\n",
       "    load_libs(css_urls, js_urls, function() {\n",
       "      console.debug(\"Bokeh: BokehJS plotting callback run at\", now());\n",
       "      run_inline_js();\n",
       "    });\n",
       "  }\n",
       "}(window));"
      ],
      "application/vnd.bokehjs_load.v0+json": "\n(function(root) {\n  function now() {\n    return new Date();\n  }\n\n  var force = true;\n\n  if (typeof root._bokeh_onload_callbacks === \"undefined\" || force === true) {\n    root._bokeh_onload_callbacks = [];\n    root._bokeh_is_loading = undefined;\n  }\n\n  \n\n  \n  if (typeof (root._bokeh_timeout) === \"undefined\" || force === true) {\n    root._bokeh_timeout = Date.now() + 5000;\n    root._bokeh_failed_load = false;\n  }\n\n  var NB_LOAD_WARNING = {'data': {'text/html':\n     \"<div style='background-color: #fdd'>\\n\"+\n     \"<p>\\n\"+\n     \"BokehJS does not appear to have successfully loaded. If loading BokehJS from CDN, this \\n\"+\n     \"may be due to a slow or bad network connection. Possible fixes:\\n\"+\n     \"</p>\\n\"+\n     \"<ul>\\n\"+\n     \"<li>re-rerun `output_notebook()` to attempt to load from CDN again, or</li>\\n\"+\n     \"<li>use INLINE resources instead, as so:</li>\\n\"+\n     \"</ul>\\n\"+\n     \"<code>\\n\"+\n     \"from bokeh.resources import INLINE\\n\"+\n     \"output_notebook(resources=INLINE)\\n\"+\n     \"</code>\\n\"+\n     \"</div>\"}};\n\n  function display_loaded() {\n    var el = document.getElementById(\"2396\");\n    if (el != null) {\n      el.textContent = \"BokehJS is loading...\";\n    }\n    if (root.Bokeh !== undefined) {\n      if (el != null) {\n        el.textContent = \"BokehJS \" + root.Bokeh.version + \" successfully loaded.\";\n      }\n    } else if (Date.now() < root._bokeh_timeout) {\n      setTimeout(display_loaded, 100)\n    }\n  }\n\n\n  function run_callbacks() {\n    try {\n      root._bokeh_onload_callbacks.forEach(function(callback) {\n        if (callback != null)\n          callback();\n      });\n    } finally {\n      delete root._bokeh_onload_callbacks\n    }\n    console.debug(\"Bokeh: all callbacks have finished\");\n  }\n\n  function load_libs(css_urls, js_urls, callback) {\n    if (css_urls == null) css_urls = [];\n    if (js_urls == null) js_urls = [];\n\n    root._bokeh_onload_callbacks.push(callback);\n    if (root._bokeh_is_loading > 0) {\n      console.debug(\"Bokeh: BokehJS is being loaded, scheduling callback at\", now());\n      return null;\n    }\n    if (js_urls == null || js_urls.length === 0) {\n      run_callbacks();\n      return null;\n    }\n    console.debug(\"Bokeh: BokehJS not loaded, scheduling load and callback at\", now());\n    root._bokeh_is_loading = css_urls.length + js_urls.length;\n\n    function on_load() {\n      root._bokeh_is_loading--;\n      if (root._bokeh_is_loading === 0) {\n        console.debug(\"Bokeh: all BokehJS libraries/stylesheets loaded\");\n        run_callbacks()\n      }\n    }\n\n    function on_error() {\n      console.error(\"failed to load \" + url);\n    }\n\n    for (var i = 0; i < css_urls.length; i++) {\n      var url = css_urls[i];\n      const element = document.createElement(\"link\");\n      element.onload = on_load;\n      element.onerror = on_error;\n      element.rel = \"stylesheet\";\n      element.type = \"text/css\";\n      element.href = url;\n      console.debug(\"Bokeh: injecting link tag for BokehJS stylesheet: \", url);\n      document.body.appendChild(element);\n    }\n\n    const hashes = {\"https://cdn.bokeh.org/bokeh/release/bokeh-2.2.3.min.js\": \"T2yuo9Oe71Cz/I4X9Ac5+gpEa5a8PpJCDlqKYO0CfAuEszu1JrXLl8YugMqYe3sM\", \"https://cdn.bokeh.org/bokeh/release/bokeh-widgets-2.2.3.min.js\": \"98GDGJ0kOMCUMUePhksaQ/GYgB3+NH9h996V88sh3aOiUNX3N+fLXAtry6xctSZ6\", \"https://cdn.bokeh.org/bokeh/release/bokeh-tables-2.2.3.min.js\": \"89bArO+nlbP3sgakeHjCo1JYxYR5wufVgA3IbUvDY+K7w4zyxJqssu7wVnfeKCq8\"};\n\n    for (var i = 0; i < js_urls.length; i++) {\n      var url = js_urls[i];\n      var element = document.createElement('script');\n      element.onload = on_load;\n      element.onerror = on_error;\n      element.async = false;\n      element.src = url;\n      if (url in hashes) {\n        element.crossOrigin = \"anonymous\";\n        element.integrity = \"sha384-\" + hashes[url];\n      }\n      console.debug(\"Bokeh: injecting script tag for BokehJS library: \", url);\n      document.head.appendChild(element);\n    }\n  };\n\n  function inject_raw_css(css) {\n    const element = document.createElement(\"style\");\n    element.appendChild(document.createTextNode(css));\n    document.body.appendChild(element);\n  }\n\n  \n  var js_urls = [\"https://cdn.bokeh.org/bokeh/release/bokeh-2.2.3.min.js\", \"https://cdn.bokeh.org/bokeh/release/bokeh-widgets-2.2.3.min.js\", \"https://cdn.bokeh.org/bokeh/release/bokeh-tables-2.2.3.min.js\"];\n  var css_urls = [];\n  \n\n  var inline_js = [\n    function(Bokeh) {\n      Bokeh.set_log_level(\"info\");\n    },\n    function(Bokeh) {\n    \n    \n    }\n  ];\n\n  function run_inline_js() {\n    \n    if (root.Bokeh !== undefined || force === true) {\n      \n    for (var i = 0; i < inline_js.length; i++) {\n      inline_js[i].call(root, root.Bokeh);\n    }\n    if (force === true) {\n        display_loaded();\n      }} else if (Date.now() < root._bokeh_timeout) {\n      setTimeout(run_inline_js, 100);\n    } else if (!root._bokeh_failed_load) {\n      console.log(\"Bokeh: BokehJS failed to load within specified timeout.\");\n      root._bokeh_failed_load = true;\n    } else if (force !== true) {\n      var cell = $(document.getElementById(\"2396\")).parents('.cell').data().cell;\n      cell.output_area.append_execute_result(NB_LOAD_WARNING)\n    }\n\n  }\n\n  if (root._bokeh_is_loading === 0) {\n    console.debug(\"Bokeh: BokehJS loaded, going straight to plotting\");\n    run_inline_js();\n  } else {\n    load_libs(css_urls, js_urls, function() {\n      console.debug(\"Bokeh: BokehJS plotting callback run at\", now());\n      run_inline_js();\n    });\n  }\n}(window));"
     },
     "metadata": {},
     "output_type": "display_data"
    }
   ],
   "source": [
    "import pandas as pd\n",
    "import numpy as np\n",
    "import _pickle as pickle\n",
    "import datetime\n",
    "import random\n",
    "import timestring\n",
    "import statistics\n",
    "\n",
    "from bokeh.io import output_file, show, output_notebook\n",
    "from bokeh.models import ColumnDataSource\n",
    "from bokeh.palettes import *\n",
    "from bokeh.plotting import figure\n",
    "\n",
    "fileHandler = open(b\"../vagrant_shared_folder/movieRatings.obj\", \"rb\")\n",
    "movieRatings = pickle.load(fileHandler)\n",
    "fileHandler.close()\n",
    "\n",
    "output_notebook()"
   ]
  },
  {
   "cell_type": "code",
   "execution_count": 51,
   "metadata": {},
   "outputs": [],
   "source": [
    "def random_HEX_colors(n=1):\n",
    "\n",
    "    color = [\"#\"+''.join([random.choice('0123456789ABCDEF') for j in range(6)])\n",
    "             for i in range(n)]\n",
    "    \n",
    "    return color"
   ]
  },
  {
   "cell_type": "code",
   "execution_count": 52,
   "metadata": {},
   "outputs": [
    {
     "name": "stdout",
     "output_type": "stream",
     "text": [
      "There are 276 movies.\n"
     ]
    }
   ],
   "source": [
    "print(f'There are {len(movieRatings)} movies.')"
   ]
  },
  {
   "cell_type": "code",
   "execution_count": 53,
   "metadata": {},
   "outputs": [
    {
     "name": "stdout",
     "output_type": "stream",
     "text": [
      "The Silence of the Lambs, vote = 9\n"
     ]
    }
   ],
   "source": [
    "for ID, data in movieRatings.items():\n",
    "    if 'Silence' in data['title']:\n",
    "        print(\"{}, vote = {}\".format(data['title'],data['personal_rating']))"
   ]
  },
  {
   "cell_type": "code",
   "execution_count": 54,
   "metadata": {},
   "outputs": [
    {
     "data": {
      "text/plain": [
       "{'ID': 'tt4550098',\n",
       " 'type': 'movie',\n",
       " 'title': 'Nocturnal Animals',\n",
       " 'genre': 'Drama, Thriller',\n",
       " 'year': '2016',\n",
       " 'personal_rating': '9',\n",
       " 'IMDB_rating': '7.5',\n",
       " 'rated_on': '03 Jan 2021',\n",
       " 'actors': ['Amy Adams',\n",
       "  'Jake Gyllenhaal',\n",
       "  'Michael Shannon',\n",
       "  'Aaron Taylor-Johnson'],\n",
       " 'director': 'Tom Ford',\n",
       " 'runtime': '1 hr 56 min'}"
      ]
     },
     "execution_count": 54,
     "metadata": {},
     "output_type": "execute_result"
    }
   ],
   "source": [
    "movieRatings['tt4550098']"
   ]
  },
  {
   "cell_type": "markdown",
   "metadata": {},
   "source": [
    "## Best-rated {9-10}"
   ]
  },
  {
   "cell_type": "code",
   "execution_count": 55,
   "metadata": {},
   "outputs": [],
   "source": [
    "tens = []\n",
    "nines = []\n",
    "\n",
    "for ID, data in movieRatings.items():\n",
    "    t = int(data['personal_rating'])\n",
    "    if t in [9,10]:\n",
    "        if t == 9:\n",
    "            nines.append(data['title'])\n",
    "        else:\n",
    "            tens.append(data['title'])"
   ]
  },
  {
   "cell_type": "code",
   "execution_count": 56,
   "metadata": {},
   "outputs": [
    {
     "name": "stdout",
     "output_type": "stream",
     "text": [
      "10s: ['Soul', 'Heat', 'Se7en', 'The Last Dance', 'Ozark', 'When Harry Met Sally', 'Succession', 'Peaky Blinders', 'Game of Thrones', 'The Big Bang Theory']; 10\n",
      "9s: ['The Departed', 'The Night Of', 'Promising Young Woman', 'Dark Waters', 'Night Stalker: The Hunt for a Serial Killer', 'Run', 'Inside Out', 'Nocturnal Animals', 'The Boys', 'Prisoners', 'There Will Be Blood', '1917', '12 Angry Men', 'Casino', 'Nightcrawler', 'The Shawshank Redemption', 'Goodfellas', 'Inglourious Basterds', 'The Lobster', 'Moneyball', 'Apollo 11', 'Joker', 'BoJack Horseman', 'James May: Our Man in Japan', 'The Mandalorian', 'Once Upon a Time in America', 'The Day After Tomorrow', 'Mindhunter', 'Billions', 'Chernobyl', 'Presumed Innocent', 'Luther', 'Black Mirror: Bandersnatch', 'The Staircase', 'Making a Murderer', 'Black Mirror', 'Icarus', 'The Silence of the Lambs', 'Spotlight', 'Last Week Tonight with John Oliver', 'Halt and Catch Fire', 'Inception', 'The Godfather: Part II', 'The Godfather', 'House of Cards', 'Master of None', 'Brooklyn', 'Fracture', 'The Grand Tour', 'Narcos', 'The Social Network', 'The Big Short', 'House', 'Bridge of Spies', 'The Intouchables', 'The Martian', 'And Then There Were None', 'Mr. Robot', 'Ex Machina', 'Silicon Valley', 'Whiplash']; 61\n"
     ]
    }
   ],
   "source": [
    "print(f\"10s: {tens}; {len(tens)}\")\n",
    "print(f\"9s: {nines}; {len(nines)}\")"
   ]
  },
  {
   "cell_type": "markdown",
   "metadata": {},
   "source": [
    "## Year-based stats"
   ]
  },
  {
   "cell_type": "code",
   "execution_count": 57,
   "metadata": {},
   "outputs": [],
   "source": [
    "def retrieve_year_specific_data(year, debug=False):\n",
    "    data_year = []\n",
    "    movies_year = []\n",
    "    tv_year = []\n",
    "    \n",
    "    year = str(year)\n",
    "\n",
    "    for ID, data in movieRatings.items():\n",
    "        t = data['rated_on']\n",
    "        if year in t:\n",
    "            data_year.append(data)\n",
    "\n",
    "    for d in data_year:\n",
    "        t = d['type']\n",
    "        if 'movie' in t:\n",
    "            movies_year.append(d)\n",
    "        else:\n",
    "            tv_year.append(d)\n",
    "    \n",
    "    if len(movies_year)+len(tv_year) == len(data_year):\n",
    "        if debug:\n",
    "            print(f\"Amount of movies/tv_series seen in {year}: {len(data_year)}\")\n",
    "            print(f\"Movies seen in {year}: {len(movies_year)}\")\n",
    "            print(f\"TV Series seen in {year}: {len(tv_year)}\")\n",
    "        return movies_year, tv_year\n",
    "    else:\n",
    "        print(\"Error...\")\n",
    "        return None, None"
   ]
  },
  {
   "cell_type": "code",
   "execution_count": 95,
   "metadata": {},
   "outputs": [
    {
     "data": {
      "text/plain": [
       "(19, 6)"
      ]
     },
     "execution_count": 95,
     "metadata": {},
     "output_type": "execute_result"
    }
   ],
   "source": [
    "mov, tv = retrieve_year_specific_data(2021)\n",
    "len(mov), len(tv)"
   ]
  },
  {
   "cell_type": "markdown",
   "metadata": {},
   "source": [
    "## Yearly-stats distribution"
   ]
  },
  {
   "cell_type": "code",
   "execution_count": 59,
   "metadata": {},
   "outputs": [],
   "source": [
    "def yearly_stats_distribution():\n",
    "    current_year = datetime.datetime.now().year + 1\n",
    "    possible_years = [i for i in range(2014, current_year)]\n",
    "    counts_tot = []\n",
    "    counts_mov = []\n",
    "    counts_tv = []\n",
    "    \n",
    "    effective_years = []\n",
    "\n",
    "    for y in possible_years:\n",
    "        mov, tv = retrieve_year_specific_data(y)\n",
    "\n",
    "        effective_years.append(y)\n",
    "        counts_tot.append(len(mov)+len(tv))\n",
    "        counts_mov.append(len(mov))\n",
    "        counts_tv.append(len(tv))\n",
    "\n",
    "    strYears = []\n",
    "    for _ in effective_years:\n",
    "        strYears.append(str(_))\n",
    "    \n",
    "    return strYears, counts_tot, counts_mov, counts_tv"
   ]
  },
  {
   "cell_type": "code",
   "execution_count": 60,
   "metadata": {},
   "outputs": [
    {
     "data": {
      "text/html": [
       "\n",
       "\n",
       "\n",
       "\n",
       "\n",
       "\n",
       "  <div class=\"bk-root\" id=\"ca3d5606-4908-42cd-b2de-898f6751f315\" data-root-id=\"2398\"></div>\n"
      ]
     },
     "metadata": {},
     "output_type": "display_data"
    },
    {
     "data": {
      "application/javascript": [
       "(function(root) {\n",
       "  function embed_document(root) {\n",
       "    \n",
       "  var docs_json = {\"42bea087-5df8-4082-b1fa-ee782a9df730\":{\"roots\":{\"references\":[{\"attributes\":{\"below\":[{\"id\":\"2409\"}],\"center\":[{\"id\":\"2411\"},{\"id\":\"2415\"}],\"left\":[{\"id\":\"2412\"}],\"plot_height\":350,\"renderers\":[{\"id\":\"2422\"}],\"title\":{\"id\":\"2399\"},\"toolbar\":{\"id\":\"2417\"},\"toolbar_location\":null,\"x_range\":{\"id\":\"2401\"},\"x_scale\":{\"id\":\"2405\"},\"y_range\":{\"id\":\"2403\"},\"y_scale\":{\"id\":\"2407\"}},\"id\":\"2398\",\"subtype\":\"Figure\",\"type\":\"Plot\"},{\"attributes\":{},\"id\":\"2413\",\"type\":\"BasicTicker\"},{\"attributes\":{},\"id\":\"2405\",\"type\":\"CategoricalScale\"},{\"attributes\":{\"formatter\":{\"id\":\"2497\"},\"ticker\":{\"id\":\"2410\"}},\"id\":\"2409\",\"type\":\"CategoricalAxis\"},{\"attributes\":{\"source\":{\"id\":\"2397\"}},\"id\":\"2423\",\"type\":\"CDSView\"},{\"attributes\":{},\"id\":\"2410\",\"type\":\"CategoricalTicker\"},{\"attributes\":{\"fill_color\":{\"field\":\"color\"},\"line_color\":{\"field\":\"color\"},\"top\":{\"field\":\"counts\"},\"width\":{\"value\":0.9},\"x\":{\"field\":\"year\"}},\"id\":\"2420\",\"type\":\"VBar\"},{\"attributes\":{\"axis\":{\"id\":\"2412\"},\"dimension\":1,\"ticker\":null},\"id\":\"2415\",\"type\":\"Grid\"},{\"attributes\":{\"data\":{\"color\":[\"#440154\",\"#46317E\",\"#365A8C\",\"#277E8E\",\"#1EA087\",\"#49C16D\",\"#9DD93A\",\"#FDE724\"],\"counts\":[0,18,36,46,36,33,82,25],\"year\":[\"2014\",\"2015\",\"2016\",\"2017\",\"2018\",\"2019\",\"2020\",\"2021\"]},\"selected\":{\"id\":\"2500\"},\"selection_policy\":{\"id\":\"2499\"}},\"id\":\"2397\",\"type\":\"ColumnDataSource\"},{\"attributes\":{},\"id\":\"2497\",\"type\":\"CategoricalTickFormatter\"},{\"attributes\":{},\"id\":\"2500\",\"type\":\"Selection\"},{\"attributes\":{\"text\":\"Yearly Distribution\"},\"id\":\"2399\",\"type\":\"Title\"},{\"attributes\":{},\"id\":\"2495\",\"type\":\"BasicTickFormatter\"},{\"attributes\":{\"formatter\":{\"id\":\"2495\"},\"ticker\":{\"id\":\"2413\"}},\"id\":\"2412\",\"type\":\"LinearAxis\"},{\"attributes\":{\"end\":102},\"id\":\"2403\",\"type\":\"Range1d\"},{\"attributes\":{\"factors\":[\"2014\",\"2015\",\"2016\",\"2017\",\"2018\",\"2019\",\"2020\",\"2021\"]},\"id\":\"2401\",\"type\":\"FactorRange\"},{\"attributes\":{\"fill_alpha\":{\"value\":0.1},\"fill_color\":{\"field\":\"color\"},\"line_alpha\":{\"value\":0.1},\"line_color\":{\"field\":\"color\"},\"top\":{\"field\":\"counts\"},\"width\":{\"value\":0.9},\"x\":{\"field\":\"year\"}},\"id\":\"2421\",\"type\":\"VBar\"},{\"attributes\":{\"axis\":{\"id\":\"2409\"},\"grid_line_color\":null,\"ticker\":null},\"id\":\"2411\",\"type\":\"Grid\"},{\"attributes\":{\"data_source\":{\"id\":\"2397\"},\"glyph\":{\"id\":\"2420\"},\"hover_glyph\":null,\"muted_glyph\":null,\"nonselection_glyph\":{\"id\":\"2421\"},\"selection_glyph\":null,\"view\":{\"id\":\"2423\"}},\"id\":\"2422\",\"type\":\"GlyphRenderer\"},{\"attributes\":{\"callback\":null,\"tooltips\":\"data points: @counts\"},\"id\":\"2416\",\"type\":\"HoverTool\"},{\"attributes\":{\"active_drag\":\"auto\",\"active_inspect\":\"auto\",\"active_multi\":null,\"active_scroll\":\"auto\",\"active_tap\":\"auto\",\"tools\":[{\"id\":\"2416\"}]},\"id\":\"2417\",\"type\":\"Toolbar\"},{\"attributes\":{},\"id\":\"2407\",\"type\":\"LinearScale\"},{\"attributes\":{},\"id\":\"2499\",\"type\":\"UnionRenderers\"}],\"root_ids\":[\"2398\"]},\"title\":\"Bokeh Application\",\"version\":\"2.2.3\"}};\n",
       "  var render_items = [{\"docid\":\"42bea087-5df8-4082-b1fa-ee782a9df730\",\"root_ids\":[\"2398\"],\"roots\":{\"2398\":\"ca3d5606-4908-42cd-b2de-898f6751f315\"}}];\n",
       "  root.Bokeh.embed.embed_items_notebook(docs_json, render_items);\n",
       "\n",
       "  }\n",
       "  if (root.Bokeh !== undefined) {\n",
       "    embed_document(root);\n",
       "  } else {\n",
       "    var attempts = 0;\n",
       "    var timer = setInterval(function(root) {\n",
       "      if (root.Bokeh !== undefined) {\n",
       "        clearInterval(timer);\n",
       "        embed_document(root);\n",
       "      } else {\n",
       "        attempts++;\n",
       "        if (attempts > 100) {\n",
       "          clearInterval(timer);\n",
       "          console.log(\"Bokeh: ERROR: Unable to run BokehJS code because BokehJS library is missing\");\n",
       "        }\n",
       "      }\n",
       "    }, 10, root)\n",
       "  }\n",
       "})(window);"
      ],
      "application/vnd.bokehjs_exec.v0+json": ""
     },
     "metadata": {
      "application/vnd.bokehjs_exec.v0+json": {
       "id": "2398"
      }
     },
     "output_type": "display_data"
    }
   ],
   "source": [
    "# output_file(\"bar_colors.html\")\n",
    "\n",
    "years, counts, _, _ = yearly_stats_distribution()\n",
    "\n",
    "source = ColumnDataSource(data=dict(year=years, counts=counts, color=small_palettes['Viridis'][len(years)]))\n",
    "\n",
    "p = figure(x_range=years, y_range=(min(counts),max(counts)+20), plot_height=350, title=\"Yearly Distribution\",\n",
    "           toolbar_location=None, tools=\"hover\", tooltips=\"data points: @counts\")\n",
    "\n",
    "p.vbar(x='year', top='counts', width=0.9, color='color', source=source)\n",
    "\n",
    "p.xgrid.grid_line_color = None\n",
    "\n",
    "show(p)"
   ]
  },
  {
   "cell_type": "code",
   "execution_count": 113,
   "metadata": {},
   "outputs": [
    {
     "data": {
      "text/html": [
       "\n",
       "\n",
       "\n",
       "\n",
       "\n",
       "\n",
       "  <div class=\"bk-root\" id=\"bd7731f3-3cce-4a61-9d94-52a84f96e421\" data-root-id=\"8453\"></div>\n"
      ]
     },
     "metadata": {},
     "output_type": "display_data"
    },
    {
     "data": {
      "application/javascript": [
       "(function(root) {\n",
       "  function embed_document(root) {\n",
       "    \n",
       "  var docs_json = {\"4a48ff2d-b8f8-4285-a3ca-fa6ae1067c41\":{\"roots\":{\"references\":[{\"attributes\":{\"below\":[{\"id\":\"8464\"}],\"center\":[{\"id\":\"8466\"},{\"id\":\"8470\"},{\"id\":\"8491\"}],\"left\":[{\"id\":\"8467\"}],\"outline_line_color\":null,\"plot_height\":250,\"renderers\":[{\"id\":\"8482\"},{\"id\":\"8497\"}],\"title\":{\"id\":\"8454\"},\"toolbar\":{\"id\":\"8472\"},\"toolbar_location\":null,\"x_range\":{\"id\":\"8456\"},\"x_scale\":{\"id\":\"8460\"},\"y_range\":{\"id\":\"8458\"},\"y_scale\":{\"id\":\"8462\"}},\"id\":\"8453\",\"subtype\":\"Figure\",\"type\":\"Plot\"},{\"attributes\":{\"active_drag\":\"auto\",\"active_inspect\":\"auto\",\"active_multi\":null,\"active_scroll\":\"auto\",\"active_tap\":\"auto\",\"tools\":[{\"id\":\"8471\"}]},\"id\":\"8472\",\"type\":\"Toolbar\"},{\"attributes\":{\"source\":{\"id\":\"8493\"}},\"id\":\"8498\",\"type\":\"CDSView\"},{\"attributes\":{},\"id\":\"8490\",\"type\":\"Selection\"},{\"attributes\":{\"fields\":[\"movies\"]},\"id\":\"8476\",\"type\":\"Stack\"},{\"attributes\":{\"data\":{\"movies\":[0,10,23,35,22,17,63,19],\"tv series\":[0,8,13,11,14,16,19,6],\"years\":[\"2014\",\"2015\",\"2016\",\"2017\",\"2018\",\"2019\",\"2020\",\"2021\"]},\"selected\":{\"id\":\"8507\"},\"selection_policy\":{\"id\":\"8506\"}},\"id\":\"8493\",\"type\":\"ColumnDataSource\"},{\"attributes\":{},\"id\":\"8506\",\"type\":\"UnionRenderers\"},{\"attributes\":{},\"id\":\"8468\",\"type\":\"BasicTicker\"},{\"attributes\":{\"formatter\":{\"id\":\"8487\"},\"minor_tick_line_color\":null,\"ticker\":{\"id\":\"8465\"}},\"id\":\"8464\",\"type\":\"CategoricalAxis\"},{\"attributes\":{\"end\":102},\"id\":\"8458\",\"type\":\"Range1d\"},{\"attributes\":{\"bottom\":{\"expr\":{\"id\":\"8476\"}},\"fill_alpha\":{\"value\":0.1},\"fill_color\":{\"value\":\"#058C0B\"},\"line_alpha\":{\"value\":0.1},\"line_color\":{\"value\":\"#058C0B\"},\"top\":{\"expr\":{\"id\":\"8477\"}},\"width\":{\"value\":0.9},\"x\":{\"field\":\"years\"}},\"id\":\"8496\",\"type\":\"VBar\"},{\"attributes\":{\"callback\":null,\"tooltips\":\"$name in @years: @$name\"},\"id\":\"8471\",\"type\":\"HoverTool\"},{\"attributes\":{\"fields\":[]},\"id\":\"8474\",\"type\":\"Stack\"},{\"attributes\":{\"factors\":[\"2014\",\"2015\",\"2016\",\"2017\",\"2018\",\"2019\",\"2020\",\"2021\"],\"range_padding\":0.1},\"id\":\"8456\",\"type\":\"FactorRange\"},{\"attributes\":{\"bottom\":{\"expr\":{\"id\":\"8474\"}},\"fill_color\":{\"value\":\"#FFC300\"},\"line_color\":{\"value\":\"#FFC300\"},\"top\":{\"expr\":{\"id\":\"8475\"}},\"width\":{\"value\":0.9},\"x\":{\"field\":\"years\"}},\"id\":\"8480\",\"type\":\"VBar\"},{\"attributes\":{\"axis\":{\"id\":\"8464\"},\"grid_line_color\":null,\"ticker\":null},\"id\":\"8466\",\"type\":\"Grid\"},{\"attributes\":{\"formatter\":{\"id\":\"8485\"},\"minor_tick_line_color\":null,\"ticker\":{\"id\":\"8468\"}},\"id\":\"8467\",\"type\":\"LinearAxis\"},{\"attributes\":{},\"id\":\"8489\",\"type\":\"UnionRenderers\"},{\"attributes\":{},\"id\":\"8462\",\"type\":\"LinearScale\"},{\"attributes\":{\"label\":{\"value\":\"tv series\"},\"renderers\":[{\"id\":\"8497\"}]},\"id\":\"8508\",\"type\":\"LegendItem\"},{\"attributes\":{\"bottom\":{\"expr\":{\"id\":\"8474\"}},\"fill_alpha\":{\"value\":0.1},\"fill_color\":{\"value\":\"#FFC300\"},\"line_alpha\":{\"value\":0.1},\"line_color\":{\"value\":\"#FFC300\"},\"top\":{\"expr\":{\"id\":\"8475\"}},\"width\":{\"value\":0.9},\"x\":{\"field\":\"years\"}},\"id\":\"8481\",\"type\":\"VBar\"},{\"attributes\":{\"data_source\":{\"id\":\"8493\"},\"glyph\":{\"id\":\"8495\"},\"hover_glyph\":null,\"muted_glyph\":null,\"name\":\"tv series\",\"nonselection_glyph\":{\"id\":\"8496\"},\"selection_glyph\":null,\"view\":{\"id\":\"8498\"}},\"id\":\"8497\",\"type\":\"GlyphRenderer\"},{\"attributes\":{\"fields\":[\"movies\",\"tv series\"]},\"id\":\"8477\",\"type\":\"Stack\"},{\"attributes\":{},\"id\":\"8487\",\"type\":\"CategoricalTickFormatter\"},{\"attributes\":{\"label\":{\"value\":\"movies\"},\"renderers\":[{\"id\":\"8482\"}]},\"id\":\"8492\",\"type\":\"LegendItem\"},{\"attributes\":{\"items\":[{\"id\":\"8492\"},{\"id\":\"8508\"}],\"location\":\"top_center\",\"orientation\":\"horizontal\"},\"id\":\"8491\",\"type\":\"Legend\"},{\"attributes\":{},\"id\":\"8485\",\"type\":\"BasicTickFormatter\"},{\"attributes\":{\"source\":{\"id\":\"8478\"}},\"id\":\"8483\",\"type\":\"CDSView\"},{\"attributes\":{},\"id\":\"8460\",\"type\":\"CategoricalScale\"},{\"attributes\":{},\"id\":\"8465\",\"type\":\"CategoricalTicker\"},{\"attributes\":{\"data_source\":{\"id\":\"8478\"},\"glyph\":{\"id\":\"8480\"},\"hover_glyph\":null,\"muted_glyph\":null,\"name\":\"movies\",\"nonselection_glyph\":{\"id\":\"8481\"},\"selection_glyph\":null,\"view\":{\"id\":\"8483\"}},\"id\":\"8482\",\"type\":\"GlyphRenderer\"},{\"attributes\":{\"data\":{\"movies\":[0,10,23,35,22,17,63,19],\"tv series\":[0,8,13,11,14,16,19,6],\"years\":[\"2014\",\"2015\",\"2016\",\"2017\",\"2018\",\"2019\",\"2020\",\"2021\"]},\"selected\":{\"id\":\"8490\"},\"selection_policy\":{\"id\":\"8489\"}},\"id\":\"8478\",\"type\":\"ColumnDataSource\"},{\"attributes\":{\"text\":\"Yearly Distribution by Type\"},\"id\":\"8454\",\"type\":\"Title\"},{\"attributes\":{\"axis\":{\"id\":\"8467\"},\"dimension\":1,\"ticker\":null},\"id\":\"8470\",\"type\":\"Grid\"},{\"attributes\":{\"bottom\":{\"expr\":{\"id\":\"8476\"}},\"fill_color\":{\"value\":\"#058C0B\"},\"line_color\":{\"value\":\"#058C0B\"},\"top\":{\"expr\":{\"id\":\"8477\"}},\"width\":{\"value\":0.9},\"x\":{\"field\":\"years\"}},\"id\":\"8495\",\"type\":\"VBar\"},{\"attributes\":{},\"id\":\"8507\",\"type\":\"Selection\"},{\"attributes\":{\"fields\":[\"movies\"]},\"id\":\"8475\",\"type\":\"Stack\"}],\"root_ids\":[\"8453\"]},\"title\":\"Bokeh Application\",\"version\":\"2.2.3\"}};\n",
       "  var render_items = [{\"docid\":\"4a48ff2d-b8f8-4285-a3ca-fa6ae1067c41\",\"root_ids\":[\"8453\"],\"roots\":{\"8453\":\"bd7731f3-3cce-4a61-9d94-52a84f96e421\"}}];\n",
       "  root.Bokeh.embed.embed_items_notebook(docs_json, render_items);\n",
       "\n",
       "  }\n",
       "  if (root.Bokeh !== undefined) {\n",
       "    embed_document(root);\n",
       "  } else {\n",
       "    var attempts = 0;\n",
       "    var timer = setInterval(function(root) {\n",
       "      if (root.Bokeh !== undefined) {\n",
       "        clearInterval(timer);\n",
       "        embed_document(root);\n",
       "      } else {\n",
       "        attempts++;\n",
       "        if (attempts > 100) {\n",
       "          clearInterval(timer);\n",
       "          console.log(\"Bokeh: ERROR: Unable to run BokehJS code because BokehJS library is missing\");\n",
       "        }\n",
       "      }\n",
       "    }, 10, root)\n",
       "  }\n",
       "})(window);"
      ],
      "application/vnd.bokehjs_exec.v0+json": ""
     },
     "metadata": {
      "application/vnd.bokehjs_exec.v0+json": {
       "id": "8453"
      }
     },
     "output_type": "display_data"
    }
   ],
   "source": [
    "years, counts, mov, tv = yearly_stats_distribution()\n",
    "\n",
    "type_data = {\n",
    "    'years'    : years,\n",
    "    'movies'   : mov,\n",
    "    'tv series': tv\n",
    "            }\n",
    "\n",
    "p = figure(x_range=years, plot_height=250,y_range=(min(counts),max(counts)+20), title=\"Yearly Distribution by Type\",\n",
    "           toolbar_location=None, tools=\"hover\", tooltips=\"$name in @years: @$name\")\n",
    "\n",
    "p.vbar_stack(['movies', 'tv series'], x='years', width=0.9, color=[\"#FFC300\", \"#058C0B\"], source=type_data,\n",
    "             legend_label=['movies', 'tv series'])\n",
    "\n",
    "p.y_range.start = 0\n",
    "p.x_range.range_padding = 0.1\n",
    "p.xgrid.grid_line_color = None\n",
    "p.axis.minor_tick_line_color = None\n",
    "p.outline_line_color = None\n",
    "p.legend.location = \"top_center\"\n",
    "p.legend.orientation = \"horizontal\"\n",
    "\n",
    "show(p)"
   ]
  },
  {
   "cell_type": "markdown",
   "metadata": {},
   "source": [
    "## Genre-based analysis"
   ]
  },
  {
   "cell_type": "code",
   "execution_count": 62,
   "metadata": {},
   "outputs": [],
   "source": [
    "def build_genre_dict():\n",
    "    genres = {}\n",
    "\n",
    "    for ID, data in movieRatings.items():\n",
    "        genre_current = data['genre'].split(',')\n",
    "        for g in genre_current:\n",
    "            g = g.strip()\n",
    "            try:\n",
    "                genres[g] += 1\n",
    "            except KeyError:\n",
    "                genres[g] = 1\n",
    "            \n",
    "    return genres"
   ]
  },
  {
   "cell_type": "code",
   "execution_count": 63,
   "metadata": {},
   "outputs": [
    {
     "data": {
      "text/plain": [
       "{'Crime': 109,\n",
       " 'Drama': 187,\n",
       " 'Thriller': 78,\n",
       " 'Comedy': 53,\n",
       " 'Mystery': 55,\n",
       " 'Adventure': 34,\n",
       " 'Fantasy': 11,\n",
       " 'Biography': 29,\n",
       " 'History': 20,\n",
       " 'Documentary': 24,\n",
       " 'Horror': 20,\n",
       " 'Sci-Fi': 26,\n",
       " 'Action': 46,\n",
       " 'Animation': 5,\n",
       " 'Romance': 18,\n",
       " 'Family': 2,\n",
       " 'War': 7,\n",
       " 'Sport': 5,\n",
       " 'News': 1,\n",
       " 'Talk-Show': 2,\n",
       " 'Music': 2}"
      ]
     },
     "execution_count": 63,
     "metadata": {},
     "output_type": "execute_result"
    }
   ],
   "source": [
    "genre_dict = build_genre_dict()\n",
    "genre_dict"
   ]
  },
  {
   "cell_type": "code",
   "execution_count": 64,
   "metadata": {},
   "outputs": [],
   "source": [
    "# Genre-based on yearly data\n",
    "def genre_yearly_data():\n",
    "    current_year = datetime.datetime.now().year + 1\n",
    "    # TODO: 2014 should become 'signup date'\n",
    "    possible_years = [str(i) for i in range(2014, current_year)]\n",
    "\n",
    "    current_year_mov, current_year_tv = None, None\n",
    "    yearly_genres = {}\n",
    "    \n",
    "    for year in possible_years:\n",
    "        \n",
    "        yearly_genres[year] = {}\n",
    "        \n",
    "        current_year_mov, current_year_tv = retrieve_year_specific_data(year)\n",
    "        current_year_data = current_year_mov + current_year_tv\n",
    "        \n",
    "        for data in current_year_data:\n",
    "            for g in data['genre'].split(','):\n",
    "                g = g.strip()\n",
    "                try:\n",
    "                    yearly_genres[year][g] += 1\n",
    "                except KeyError:\n",
    "                    yearly_genres[year][g] = 1\n",
    "                    \n",
    "    return yearly_genres"
   ]
  },
  {
   "cell_type": "code",
   "execution_count": 65,
   "metadata": {},
   "outputs": [
    {
     "data": {
      "text/plain": [
       "{'2014': {},\n",
       " '2015': {'Crime': 4,\n",
       "  'Mystery': 1,\n",
       "  'Thriller': 6,\n",
       "  'Comedy': 6,\n",
       "  'Romance': 5,\n",
       "  'Action': 4,\n",
       "  'Adventure': 3,\n",
       "  'Sci-Fi': 2,\n",
       "  'Biography': 2,\n",
       "  'Drama': 11,\n",
       "  'Music': 1,\n",
       "  'History': 1},\n",
       " '2016': {'Crime': 9,\n",
       "  'Drama': 27,\n",
       "  'Mystery': 8,\n",
       "  'Action': 7,\n",
       "  'Adventure': 5,\n",
       "  'Fantasy': 4,\n",
       "  'Thriller': 3,\n",
       "  'Comedy': 9,\n",
       "  'Romance': 2,\n",
       "  'Sci-Fi': 2,\n",
       "  'Biography': 8,\n",
       "  'Horror': 3,\n",
       "  'Documentary': 2,\n",
       "  'History': 3,\n",
       "  'War': 3,\n",
       "  'Talk-Show': 1,\n",
       "  'Music': 1,\n",
       "  'Animation': 1},\n",
       " '2017': {'Drama': 30,\n",
       "  'Sci-Fi': 6,\n",
       "  'Thriller': 13,\n",
       "  'Crime': 16,\n",
       "  'Romance': 4,\n",
       "  'Biography': 7,\n",
       "  'Action': 11,\n",
       "  'Adventure': 6,\n",
       "  'Comedy': 5,\n",
       "  'Horror': 4,\n",
       "  'Documentary': 2,\n",
       "  'History': 4,\n",
       "  'Fantasy': 2,\n",
       "  'Mystery': 7,\n",
       "  'War': 1,\n",
       "  'News': 1,\n",
       "  'Talk-Show': 1},\n",
       " '2018': {'Drama': 19,\n",
       "  'Mystery': 8,\n",
       "  'Thriller': 13,\n",
       "  'Action': 9,\n",
       "  'Adventure': 6,\n",
       "  'Sci-Fi': 6,\n",
       "  'Crime': 12,\n",
       "  'Biography': 2,\n",
       "  'Sport': 2,\n",
       "  'History': 2,\n",
       "  'Comedy': 2,\n",
       "  'Horror': 2,\n",
       "  'Documentary': 7,\n",
       "  'Family': 1,\n",
       "  'Fantasy': 2},\n",
       " '2019': {'Crime': 14,\n",
       "  'Drama': 20,\n",
       "  'Comedy': 3,\n",
       "  'Biography': 3,\n",
       "  'Action': 9,\n",
       "  'Adventure': 7,\n",
       "  'Sci-Fi': 7,\n",
       "  'History': 3,\n",
       "  'Animation': 1,\n",
       "  'Thriller': 9,\n",
       "  'Horror': 2,\n",
       "  'Mystery': 7,\n",
       "  'Documentary': 2,\n",
       "  'Romance': 1},\n",
       " '2020': {'Drama': 61,\n",
       "  'Mystery': 15,\n",
       "  'Thriller': 24,\n",
       "  'Crime': 42,\n",
       "  'Animation': 2,\n",
       "  'Adventure': 5,\n",
       "  'Comedy': 24,\n",
       "  'Romance': 6,\n",
       "  'Horror': 5,\n",
       "  'History': 5,\n",
       "  'Action': 5,\n",
       "  'Biography': 6,\n",
       "  'War': 3,\n",
       "  'Sport': 3,\n",
       "  'Fantasy': 1,\n",
       "  'Sci-Fi': 2,\n",
       "  'Documentary': 9,\n",
       "  'Family': 1},\n",
       " '2021': {'Crime': 12,\n",
       "  'Drama': 19,\n",
       "  'Thriller': 10,\n",
       "  'Comedy': 4,\n",
       "  'Mystery': 9,\n",
       "  'Biography': 1,\n",
       "  'History': 2,\n",
       "  'Horror': 4,\n",
       "  'Sci-Fi': 1,\n",
       "  'Fantasy': 2,\n",
       "  'Animation': 1,\n",
       "  'Adventure': 2,\n",
       "  'Documentary': 2,\n",
       "  'Action': 1}}"
      ]
     },
     "execution_count": 65,
     "metadata": {},
     "output_type": "execute_result"
    }
   ],
   "source": [
    "genre_yearly_data()"
   ]
  },
  {
   "cell_type": "code",
   "execution_count": 66,
   "metadata": {},
   "outputs": [],
   "source": [
    "def build_data_source_for_graph():\n",
    "    all_possible_genres_seen = build_genre_dict().keys()\n",
    "\n",
    "    source = {}\n",
    "\n",
    "    yearly_data = genre_yearly_data()\n",
    "\n",
    "    source['years'] = [str(i) for i in yearly_data.keys()]\n",
    "\n",
    "    for genre in all_possible_genres_seen:\n",
    "        source[genre] = [0 for i in range(0, len(source['years']))]\n",
    "\n",
    "    for n, year in enumerate(yearly_data.keys()):\n",
    "        genres = yearly_data[year]\n",
    "        for g in genres:\n",
    "            source[g][n] = genres[g]\n",
    "\n",
    "    return all_possible_genres_seen, source"
   ]
  },
  {
   "cell_type": "code",
   "execution_count": 67,
   "metadata": {},
   "outputs": [
    {
     "data": {
      "text/html": [
       "\n",
       "\n",
       "\n",
       "\n",
       "\n",
       "\n",
       "  <div class=\"bk-root\" id=\"dcff05ab-e901-4600-884a-f1c9e51f21f9\" data-root-id=\"2723\"></div>\n"
      ]
     },
     "metadata": {},
     "output_type": "display_data"
    },
    {
     "data": {
      "application/javascript": [
       "(function(root) {\n",
       "  function embed_document(root) {\n",
       "    \n",
       "  var docs_json = {\"4f95d281-695f-4bd3-99ff-8ebaca47b533\":{\"roots\":{\"references\":[{\"attributes\":{\"below\":[{\"id\":\"2734\"},{\"id\":\"2799\"}],\"center\":[{\"id\":\"2736\"},{\"id\":\"2740\"},{\"id\":\"2799\"}],\"left\":[{\"id\":\"2737\"}],\"outline_line_color\":null,\"plot_height\":450,\"plot_width\":1000,\"renderers\":[{\"id\":\"2790\"},{\"id\":\"2805\"},{\"id\":\"2821\"},{\"id\":\"2839\"},{\"id\":\"2859\"},{\"id\":\"2881\"},{\"id\":\"2905\"},{\"id\":\"2931\"},{\"id\":\"2959\"},{\"id\":\"2989\"},{\"id\":\"3021\"},{\"id\":\"3055\"},{\"id\":\"3091\"},{\"id\":\"3129\"},{\"id\":\"3169\"},{\"id\":\"3211\"},{\"id\":\"3255\"},{\"id\":\"3301\"},{\"id\":\"3349\"},{\"id\":\"3399\"},{\"id\":\"3451\"}],\"title\":{\"id\":\"2724\"},\"toolbar\":{\"id\":\"2742\"},\"toolbar_location\":null,\"x_range\":{\"id\":\"2726\"},\"x_scale\":{\"id\":\"2730\"},\"y_range\":{\"id\":\"2728\"},\"y_scale\":{\"id\":\"2732\"}},\"id\":\"2723\",\"subtype\":\"Figure\",\"type\":\"Plot\"},{\"attributes\":{\"fields\":[\"Crime\",\"Drama\",\"Thriller\",\"Comedy\",\"Mystery\",\"Adventure\",\"Fantasy\",\"Biography\",\"History\",\"Documentary\",\"Horror\",\"Sci-Fi\",\"Action\",\"Animation\",\"Romance\",\"Family\"]},\"id\":\"2775\",\"type\":\"Stack\"},{\"attributes\":{\"fields\":[\"Crime\",\"Drama\",\"Thriller\",\"Comedy\",\"Mystery\",\"Adventure\"]},\"id\":\"2755\",\"type\":\"Stack\"},{\"attributes\":{\"fields\":[\"Crime\",\"Drama\",\"Thriller\",\"Comedy\",\"Mystery\",\"Adventure\",\"Fantasy\",\"Biography\",\"History\",\"Documentary\"]},\"id\":\"2763\",\"type\":\"Stack\"},{\"attributes\":{},\"id\":\"3294\",\"type\":\"UnionRenderers\"},{\"attributes\":{},\"id\":\"3295\",\"type\":\"Selection\"},{\"attributes\":{\"fields\":[\"Crime\",\"Drama\",\"Thriller\",\"Comedy\",\"Mystery\",\"Adventure\",\"Fantasy\",\"Biography\",\"History\",\"Documentary\",\"Horror\",\"Sci-Fi\",\"Action\",\"Animation\",\"Romance\",\"Family\"]},\"id\":\"2776\",\"type\":\"Stack\"},{\"attributes\":{\"callback\":null,\"tooltips\":\"$name in @years: @$name\"},\"id\":\"2741\",\"type\":\"HoverTool\"},{\"attributes\":{\"fields\":[\"Crime\",\"Drama\",\"Thriller\",\"Comedy\",\"Mystery\",\"Adventure\",\"Fantasy\",\"Biography\",\"History\",\"Documentary\",\"Horror\",\"Sci-Fi\",\"Action\",\"Animation\",\"Romance\",\"Family\",\"War\",\"Sport\",\"News\",\"Talk-Show\",\"Music\"]},\"id\":\"2785\",\"type\":\"Stack\"},{\"attributes\":{\"fields\":[]},\"id\":\"2744\",\"type\":\"Stack\"},{\"attributes\":{\"fields\":[\"Crime\",\"Drama\",\"Thriller\",\"Comedy\",\"Mystery\",\"Adventure\",\"Fantasy\",\"Biography\",\"History\",\"Documentary\",\"Horror\",\"Sci-Fi\",\"Action\",\"Animation\",\"Romance\",\"Family\",\"War\",\"Sport\",\"News\"]},\"id\":\"2781\",\"type\":\"Stack\"},{\"attributes\":{},\"id\":\"2853\",\"type\":\"Selection\"},{\"attributes\":{\"active_drag\":\"auto\",\"active_inspect\":\"auto\",\"active_multi\":null,\"active_scroll\":\"auto\",\"active_tap\":\"auto\",\"tools\":[{\"id\":\"2741\"}]},\"id\":\"2742\",\"type\":\"Toolbar\"},{\"attributes\":{},\"id\":\"2735\",\"type\":\"CategoricalTicker\"},{\"attributes\":{\"fields\":[\"Crime\",\"Drama\",\"Thriller\",\"Comedy\"]},\"id\":\"2752\",\"type\":\"Stack\"},{\"attributes\":{\"text\":\"Genre Distribution per Year\"},\"id\":\"2724\",\"type\":\"Title\"},{\"attributes\":{\"factors\":[\"2014\",\"2015\",\"2016\",\"2017\",\"2018\",\"2019\",\"2020\",\"2021\"],\"range_padding\":0.15},\"id\":\"2726\",\"type\":\"FactorRange\"},{\"attributes\":{\"axis\":{\"id\":\"2734\"},\"grid_line_color\":null,\"ticker\":null},\"id\":\"2736\",\"type\":\"Grid\"},{\"attributes\":{\"data_source\":{\"id\":\"2817\"},\"glyph\":{\"id\":\"2819\"},\"hover_glyph\":null,\"muted_glyph\":null,\"name\":\"Thriller\",\"nonselection_glyph\":{\"id\":\"2820\"},\"selection_glyph\":null,\"view\":{\"id\":\"2822\"}},\"id\":\"2821\",\"type\":\"GlyphRenderer\"},{\"attributes\":{\"fields\":[\"Crime\",\"Drama\",\"Thriller\",\"Comedy\",\"Mystery\",\"Adventure\",\"Fantasy\",\"Biography\",\"History\",\"Documentary\",\"Horror\",\"Sci-Fi\",\"Action\",\"Animation\",\"Romance\"]},\"id\":\"2774\",\"type\":\"Stack\"},{\"attributes\":{\"bottom\":{\"expr\":{\"id\":\"2758\"}},\"fill_alpha\":{\"value\":0.1},\"fill_color\":{\"value\":\"#D89A55\"},\"line_alpha\":{\"value\":0.1},\"line_color\":{\"value\":\"#D89A55\"},\"top\":{\"expr\":{\"id\":\"2759\"}},\"width\":{\"value\":0.3},\"x\":{\"field\":\"years\"}},\"id\":\"2930\",\"type\":\"VBar\"},{\"attributes\":{\"fields\":[\"Crime\",\"Drama\",\"Thriller\",\"Comedy\",\"Mystery\",\"Adventure\",\"Fantasy\",\"Biography\",\"History\",\"Documentary\",\"Horror\",\"Sci-Fi\",\"Action\",\"Animation\",\"Romance\"]},\"id\":\"2773\",\"type\":\"Stack\"},{\"attributes\":{\"fields\":[\"Crime\",\"Drama\",\"Thriller\",\"Comedy\",\"Mystery\",\"Adventure\"]},\"id\":\"2756\",\"type\":\"Stack\"},{\"attributes\":{\"fields\":[\"Crime\",\"Drama\",\"Thriller\",\"Comedy\",\"Mystery\",\"Adventure\",\"Fantasy\",\"Biography\",\"History\"]},\"id\":\"2762\",\"type\":\"Stack\"},{\"attributes\":{},\"id\":\"3342\",\"type\":\"UnionRenderers\"},{\"attributes\":{},\"id\":\"3343\",\"type\":\"Selection\"},{\"attributes\":{\"bottom\":{\"expr\":{\"id\":\"2744\"}},\"fill_alpha\":{\"value\":0.1},\"fill_color\":{\"value\":\"#11BE63\"},\"line_alpha\":{\"value\":0.1},\"line_color\":{\"value\":\"#11BE63\"},\"top\":{\"expr\":{\"id\":\"2745\"}},\"width\":{\"value\":0.3},\"x\":{\"field\":\"years\"}},\"id\":\"2789\",\"type\":\"VBar\"},{\"attributes\":{\"fields\":[\"Crime\",\"Drama\",\"Thriller\"]},\"id\":\"2749\",\"type\":\"Stack\"},{\"attributes\":{\"fields\":[\"Crime\",\"Drama\"]},\"id\":\"2747\",\"type\":\"Stack\"},{\"attributes\":{\"fields\":[\"Crime\",\"Drama\",\"Thriller\",\"Comedy\",\"Mystery\",\"Adventure\",\"Fantasy\",\"Biography\",\"History\"]},\"id\":\"2761\",\"type\":\"Stack\"},{\"attributes\":{\"fields\":[\"Crime\",\"Drama\",\"Thriller\",\"Comedy\",\"Mystery\",\"Adventure\",\"Fantasy\",\"Biography\",\"History\",\"Documentary\",\"Horror\",\"Sci-Fi\",\"Action\"]},\"id\":\"2770\",\"type\":\"Stack\"},{\"attributes\":{\"fields\":[\"Crime\",\"Drama\",\"Thriller\"]},\"id\":\"2750\",\"type\":\"Stack\"},{\"attributes\":{\"fields\":[\"Crime\",\"Drama\",\"Thriller\",\"Comedy\",\"Mystery\",\"Adventure\",\"Fantasy\"]},\"id\":\"2757\",\"type\":\"Stack\"},{\"attributes\":{\"items\":[{\"id\":\"2800\"},{\"id\":\"2816\"},{\"id\":\"2834\"},{\"id\":\"2854\"},{\"id\":\"2876\"},{\"id\":\"2900\"},{\"id\":\"2926\"},{\"id\":\"2954\"},{\"id\":\"2984\"},{\"id\":\"3016\"},{\"id\":\"3050\"},{\"id\":\"3086\"},{\"id\":\"3124\"},{\"id\":\"3164\"},{\"id\":\"3206\"},{\"id\":\"3250\"},{\"id\":\"3296\"},{\"id\":\"3344\"},{\"id\":\"3394\"},{\"id\":\"3446\"},{\"id\":\"3500\"}],\"orientation\":\"horizontal\"},\"id\":\"2799\",\"type\":\"Legend\"},{\"attributes\":{},\"id\":\"2732\",\"type\":\"LinearScale\"},{\"attributes\":{\"bottom\":{\"expr\":{\"id\":\"2744\"}},\"fill_color\":{\"value\":\"#11BE63\"},\"line_color\":{\"value\":\"#11BE63\"},\"top\":{\"expr\":{\"id\":\"2745\"}},\"width\":{\"value\":0.3},\"x\":{\"field\":\"years\"}},\"id\":\"2788\",\"type\":\"VBar\"},{\"attributes\":{\"fields\":[\"Crime\",\"Drama\",\"Thriller\",\"Comedy\",\"Mystery\",\"Adventure\",\"Fantasy\",\"Biography\",\"History\",\"Documentary\",\"Horror\",\"Sci-Fi\",\"Action\"]},\"id\":\"2769\",\"type\":\"Stack\"},{\"attributes\":{\"fields\":[\"Crime\",\"Drama\",\"Thriller\",\"Comedy\",\"Mystery\",\"Adventure\",\"Fantasy\",\"Biography\",\"History\",\"Documentary\",\"Horror\",\"Sci-Fi\",\"Action\",\"Animation\",\"Romance\",\"Family\",\"War\",\"Sport\"]},\"id\":\"2779\",\"type\":\"Stack\"},{\"attributes\":{\"end\":200},\"id\":\"2728\",\"type\":\"Range1d\"},{\"attributes\":{\"data_source\":{\"id\":\"2786\"},\"glyph\":{\"id\":\"2788\"},\"hover_glyph\":null,\"muted_glyph\":null,\"name\":\"Crime\",\"nonselection_glyph\":{\"id\":\"2789\"},\"selection_glyph\":null,\"view\":{\"id\":\"2791\"}},\"id\":\"2790\",\"type\":\"GlyphRenderer\"},{\"attributes\":{\"source\":{\"id\":\"3251\"}},\"id\":\"3256\",\"type\":\"CDSView\"},{\"attributes\":{\"axis\":{\"id\":\"2737\"},\"dimension\":1,\"ticker\":null},\"id\":\"2740\",\"type\":\"Grid\"},{\"attributes\":{\"fields\":[\"Crime\"]},\"id\":\"2746\",\"type\":\"Stack\"},{\"attributes\":{\"fields\":[\"Crime\",\"Drama\"]},\"id\":\"2748\",\"type\":\"Stack\"},{\"attributes\":{\"source\":{\"id\":\"3345\"}},\"id\":\"3350\",\"type\":\"CDSView\"},{\"attributes\":{\"fields\":[\"Crime\",\"Drama\",\"Thriller\",\"Comedy\",\"Mystery\",\"Adventure\",\"Fantasy\",\"Biography\",\"History\",\"Documentary\",\"Horror\"]},\"id\":\"2765\",\"type\":\"Stack\"},{\"attributes\":{\"bottom\":{\"expr\":{\"id\":\"2780\"}},\"fill_color\":{\"value\":\"#9CDBCD\"},\"line_color\":{\"value\":\"#9CDBCD\"},\"top\":{\"expr\":{\"id\":\"2781\"}},\"width\":{\"value\":0.3},\"x\":{\"field\":\"years\"}},\"id\":\"3347\",\"type\":\"VBar\"},{\"attributes\":{\"fields\":[\"Crime\",\"Drama\",\"Thriller\",\"Comedy\"]},\"id\":\"2751\",\"type\":\"Stack\"},{\"attributes\":{\"data_source\":{\"id\":\"3345\"},\"glyph\":{\"id\":\"3347\"},\"hover_glyph\":null,\"muted_glyph\":null,\"name\":\"News\",\"nonselection_glyph\":{\"id\":\"3348\"},\"selection_glyph\":null,\"view\":{\"id\":\"3350\"}},\"id\":\"3349\",\"type\":\"GlyphRenderer\"},{\"attributes\":{\"fields\":[\"Crime\"]},\"id\":\"2745\",\"type\":\"Stack\"},{\"attributes\":{\"fields\":[\"Crime\",\"Drama\",\"Thriller\",\"Comedy\",\"Mystery\",\"Adventure\",\"Fantasy\"]},\"id\":\"2758\",\"type\":\"Stack\"},{\"attributes\":{\"data\":{\"Action\":[0,4,7,11,9,9,5,1],\"Adventure\":[0,3,5,6,6,7,5,2],\"Animation\":[0,0,1,0,0,1,2,1],\"Biography\":[0,2,8,7,2,3,6,1],\"Comedy\":[0,6,9,5,2,3,24,4],\"Crime\":[0,4,9,16,12,14,42,12],\"Documentary\":[0,0,2,2,7,2,9,2],\"Drama\":[0,11,27,30,19,20,61,19],\"Family\":[0,0,0,0,1,0,1,0],\"Fantasy\":[0,0,4,2,2,0,1,2],\"History\":[0,1,3,4,2,3,5,2],\"Horror\":[0,0,3,4,2,2,5,4],\"Music\":[0,1,1,0,0,0,0,0],\"Mystery\":[0,1,8,7,8,7,15,9],\"News\":[0,0,0,1,0,0,0,0],\"Romance\":[0,5,2,4,0,1,6,0],\"Sci-Fi\":[0,2,2,6,6,7,2,1],\"Sport\":[0,0,0,0,2,0,3,0],\"Talk-Show\":[0,0,1,1,0,0,0,0],\"Thriller\":[0,6,3,13,13,9,24,10],\"War\":[0,0,3,1,0,0,3,0],\"years\":[\"2014\",\"2015\",\"2016\",\"2017\",\"2018\",\"2019\",\"2020\",\"2021\"]},\"selected\":{\"id\":\"2798\"},\"selection_policy\":{\"id\":\"2797\"}},\"id\":\"2786\",\"type\":\"ColumnDataSource\"},{\"attributes\":{\"bottom\":{\"expr\":{\"id\":\"2780\"}},\"fill_alpha\":{\"value\":0.1},\"fill_color\":{\"value\":\"#9CDBCD\"},\"line_alpha\":{\"value\":0.1},\"line_color\":{\"value\":\"#9CDBCD\"},\"top\":{\"expr\":{\"id\":\"2781\"}},\"width\":{\"value\":0.3},\"x\":{\"field\":\"years\"}},\"id\":\"3348\",\"type\":\"VBar\"},{\"attributes\":{\"formatter\":{\"id\":\"2795\"},\"minor_tick_line_color\":null,\"ticker\":{\"id\":\"2735\"}},\"id\":\"2734\",\"type\":\"CategoricalAxis\"},{\"attributes\":{\"label\":{\"value\":\"News\"},\"renderers\":[{\"id\":\"3349\"}]},\"id\":\"3394\",\"type\":\"LegendItem\"},{\"attributes\":{\"fields\":[\"Crime\",\"Drama\",\"Thriller\",\"Comedy\",\"Mystery\"]},\"id\":\"2753\",\"type\":\"Stack\"},{\"attributes\":{\"fields\":[\"Crime\",\"Drama\",\"Thriller\",\"Comedy\",\"Mystery\",\"Adventure\",\"Fantasy\",\"Biography\",\"History\",\"Documentary\",\"Horror\",\"Sci-Fi\",\"Action\",\"Animation\",\"Romance\",\"Family\",\"War\",\"Sport\",\"News\",\"Talk-Show\"]},\"id\":\"2783\",\"type\":\"Stack\"},{\"attributes\":{\"data\":{\"Action\":[0,4,7,11,9,9,5,1],\"Adventure\":[0,3,5,6,6,7,5,2],\"Animation\":[0,0,1,0,0,1,2,1],\"Biography\":[0,2,8,7,2,3,6,1],\"Comedy\":[0,6,9,5,2,3,24,4],\"Crime\":[0,4,9,16,12,14,42,12],\"Documentary\":[0,0,2,2,7,2,9,2],\"Drama\":[0,11,27,30,19,20,61,19],\"Family\":[0,0,0,0,1,0,1,0],\"Fantasy\":[0,0,4,2,2,0,1,2],\"History\":[0,1,3,4,2,3,5,2],\"Horror\":[0,0,3,4,2,2,5,4],\"Music\":[0,1,1,0,0,0,0,0],\"Mystery\":[0,1,8,7,8,7,15,9],\"News\":[0,0,0,1,0,0,0,0],\"Romance\":[0,5,2,4,0,1,6,0],\"Sci-Fi\":[0,2,2,6,6,7,2,1],\"Sport\":[0,0,0,0,2,0,3,0],\"Talk-Show\":[0,0,1,1,0,0,0,0],\"Thriller\":[0,6,3,13,13,9,24,10],\"War\":[0,0,3,1,0,0,3,0],\"years\":[\"2014\",\"2015\",\"2016\",\"2017\",\"2018\",\"2019\",\"2020\",\"2021\"]},\"selected\":{\"id\":\"3445\"},\"selection_policy\":{\"id\":\"3444\"}},\"id\":\"3395\",\"type\":\"ColumnDataSource\"},{\"attributes\":{\"fields\":[\"Crime\",\"Drama\",\"Thriller\",\"Comedy\",\"Mystery\",\"Adventure\",\"Fantasy\",\"Biography\",\"History\",\"Documentary\",\"Horror\",\"Sci-Fi\",\"Action\",\"Animation\",\"Romance\",\"Family\",\"War\",\"Sport\",\"News\"]},\"id\":\"2782\",\"type\":\"Stack\"},{\"attributes\":{\"source\":{\"id\":\"2786\"}},\"id\":\"2791\",\"type\":\"CDSView\"},{\"attributes\":{},\"id\":\"2738\",\"type\":\"BasicTicker\"},{\"attributes\":{},\"id\":\"3392\",\"type\":\"UnionRenderers\"},{\"attributes\":{},\"id\":\"3393\",\"type\":\"Selection\"},{\"attributes\":{\"fields\":[\"Crime\",\"Drama\",\"Thriller\",\"Comedy\",\"Mystery\",\"Adventure\",\"Fantasy\",\"Biography\",\"History\",\"Documentary\",\"Horror\",\"Sci-Fi\",\"Action\",\"Animation\",\"Romance\",\"Family\",\"War\",\"Sport\",\"News\",\"Talk-Show\"]},\"id\":\"2784\",\"type\":\"Stack\"},{\"attributes\":{\"formatter\":{\"id\":\"2793\"},\"minor_tick_line_color\":null,\"ticker\":{\"id\":\"2738\"}},\"id\":\"2737\",\"type\":\"LinearAxis\"},{\"attributes\":{\"fields\":[\"Crime\",\"Drama\",\"Thriller\",\"Comedy\",\"Mystery\"]},\"id\":\"2754\",\"type\":\"Stack\"},{\"attributes\":{\"fields\":[\"Crime\",\"Drama\",\"Thriller\",\"Comedy\",\"Mystery\",\"Adventure\",\"Fantasy\",\"Biography\"]},\"id\":\"2759\",\"type\":\"Stack\"},{\"attributes\":{\"fields\":[\"Crime\",\"Drama\",\"Thriller\",\"Comedy\",\"Mystery\",\"Adventure\",\"Fantasy\",\"Biography\",\"History\",\"Documentary\",\"Horror\",\"Sci-Fi\",\"Action\",\"Animation\",\"Romance\",\"Family\",\"War\"]},\"id\":\"2777\",\"type\":\"Stack\"},{\"attributes\":{\"fields\":[\"Crime\",\"Drama\",\"Thriller\",\"Comedy\",\"Mystery\",\"Adventure\",\"Fantasy\",\"Biography\"]},\"id\":\"2760\",\"type\":\"Stack\"},{\"attributes\":{\"fields\":[\"Crime\",\"Drama\",\"Thriller\",\"Comedy\",\"Mystery\",\"Adventure\",\"Fantasy\",\"Biography\",\"History\",\"Documentary\",\"Horror\",\"Sci-Fi\",\"Action\",\"Animation\",\"Romance\",\"Family\",\"War\",\"Sport\"]},\"id\":\"2780\",\"type\":\"Stack\"},{\"attributes\":{\"source\":{\"id\":\"2817\"}},\"id\":\"2822\",\"type\":\"CDSView\"},{\"attributes\":{\"data\":{\"Action\":[0,4,7,11,9,9,5,1],\"Adventure\":[0,3,5,6,6,7,5,2],\"Animation\":[0,0,1,0,0,1,2,1],\"Biography\":[0,2,8,7,2,3,6,1],\"Comedy\":[0,6,9,5,2,3,24,4],\"Crime\":[0,4,9,16,12,14,42,12],\"Documentary\":[0,0,2,2,7,2,9,2],\"Drama\":[0,11,27,30,19,20,61,19],\"Family\":[0,0,0,0,1,0,1,0],\"Fantasy\":[0,0,4,2,2,0,1,2],\"History\":[0,1,3,4,2,3,5,2],\"Horror\":[0,0,3,4,2,2,5,4],\"Music\":[0,1,1,0,0,0,0,0],\"Mystery\":[0,1,8,7,8,7,15,9],\"News\":[0,0,0,1,0,0,0,0],\"Romance\":[0,5,2,4,0,1,6,0],\"Sci-Fi\":[0,2,2,6,6,7,2,1],\"Sport\":[0,0,0,0,2,0,3,0],\"Talk-Show\":[0,0,1,1,0,0,0,0],\"Thriller\":[0,6,3,13,13,9,24,10],\"War\":[0,0,3,1,0,0,3,0],\"years\":[\"2014\",\"2015\",\"2016\",\"2017\",\"2018\",\"2019\",\"2020\",\"2021\"]},\"selected\":{\"id\":\"2815\"},\"selection_policy\":{\"id\":\"2814\"}},\"id\":\"2801\",\"type\":\"ColumnDataSource\"},{\"attributes\":{},\"id\":\"2730\",\"type\":\"CategoricalScale\"},{\"attributes\":{\"fields\":[\"Crime\",\"Drama\",\"Thriller\",\"Comedy\",\"Mystery\",\"Adventure\",\"Fantasy\",\"Biography\",\"History\",\"Documentary\",\"Horror\"]},\"id\":\"2766\",\"type\":\"Stack\"},{\"attributes\":{\"fields\":[\"Crime\",\"Drama\",\"Thriller\",\"Comedy\",\"Mystery\",\"Adventure\",\"Fantasy\",\"Biography\",\"History\",\"Documentary\",\"Horror\",\"Sci-Fi\",\"Action\",\"Animation\",\"Romance\",\"Family\",\"War\"]},\"id\":\"2778\",\"type\":\"Stack\"},{\"attributes\":{\"bottom\":{\"expr\":{\"id\":\"2754\"}},\"fill_color\":{\"value\":\"#77AA89\"},\"line_color\":{\"value\":\"#77AA89\"},\"top\":{\"expr\":{\"id\":\"2755\"}},\"width\":{\"value\":0.3},\"x\":{\"field\":\"years\"}},\"id\":\"2879\",\"type\":\"VBar\"},{\"attributes\":{\"label\":{\"value\":\"Crime\"},\"renderers\":[{\"id\":\"2790\"}]},\"id\":\"2800\",\"type\":\"LegendItem\"},{\"attributes\":{},\"id\":\"2952\",\"type\":\"UnionRenderers\"},{\"attributes\":{\"source\":{\"id\":\"2801\"}},\"id\":\"2806\",\"type\":\"CDSView\"},{\"attributes\":{\"source\":{\"id\":\"2901\"}},\"id\":\"2906\",\"type\":\"CDSView\"},{\"attributes\":{\"label\":{\"value\":\"Sci-Fi\"},\"renderers\":[{\"id\":\"3055\"}]},\"id\":\"3086\",\"type\":\"LegendItem\"},{\"attributes\":{},\"id\":\"2953\",\"type\":\"Selection\"},{\"attributes\":{\"data_source\":{\"id\":\"2901\"},\"glyph\":{\"id\":\"2903\"},\"hover_glyph\":null,\"muted_glyph\":null,\"name\":\"Fantasy\",\"nonselection_glyph\":{\"id\":\"2904\"},\"selection_glyph\":null,\"view\":{\"id\":\"2906\"}},\"id\":\"2905\",\"type\":\"GlyphRenderer\"},{\"attributes\":{\"bottom\":{\"expr\":{\"id\":\"2746\"}},\"fill_color\":{\"value\":\"#48EDC4\"},\"line_color\":{\"value\":\"#48EDC4\"},\"top\":{\"expr\":{\"id\":\"2747\"}},\"width\":{\"value\":0.3},\"x\":{\"field\":\"years\"}},\"id\":\"2803\",\"type\":\"VBar\"},{\"attributes\":{\"source\":{\"id\":\"3395\"}},\"id\":\"3400\",\"type\":\"CDSView\"},{\"attributes\":{\"bottom\":{\"expr\":{\"id\":\"2756\"}},\"fill_alpha\":{\"value\":0.1},\"fill_color\":{\"value\":\"#FAAEA2\"},\"line_alpha\":{\"value\":0.1},\"line_color\":{\"value\":\"#FAAEA2\"},\"top\":{\"expr\":{\"id\":\"2757\"}},\"width\":{\"value\":0.3},\"x\":{\"field\":\"years\"}},\"id\":\"2904\",\"type\":\"VBar\"},{\"attributes\":{\"source\":{\"id\":\"3165\"}},\"id\":\"3170\",\"type\":\"CDSView\"},{\"attributes\":{\"data_source\":{\"id\":\"2801\"},\"glyph\":{\"id\":\"2803\"},\"hover_glyph\":null,\"muted_glyph\":null,\"name\":\"Drama\",\"nonselection_glyph\":{\"id\":\"2804\"},\"selection_glyph\":null,\"view\":{\"id\":\"2806\"}},\"id\":\"2805\",\"type\":\"GlyphRenderer\"},{\"attributes\":{\"label\":{\"value\":\"Sport\"},\"renderers\":[{\"id\":\"3301\"}]},\"id\":\"3344\",\"type\":\"LegendItem\"},{\"attributes\":{\"bottom\":{\"expr\":{\"id\":\"2746\"}},\"fill_alpha\":{\"value\":0.1},\"fill_color\":{\"value\":\"#48EDC4\"},\"line_alpha\":{\"value\":0.1},\"line_color\":{\"value\":\"#48EDC4\"},\"top\":{\"expr\":{\"id\":\"2747\"}},\"width\":{\"value\":0.3},\"x\":{\"field\":\"years\"}},\"id\":\"2804\",\"type\":\"VBar\"},{\"attributes\":{\"source\":{\"id\":\"2985\"}},\"id\":\"2990\",\"type\":\"CDSView\"},{\"attributes\":{\"bottom\":{\"expr\":{\"id\":\"2782\"}},\"fill_color\":{\"value\":\"#FD2807\"},\"line_color\":{\"value\":\"#FD2807\"},\"top\":{\"expr\":{\"id\":\"2783\"}},\"width\":{\"value\":0.3},\"x\":{\"field\":\"years\"}},\"id\":\"3397\",\"type\":\"VBar\"},{\"attributes\":{\"data_source\":{\"id\":\"3395\"},\"glyph\":{\"id\":\"3397\"},\"hover_glyph\":null,\"muted_glyph\":null,\"name\":\"Talk-Show\",\"nonselection_glyph\":{\"id\":\"3398\"},\"selection_glyph\":null,\"view\":{\"id\":\"3400\"}},\"id\":\"3399\",\"type\":\"GlyphRenderer\"},{\"attributes\":{\"label\":{\"value\":\"Drama\"},\"renderers\":[{\"id\":\"2805\"}]},\"id\":\"2816\",\"type\":\"LegendItem\"},{\"attributes\":{\"label\":{\"value\":\"Fantasy\"},\"renderers\":[{\"id\":\"2905\"}]},\"id\":\"2926\",\"type\":\"LegendItem\"},{\"attributes\":{\"data_source\":{\"id\":\"3165\"},\"glyph\":{\"id\":\"3167\"},\"hover_glyph\":null,\"muted_glyph\":null,\"name\":\"Romance\",\"nonselection_glyph\":{\"id\":\"3168\"},\"selection_glyph\":null,\"view\":{\"id\":\"3170\"}},\"id\":\"3169\",\"type\":\"GlyphRenderer\"},{\"attributes\":{\"label\":{\"value\":\"Action\"},\"renderers\":[{\"id\":\"3091\"}]},\"id\":\"3124\",\"type\":\"LegendItem\"},{\"attributes\":{\"data\":{\"Action\":[0,4,7,11,9,9,5,1],\"Adventure\":[0,3,5,6,6,7,5,2],\"Animation\":[0,0,1,0,0,1,2,1],\"Biography\":[0,2,8,7,2,3,6,1],\"Comedy\":[0,6,9,5,2,3,24,4],\"Crime\":[0,4,9,16,12,14,42,12],\"Documentary\":[0,0,2,2,7,2,9,2],\"Drama\":[0,11,27,30,19,20,61,19],\"Family\":[0,0,0,0,1,0,1,0],\"Fantasy\":[0,0,4,2,2,0,1,2],\"History\":[0,1,3,4,2,3,5,2],\"Horror\":[0,0,3,4,2,2,5,4],\"Music\":[0,1,1,0,0,0,0,0],\"Mystery\":[0,1,8,7,8,7,15,9],\"News\":[0,0,0,1,0,0,0,0],\"Romance\":[0,5,2,4,0,1,6,0],\"Sci-Fi\":[0,2,2,6,6,7,2,1],\"Sport\":[0,0,0,0,2,0,3,0],\"Talk-Show\":[0,0,1,1,0,0,0,0],\"Thriller\":[0,6,3,13,13,9,24,10],\"War\":[0,0,3,1,0,0,3,0],\"years\":[\"2014\",\"2015\",\"2016\",\"2017\",\"2018\",\"2019\",\"2020\",\"2021\"]},\"selected\":{\"id\":\"2953\"},\"selection_policy\":{\"id\":\"2952\"}},\"id\":\"2927\",\"type\":\"ColumnDataSource\"},{\"attributes\":{\"label\":{\"value\":\"Thriller\"},\"renderers\":[{\"id\":\"2821\"}]},\"id\":\"2834\",\"type\":\"LegendItem\"},{\"attributes\":{\"source\":{\"id\":\"2927\"}},\"id\":\"2932\",\"type\":\"CDSView\"},{\"attributes\":{\"bottom\":{\"expr\":{\"id\":\"2772\"}},\"fill_color\":{\"value\":\"#6AB16C\"},\"line_color\":{\"value\":\"#6AB16C\"},\"top\":{\"expr\":{\"id\":\"2773\"}},\"width\":{\"value\":0.3},\"x\":{\"field\":\"years\"}},\"id\":\"3167\",\"type\":\"VBar\"},{\"attributes\":{\"label\":{\"value\":\"Talk-Show\"},\"renderers\":[{\"id\":\"3399\"}]},\"id\":\"3446\",\"type\":\"LegendItem\"},{\"attributes\":{\"bottom\":{\"expr\":{\"id\":\"2762\"}},\"fill_color\":{\"value\":\"#C13D10\"},\"line_color\":{\"value\":\"#C13D10\"},\"top\":{\"expr\":{\"id\":\"2763\"}},\"width\":{\"value\":0.3},\"x\":{\"field\":\"years\"}},\"id\":\"2987\",\"type\":\"VBar\"},{\"attributes\":{\"bottom\":{\"expr\":{\"id\":\"2772\"}},\"fill_alpha\":{\"value\":0.1},\"fill_color\":{\"value\":\"#6AB16C\"},\"line_alpha\":{\"value\":0.1},\"line_color\":{\"value\":\"#6AB16C\"},\"top\":{\"expr\":{\"id\":\"2773\"}},\"width\":{\"value\":0.3},\"x\":{\"field\":\"years\"}},\"id\":\"3168\",\"type\":\"VBar\"},{\"attributes\":{\"data_source\":{\"id\":\"2985\"},\"glyph\":{\"id\":\"2987\"},\"hover_glyph\":null,\"muted_glyph\":null,\"name\":\"Documentary\",\"nonselection_glyph\":{\"id\":\"2988\"},\"selection_glyph\":null,\"view\":{\"id\":\"2990\"}},\"id\":\"2989\",\"type\":\"GlyphRenderer\"},{\"attributes\":{\"label\":{\"value\":\"Romance\"},\"renderers\":[{\"id\":\"3169\"}]},\"id\":\"3206\",\"type\":\"LegendItem\"},{\"attributes\":{\"bottom\":{\"expr\":{\"id\":\"2762\"}},\"fill_alpha\":{\"value\":0.1},\"fill_color\":{\"value\":\"#C13D10\"},\"line_alpha\":{\"value\":0.1},\"line_color\":{\"value\":\"#C13D10\"},\"top\":{\"expr\":{\"id\":\"2763\"}},\"width\":{\"value\":0.3},\"x\":{\"field\":\"years\"}},\"id\":\"2988\",\"type\":\"VBar\"},{\"attributes\":{\"data\":{\"Action\":[0,4,7,11,9,9,5,1],\"Adventure\":[0,3,5,6,6,7,5,2],\"Animation\":[0,0,1,0,0,1,2,1],\"Biography\":[0,2,8,7,2,3,6,1],\"Comedy\":[0,6,9,5,2,3,24,4],\"Crime\":[0,4,9,16,12,14,42,12],\"Documentary\":[0,0,2,2,7,2,9,2],\"Drama\":[0,11,27,30,19,20,61,19],\"Family\":[0,0,0,0,1,0,1,0],\"Fantasy\":[0,0,4,2,2,0,1,2],\"History\":[0,1,3,4,2,3,5,2],\"Horror\":[0,0,3,4,2,2,5,4],\"Music\":[0,1,1,0,0,0,0,0],\"Mystery\":[0,1,8,7,8,7,15,9],\"News\":[0,0,0,1,0,0,0,0],\"Romance\":[0,5,2,4,0,1,6,0],\"Sci-Fi\":[0,2,2,6,6,7,2,1],\"Sport\":[0,0,0,0,2,0,3,0],\"Talk-Show\":[0,0,1,1,0,0,0,0],\"Thriller\":[0,6,3,13,13,9,24,10],\"War\":[0,0,3,1,0,0,3,0],\"years\":[\"2014\",\"2015\",\"2016\",\"2017\",\"2018\",\"2019\",\"2020\",\"2021\"]},\"selected\":{\"id\":\"3393\"},\"selection_policy\":{\"id\":\"3392\"}},\"id\":\"3345\",\"type\":\"ColumnDataSource\"},{\"attributes\":{},\"id\":\"2924\",\"type\":\"UnionRenderers\"},{\"attributes\":{},\"id\":\"2925\",\"type\":\"Selection\"},{\"attributes\":{\"label\":{\"value\":\"Documentary\"},\"renderers\":[{\"id\":\"2989\"}]},\"id\":\"3016\",\"type\":\"LegendItem\"},{\"attributes\":{\"source\":{\"id\":\"2855\"}},\"id\":\"2860\",\"type\":\"CDSView\"},{\"attributes\":{\"data\":{\"Action\":[0,4,7,11,9,9,5,1],\"Adventure\":[0,3,5,6,6,7,5,2],\"Animation\":[0,0,1,0,0,1,2,1],\"Biography\":[0,2,8,7,2,3,6,1],\"Comedy\":[0,6,9,5,2,3,24,4],\"Crime\":[0,4,9,16,12,14,42,12],\"Documentary\":[0,0,2,2,7,2,9,2],\"Drama\":[0,11,27,30,19,20,61,19],\"Family\":[0,0,0,0,1,0,1,0],\"Fantasy\":[0,0,4,2,2,0,1,2],\"History\":[0,1,3,4,2,3,5,2],\"Horror\":[0,0,3,4,2,2,5,4],\"Music\":[0,1,1,0,0,0,0,0],\"Mystery\":[0,1,8,7,8,7,15,9],\"News\":[0,0,0,1,0,0,0,0],\"Romance\":[0,5,2,4,0,1,6,0],\"Sci-Fi\":[0,2,2,6,6,7,2,1],\"Sport\":[0,0,0,0,2,0,3,0],\"Talk-Show\":[0,0,1,1,0,0,0,0],\"Thriller\":[0,6,3,13,13,9,24,10],\"War\":[0,0,3,1,0,0,3,0],\"years\":[\"2014\",\"2015\",\"2016\",\"2017\",\"2018\",\"2019\",\"2020\",\"2021\"]},\"selected\":{\"id\":\"3163\"},\"selection_policy\":{\"id\":\"3162\"}},\"id\":\"3125\",\"type\":\"ColumnDataSource\"},{\"attributes\":{\"data\":{\"Action\":[0,4,7,11,9,9,5,1],\"Adventure\":[0,3,5,6,6,7,5,2],\"Animation\":[0,0,1,0,0,1,2,1],\"Biography\":[0,2,8,7,2,3,6,1],\"Comedy\":[0,6,9,5,2,3,24,4],\"Crime\":[0,4,9,16,12,14,42,12],\"Documentary\":[0,0,2,2,7,2,9,2],\"Drama\":[0,11,27,30,19,20,61,19],\"Family\":[0,0,0,0,1,0,1,0],\"Fantasy\":[0,0,4,2,2,0,1,2],\"History\":[0,1,3,4,2,3,5,2],\"Horror\":[0,0,3,4,2,2,5,4],\"Music\":[0,1,1,0,0,0,0,0],\"Mystery\":[0,1,8,7,8,7,15,9],\"News\":[0,0,0,1,0,0,0,0],\"Romance\":[0,5,2,4,0,1,6,0],\"Sci-Fi\":[0,2,2,6,6,7,2,1],\"Sport\":[0,0,0,0,2,0,3,0],\"Talk-Show\":[0,0,1,1,0,0,0,0],\"Thriller\":[0,6,3,13,13,9,24,10],\"War\":[0,0,3,1,0,0,3,0],\"years\":[\"2014\",\"2015\",\"2016\",\"2017\",\"2018\",\"2019\",\"2020\",\"2021\"]},\"selected\":{\"id\":\"2983\"},\"selection_policy\":{\"id\":\"2982\"}},\"id\":\"2955\",\"type\":\"ColumnDataSource\"},{\"attributes\":{},\"id\":\"2814\",\"type\":\"UnionRenderers\"},{\"attributes\":{},\"id\":\"2815\",\"type\":\"Selection\"},{\"attributes\":{},\"id\":\"3444\",\"type\":\"UnionRenderers\"},{\"attributes\":{\"bottom\":{\"expr\":{\"id\":\"2752\"}},\"fill_color\":{\"value\":\"#1AD7EB\"},\"line_color\":{\"value\":\"#1AD7EB\"},\"top\":{\"expr\":{\"id\":\"2753\"}},\"width\":{\"value\":0.3},\"x\":{\"field\":\"years\"}},\"id\":\"2857\",\"type\":\"VBar\"},{\"attributes\":{\"fields\":[\"Crime\",\"Drama\",\"Thriller\",\"Comedy\",\"Mystery\",\"Adventure\",\"Fantasy\",\"Biography\",\"History\",\"Documentary\"]},\"id\":\"2764\",\"type\":\"Stack\"},{\"attributes\":{},\"id\":\"3204\",\"type\":\"UnionRenderers\"},{\"attributes\":{\"data_source\":{\"id\":\"2855\"},\"glyph\":{\"id\":\"2857\"},\"hover_glyph\":null,\"muted_glyph\":null,\"name\":\"Mystery\",\"nonselection_glyph\":{\"id\":\"2858\"},\"selection_glyph\":null,\"view\":{\"id\":\"2860\"}},\"id\":\"2859\",\"type\":\"GlyphRenderer\"},{\"attributes\":{},\"id\":\"3205\",\"type\":\"Selection\"},{\"attributes\":{},\"id\":\"3445\",\"type\":\"Selection\"},{\"attributes\":{\"bottom\":{\"expr\":{\"id\":\"2752\"}},\"fill_alpha\":{\"value\":0.1},\"fill_color\":{\"value\":\"#1AD7EB\"},\"line_alpha\":{\"value\":0.1},\"line_color\":{\"value\":\"#1AD7EB\"},\"top\":{\"expr\":{\"id\":\"2753\"}},\"width\":{\"value\":0.3},\"x\":{\"field\":\"years\"}},\"id\":\"2858\",\"type\":\"VBar\"},{\"attributes\":{},\"id\":\"3014\",\"type\":\"UnionRenderers\"},{\"attributes\":{\"label\":{\"value\":\"Mystery\"},\"renderers\":[{\"id\":\"2859\"}]},\"id\":\"2876\",\"type\":\"LegendItem\"},{\"attributes\":{},\"id\":\"3015\",\"type\":\"Selection\"},{\"attributes\":{\"data_source\":{\"id\":\"2877\"},\"glyph\":{\"id\":\"2879\"},\"hover_glyph\":null,\"muted_glyph\":null,\"name\":\"Adventure\",\"nonselection_glyph\":{\"id\":\"2880\"},\"selection_glyph\":null,\"view\":{\"id\":\"2882\"}},\"id\":\"2881\",\"type\":\"GlyphRenderer\"},{\"attributes\":{\"label\":{\"value\":\"Biography\"},\"renderers\":[{\"id\":\"2931\"}]},\"id\":\"2954\",\"type\":\"LegendItem\"},{\"attributes\":{\"fields\":[\"Crime\",\"Drama\",\"Thriller\",\"Comedy\",\"Mystery\",\"Adventure\",\"Fantasy\",\"Biography\",\"History\",\"Documentary\",\"Horror\",\"Sci-Fi\",\"Action\",\"Animation\"]},\"id\":\"2772\",\"type\":\"Stack\"},{\"attributes\":{},\"id\":\"2793\",\"type\":\"BasicTickFormatter\"},{\"attributes\":{\"fields\":[\"Crime\",\"Drama\",\"Thriller\",\"Comedy\",\"Mystery\",\"Adventure\",\"Fantasy\",\"Biography\",\"History\",\"Documentary\",\"Horror\",\"Sci-Fi\"]},\"id\":\"2767\",\"type\":\"Stack\"},{\"attributes\":{\"data\":{\"Action\":[0,4,7,11,9,9,5,1],\"Adventure\":[0,3,5,6,6,7,5,2],\"Animation\":[0,0,1,0,0,1,2,1],\"Biography\":[0,2,8,7,2,3,6,1],\"Comedy\":[0,6,9,5,2,3,24,4],\"Crime\":[0,4,9,16,12,14,42,12],\"Documentary\":[0,0,2,2,7,2,9,2],\"Drama\":[0,11,27,30,19,20,61,19],\"Family\":[0,0,0,0,1,0,1,0],\"Fantasy\":[0,0,4,2,2,0,1,2],\"History\":[0,1,3,4,2,3,5,2],\"Horror\":[0,0,3,4,2,2,5,4],\"Music\":[0,1,1,0,0,0,0,0],\"Mystery\":[0,1,8,7,8,7,15,9],\"News\":[0,0,0,1,0,0,0,0],\"Romance\":[0,5,2,4,0,1,6,0],\"Sci-Fi\":[0,2,2,6,6,7,2,1],\"Sport\":[0,0,0,0,2,0,3,0],\"Talk-Show\":[0,0,1,1,0,0,0,0],\"Thriller\":[0,6,3,13,13,9,24,10],\"War\":[0,0,3,1,0,0,3,0],\"years\":[\"2014\",\"2015\",\"2016\",\"2017\",\"2018\",\"2019\",\"2020\",\"2021\"]},\"selected\":{\"id\":\"3123\"},\"selection_policy\":{\"id\":\"3122\"}},\"id\":\"3087\",\"type\":\"ColumnDataSource\"},{\"attributes\":{},\"id\":\"2874\",\"type\":\"UnionRenderers\"},{\"attributes\":{\"bottom\":{\"expr\":{\"id\":\"2782\"}},\"fill_alpha\":{\"value\":0.1},\"fill_color\":{\"value\":\"#FD2807\"},\"line_alpha\":{\"value\":0.1},\"line_color\":{\"value\":\"#FD2807\"},\"top\":{\"expr\":{\"id\":\"2783\"}},\"width\":{\"value\":0.3},\"x\":{\"field\":\"years\"}},\"id\":\"3398\",\"type\":\"VBar\"},{\"attributes\":{},\"id\":\"2875\",\"type\":\"Selection\"},{\"attributes\":{\"bottom\":{\"expr\":{\"id\":\"2768\"}},\"fill_color\":{\"value\":\"#D8FCBA\"},\"line_color\":{\"value\":\"#D8FCBA\"},\"top\":{\"expr\":{\"id\":\"2769\"}},\"width\":{\"value\":0.3},\"x\":{\"field\":\"years\"}},\"id\":\"3089\",\"type\":\"VBar\"},{\"attributes\":{\"bottom\":{\"expr\":{\"id\":\"2758\"}},\"fill_color\":{\"value\":\"#D89A55\"},\"line_color\":{\"value\":\"#D89A55\"},\"top\":{\"expr\":{\"id\":\"2759\"}},\"width\":{\"value\":0.3},\"x\":{\"field\":\"years\"}},\"id\":\"2929\",\"type\":\"VBar\"},{\"attributes\":{},\"id\":\"3122\",\"type\":\"UnionRenderers\"},{\"attributes\":{\"data\":{\"Action\":[0,4,7,11,9,9,5,1],\"Adventure\":[0,3,5,6,6,7,5,2],\"Animation\":[0,0,1,0,0,1,2,1],\"Biography\":[0,2,8,7,2,3,6,1],\"Comedy\":[0,6,9,5,2,3,24,4],\"Crime\":[0,4,9,16,12,14,42,12],\"Documentary\":[0,0,2,2,7,2,9,2],\"Drama\":[0,11,27,30,19,20,61,19],\"Family\":[0,0,0,0,1,0,1,0],\"Fantasy\":[0,0,4,2,2,0,1,2],\"History\":[0,1,3,4,2,3,5,2],\"Horror\":[0,0,3,4,2,2,5,4],\"Music\":[0,1,1,0,0,0,0,0],\"Mystery\":[0,1,8,7,8,7,15,9],\"News\":[0,0,0,1,0,0,0,0],\"Romance\":[0,5,2,4,0,1,6,0],\"Sci-Fi\":[0,2,2,6,6,7,2,1],\"Sport\":[0,0,0,0,2,0,3,0],\"Talk-Show\":[0,0,1,1,0,0,0,0],\"Thriller\":[0,6,3,13,13,9,24,10],\"War\":[0,0,3,1,0,0,3,0],\"years\":[\"2014\",\"2015\",\"2016\",\"2017\",\"2018\",\"2019\",\"2020\",\"2021\"]},\"selected\":{\"id\":\"2833\"},\"selection_policy\":{\"id\":\"2832\"}},\"id\":\"2817\",\"type\":\"ColumnDataSource\"},{\"attributes\":{\"data\":{\"Action\":[0,4,7,11,9,9,5,1],\"Adventure\":[0,3,5,6,6,7,5,2],\"Animation\":[0,0,1,0,0,1,2,1],\"Biography\":[0,2,8,7,2,3,6,1],\"Comedy\":[0,6,9,5,2,3,24,4],\"Crime\":[0,4,9,16,12,14,42,12],\"Documentary\":[0,0,2,2,7,2,9,2],\"Drama\":[0,11,27,30,19,20,61,19],\"Family\":[0,0,0,0,1,0,1,0],\"Fantasy\":[0,0,4,2,2,0,1,2],\"History\":[0,1,3,4,2,3,5,2],\"Horror\":[0,0,3,4,2,2,5,4],\"Music\":[0,1,1,0,0,0,0,0],\"Mystery\":[0,1,8,7,8,7,15,9],\"News\":[0,0,0,1,0,0,0,0],\"Romance\":[0,5,2,4,0,1,6,0],\"Sci-Fi\":[0,2,2,6,6,7,2,1],\"Sport\":[0,0,0,0,2,0,3,0],\"Talk-Show\":[0,0,1,1,0,0,0,0],\"Thriller\":[0,6,3,13,13,9,24,10],\"War\":[0,0,3,1,0,0,3,0],\"years\":[\"2014\",\"2015\",\"2016\",\"2017\",\"2018\",\"2019\",\"2020\",\"2021\"]},\"selected\":{\"id\":\"3499\"},\"selection_policy\":{\"id\":\"3498\"}},\"id\":\"3447\",\"type\":\"ColumnDataSource\"},{\"attributes\":{},\"id\":\"3123\",\"type\":\"Selection\"},{\"attributes\":{\"data\":{\"Action\":[0,4,7,11,9,9,5,1],\"Adventure\":[0,3,5,6,6,7,5,2],\"Animation\":[0,0,1,0,0,1,2,1],\"Biography\":[0,2,8,7,2,3,6,1],\"Comedy\":[0,6,9,5,2,3,24,4],\"Crime\":[0,4,9,16,12,14,42,12],\"Documentary\":[0,0,2,2,7,2,9,2],\"Drama\":[0,11,27,30,19,20,61,19],\"Family\":[0,0,0,0,1,0,1,0],\"Fantasy\":[0,0,4,2,2,0,1,2],\"History\":[0,1,3,4,2,3,5,2],\"Horror\":[0,0,3,4,2,2,5,4],\"Music\":[0,1,1,0,0,0,0,0],\"Mystery\":[0,1,8,7,8,7,15,9],\"News\":[0,0,0,1,0,0,0,0],\"Romance\":[0,5,2,4,0,1,6,0],\"Sci-Fi\":[0,2,2,6,6,7,2,1],\"Sport\":[0,0,0,0,2,0,3,0],\"Talk-Show\":[0,0,1,1,0,0,0,0],\"Thriller\":[0,6,3,13,13,9,24,10],\"War\":[0,0,3,1,0,0,3,0],\"years\":[\"2014\",\"2015\",\"2016\",\"2017\",\"2018\",\"2019\",\"2020\",\"2021\"]},\"selected\":{\"id\":\"3249\"},\"selection_policy\":{\"id\":\"3248\"}},\"id\":\"3207\",\"type\":\"ColumnDataSource\"},{\"attributes\":{},\"id\":\"2832\",\"type\":\"UnionRenderers\"},{\"attributes\":{\"source\":{\"id\":\"3447\"}},\"id\":\"3452\",\"type\":\"CDSView\"},{\"attributes\":{\"bottom\":{\"expr\":{\"id\":\"2748\"}},\"fill_color\":{\"value\":\"#2E9507\"},\"line_color\":{\"value\":\"#2E9507\"},\"top\":{\"expr\":{\"id\":\"2749\"}},\"width\":{\"value\":0.3},\"x\":{\"field\":\"years\"}},\"id\":\"2819\",\"type\":\"VBar\"},{\"attributes\":{\"data\":{\"Action\":[0,4,7,11,9,9,5,1],\"Adventure\":[0,3,5,6,6,7,5,2],\"Animation\":[0,0,1,0,0,1,2,1],\"Biography\":[0,2,8,7,2,3,6,1],\"Comedy\":[0,6,9,5,2,3,24,4],\"Crime\":[0,4,9,16,12,14,42,12],\"Documentary\":[0,0,2,2,7,2,9,2],\"Drama\":[0,11,27,30,19,20,61,19],\"Family\":[0,0,0,0,1,0,1,0],\"Fantasy\":[0,0,4,2,2,0,1,2],\"History\":[0,1,3,4,2,3,5,2],\"Horror\":[0,0,3,4,2,2,5,4],\"Music\":[0,1,1,0,0,0,0,0],\"Mystery\":[0,1,8,7,8,7,15,9],\"News\":[0,0,0,1,0,0,0,0],\"Romance\":[0,5,2,4,0,1,6,0],\"Sci-Fi\":[0,2,2,6,6,7,2,1],\"Sport\":[0,0,0,0,2,0,3,0],\"Talk-Show\":[0,0,1,1,0,0,0,0],\"Thriller\":[0,6,3,13,13,9,24,10],\"War\":[0,0,3,1,0,0,3,0],\"years\":[\"2014\",\"2015\",\"2016\",\"2017\",\"2018\",\"2019\",\"2020\",\"2021\"]},\"selected\":{\"id\":\"3049\"},\"selection_policy\":{\"id\":\"3048\"}},\"id\":\"3017\",\"type\":\"ColumnDataSource\"},{\"attributes\":{\"source\":{\"id\":\"3207\"}},\"id\":\"3212\",\"type\":\"CDSView\"},{\"attributes\":{\"bottom\":{\"expr\":{\"id\":\"2784\"}},\"fill_color\":{\"value\":\"#284A23\"},\"line_color\":{\"value\":\"#284A23\"},\"top\":{\"expr\":{\"id\":\"2785\"}},\"width\":{\"value\":0.3},\"x\":{\"field\":\"years\"}},\"id\":\"3449\",\"type\":\"VBar\"},{\"attributes\":{\"fields\":[\"Crime\",\"Drama\",\"Thriller\",\"Comedy\",\"Mystery\",\"Adventure\",\"Fantasy\",\"Biography\",\"History\",\"Documentary\",\"Horror\",\"Sci-Fi\"]},\"id\":\"2768\",\"type\":\"Stack\"},{\"attributes\":{\"fields\":[\"Crime\",\"Drama\",\"Thriller\",\"Comedy\",\"Mystery\",\"Adventure\",\"Fantasy\",\"Biography\",\"History\",\"Documentary\",\"Horror\",\"Sci-Fi\",\"Action\",\"Animation\"]},\"id\":\"2771\",\"type\":\"Stack\"},{\"attributes\":{\"data_source\":{\"id\":\"3447\"},\"glyph\":{\"id\":\"3449\"},\"hover_glyph\":null,\"muted_glyph\":null,\"name\":\"Music\",\"nonselection_glyph\":{\"id\":\"3450\"},\"selection_glyph\":null,\"view\":{\"id\":\"3452\"}},\"id\":\"3451\",\"type\":\"GlyphRenderer\"},{\"attributes\":{\"bottom\":{\"expr\":{\"id\":\"2748\"}},\"fill_alpha\":{\"value\":0.1},\"fill_color\":{\"value\":\"#2E9507\"},\"line_alpha\":{\"value\":0.1},\"line_color\":{\"value\":\"#2E9507\"},\"top\":{\"expr\":{\"id\":\"2749\"}},\"width\":{\"value\":0.3},\"x\":{\"field\":\"years\"}},\"id\":\"2820\",\"type\":\"VBar\"},{\"attributes\":{\"bottom\":{\"expr\":{\"id\":\"2774\"}},\"fill_color\":{\"value\":\"#C1D9AC\"},\"line_color\":{\"value\":\"#C1D9AC\"},\"top\":{\"expr\":{\"id\":\"2775\"}},\"width\":{\"value\":0.3},\"x\":{\"field\":\"years\"}},\"id\":\"3209\",\"type\":\"VBar\"},{\"attributes\":{\"data_source\":{\"id\":\"3207\"},\"glyph\":{\"id\":\"3209\"},\"hover_glyph\":null,\"muted_glyph\":null,\"name\":\"Family\",\"nonselection_glyph\":{\"id\":\"3210\"},\"selection_glyph\":null,\"view\":{\"id\":\"3212\"}},\"id\":\"3211\",\"type\":\"GlyphRenderer\"},{\"attributes\":{\"source\":{\"id\":\"3017\"}},\"id\":\"3022\",\"type\":\"CDSView\"},{\"attributes\":{\"bottom\":{\"expr\":{\"id\":\"2784\"}},\"fill_alpha\":{\"value\":0.1},\"fill_color\":{\"value\":\"#284A23\"},\"line_alpha\":{\"value\":0.1},\"line_color\":{\"value\":\"#284A23\"},\"top\":{\"expr\":{\"id\":\"2785\"}},\"width\":{\"value\":0.3},\"x\":{\"field\":\"years\"}},\"id\":\"3450\",\"type\":\"VBar\"},{\"attributes\":{\"bottom\":{\"expr\":{\"id\":\"2774\"}},\"fill_alpha\":{\"value\":0.1},\"fill_color\":{\"value\":\"#C1D9AC\"},\"line_alpha\":{\"value\":0.1},\"line_color\":{\"value\":\"#C1D9AC\"},\"top\":{\"expr\":{\"id\":\"2775\"}},\"width\":{\"value\":0.3},\"x\":{\"field\":\"years\"}},\"id\":\"3210\",\"type\":\"VBar\"},{\"attributes\":{\"data_source\":{\"id\":\"2927\"},\"glyph\":{\"id\":\"2929\"},\"hover_glyph\":null,\"muted_glyph\":null,\"name\":\"Biography\",\"nonselection_glyph\":{\"id\":\"2930\"},\"selection_glyph\":null,\"view\":{\"id\":\"2932\"}},\"id\":\"2931\",\"type\":\"GlyphRenderer\"},{\"attributes\":{\"label\":{\"value\":\"Music\"},\"renderers\":[{\"id\":\"3451\"}]},\"id\":\"3500\",\"type\":\"LegendItem\"},{\"attributes\":{\"bottom\":{\"expr\":{\"id\":\"2764\"}},\"fill_color\":{\"value\":\"#9B08D5\"},\"line_color\":{\"value\":\"#9B08D5\"},\"top\":{\"expr\":{\"id\":\"2765\"}},\"width\":{\"value\":0.3},\"x\":{\"field\":\"years\"}},\"id\":\"3019\",\"type\":\"VBar\"},{\"attributes\":{\"data_source\":{\"id\":\"3017\"},\"glyph\":{\"id\":\"3019\"},\"hover_glyph\":null,\"muted_glyph\":null,\"name\":\"Horror\",\"nonselection_glyph\":{\"id\":\"3020\"},\"selection_glyph\":null,\"view\":{\"id\":\"3022\"}},\"id\":\"3021\",\"type\":\"GlyphRenderer\"},{\"attributes\":{\"label\":{\"value\":\"Family\"},\"renderers\":[{\"id\":\"3211\"}]},\"id\":\"3250\",\"type\":\"LegendItem\"},{\"attributes\":{},\"id\":\"2797\",\"type\":\"UnionRenderers\"},{\"attributes\":{\"bottom\":{\"expr\":{\"id\":\"2764\"}},\"fill_alpha\":{\"value\":0.1},\"fill_color\":{\"value\":\"#9B08D5\"},\"line_alpha\":{\"value\":0.1},\"line_color\":{\"value\":\"#9B08D5\"},\"top\":{\"expr\":{\"id\":\"2765\"}},\"width\":{\"value\":0.3},\"x\":{\"field\":\"years\"}},\"id\":\"3020\",\"type\":\"VBar\"},{\"attributes\":{\"bottom\":{\"expr\":{\"id\":\"2778\"}},\"fill_alpha\":{\"value\":0.1},\"fill_color\":{\"value\":\"#26B853\"},\"line_alpha\":{\"value\":0.1},\"line_color\":{\"value\":\"#26B853\"},\"top\":{\"expr\":{\"id\":\"2779\"}},\"width\":{\"value\":0.3},\"x\":{\"field\":\"years\"}},\"id\":\"3300\",\"type\":\"VBar\"},{\"attributes\":{},\"id\":\"2833\",\"type\":\"Selection\"},{\"attributes\":{\"data\":{\"Action\":[0,4,7,11,9,9,5,1],\"Adventure\":[0,3,5,6,6,7,5,2],\"Animation\":[0,0,1,0,0,1,2,1],\"Biography\":[0,2,8,7,2,3,6,1],\"Comedy\":[0,6,9,5,2,3,24,4],\"Crime\":[0,4,9,16,12,14,42,12],\"Documentary\":[0,0,2,2,7,2,9,2],\"Drama\":[0,11,27,30,19,20,61,19],\"Family\":[0,0,0,0,1,0,1,0],\"Fantasy\":[0,0,4,2,2,0,1,2],\"History\":[0,1,3,4,2,3,5,2],\"Horror\":[0,0,3,4,2,2,5,4],\"Music\":[0,1,1,0,0,0,0,0],\"Mystery\":[0,1,8,7,8,7,15,9],\"News\":[0,0,0,1,0,0,0,0],\"Romance\":[0,5,2,4,0,1,6,0],\"Sci-Fi\":[0,2,2,6,6,7,2,1],\"Sport\":[0,0,0,0,2,0,3,0],\"Talk-Show\":[0,0,1,1,0,0,0,0],\"Thriller\":[0,6,3,13,13,9,24,10],\"War\":[0,0,3,1,0,0,3,0],\"years\":[\"2014\",\"2015\",\"2016\",\"2017\",\"2018\",\"2019\",\"2020\",\"2021\"]},\"selected\":{\"id\":\"2899\"},\"selection_policy\":{\"id\":\"2898\"}},\"id\":\"2877\",\"type\":\"ColumnDataSource\"},{\"attributes\":{\"bottom\":{\"expr\":{\"id\":\"2778\"}},\"fill_color\":{\"value\":\"#26B853\"},\"line_color\":{\"value\":\"#26B853\"},\"top\":{\"expr\":{\"id\":\"2779\"}},\"width\":{\"value\":0.3},\"x\":{\"field\":\"years\"}},\"id\":\"3299\",\"type\":\"VBar\"},{\"attributes\":{\"label\":{\"value\":\"Horror\"},\"renderers\":[{\"id\":\"3021\"}]},\"id\":\"3050\",\"type\":\"LegendItem\"},{\"attributes\":{\"data_source\":{\"id\":\"3087\"},\"glyph\":{\"id\":\"3089\"},\"hover_glyph\":null,\"muted_glyph\":null,\"name\":\"Action\",\"nonselection_glyph\":{\"id\":\"3090\"},\"selection_glyph\":null,\"view\":{\"id\":\"3092\"}},\"id\":\"3091\",\"type\":\"GlyphRenderer\"},{\"attributes\":{\"data_source\":{\"id\":\"3297\"},\"glyph\":{\"id\":\"3299\"},\"hover_glyph\":null,\"muted_glyph\":null,\"name\":\"Sport\",\"nonselection_glyph\":{\"id\":\"3300\"},\"selection_glyph\":null,\"view\":{\"id\":\"3302\"}},\"id\":\"3301\",\"type\":\"GlyphRenderer\"},{\"attributes\":{\"bottom\":{\"expr\":{\"id\":\"2768\"}},\"fill_alpha\":{\"value\":0.1},\"fill_color\":{\"value\":\"#D8FCBA\"},\"line_alpha\":{\"value\":0.1},\"line_color\":{\"value\":\"#D8FCBA\"},\"top\":{\"expr\":{\"id\":\"2769\"}},\"width\":{\"value\":0.3},\"x\":{\"field\":\"years\"}},\"id\":\"3090\",\"type\":\"VBar\"},{\"attributes\":{\"source\":{\"id\":\"3125\"}},\"id\":\"3130\",\"type\":\"CDSView\"},{\"attributes\":{},\"id\":\"3498\",\"type\":\"UnionRenderers\"},{\"attributes\":{\"bottom\":{\"expr\":{\"id\":\"2754\"}},\"fill_alpha\":{\"value\":0.1},\"fill_color\":{\"value\":\"#77AA89\"},\"line_alpha\":{\"value\":0.1},\"line_color\":{\"value\":\"#77AA89\"},\"top\":{\"expr\":{\"id\":\"2755\"}},\"width\":{\"value\":0.3},\"x\":{\"field\":\"years\"}},\"id\":\"2880\",\"type\":\"VBar\"},{\"attributes\":{},\"id\":\"3248\",\"type\":\"UnionRenderers\"},{\"attributes\":{},\"id\":\"3499\",\"type\":\"Selection\"},{\"attributes\":{\"bottom\":{\"expr\":{\"id\":\"2756\"}},\"fill_color\":{\"value\":\"#FAAEA2\"},\"line_color\":{\"value\":\"#FAAEA2\"},\"top\":{\"expr\":{\"id\":\"2757\"}},\"width\":{\"value\":0.3},\"x\":{\"field\":\"years\"}},\"id\":\"2903\",\"type\":\"VBar\"},{\"attributes\":{\"source\":{\"id\":\"3087\"}},\"id\":\"3092\",\"type\":\"CDSView\"},{\"attributes\":{\"source\":{\"id\":\"3297\"}},\"id\":\"3302\",\"type\":\"CDSView\"},{\"attributes\":{\"source\":{\"id\":\"2877\"}},\"id\":\"2882\",\"type\":\"CDSView\"},{\"attributes\":{\"source\":{\"id\":\"2955\"}},\"id\":\"2960\",\"type\":\"CDSView\"},{\"attributes\":{},\"id\":\"3249\",\"type\":\"Selection\"},{\"attributes\":{\"bottom\":{\"expr\":{\"id\":\"2770\"}},\"fill_color\":{\"value\":\"#9AA6EB\"},\"line_color\":{\"value\":\"#9AA6EB\"},\"top\":{\"expr\":{\"id\":\"2771\"}},\"width\":{\"value\":0.3},\"x\":{\"field\":\"years\"}},\"id\":\"3127\",\"type\":\"VBar\"},{\"attributes\":{},\"id\":\"3048\",\"type\":\"UnionRenderers\"},{\"attributes\":{\"data_source\":{\"id\":\"3125\"},\"glyph\":{\"id\":\"3127\"},\"hover_glyph\":null,\"muted_glyph\":null,\"name\":\"Animation\",\"nonselection_glyph\":{\"id\":\"3128\"},\"selection_glyph\":null,\"view\":{\"id\":\"3130\"}},\"id\":\"3129\",\"type\":\"GlyphRenderer\"},{\"attributes\":{\"label\":{\"value\":\"Adventure\"},\"renderers\":[{\"id\":\"2881\"}]},\"id\":\"2900\",\"type\":\"LegendItem\"},{\"attributes\":{},\"id\":\"2795\",\"type\":\"CategoricalTickFormatter\"},{\"attributes\":{\"data\":{\"Action\":[0,4,7,11,9,9,5,1],\"Adventure\":[0,3,5,6,6,7,5,2],\"Animation\":[0,0,1,0,0,1,2,1],\"Biography\":[0,2,8,7,2,3,6,1],\"Comedy\":[0,6,9,5,2,3,24,4],\"Crime\":[0,4,9,16,12,14,42,12],\"Documentary\":[0,0,2,2,7,2,9,2],\"Drama\":[0,11,27,30,19,20,61,19],\"Family\":[0,0,0,0,1,0,1,0],\"Fantasy\":[0,0,4,2,2,0,1,2],\"History\":[0,1,3,4,2,3,5,2],\"Horror\":[0,0,3,4,2,2,5,4],\"Music\":[0,1,1,0,0,0,0,0],\"Mystery\":[0,1,8,7,8,7,15,9],\"News\":[0,0,0,1,0,0,0,0],\"Romance\":[0,5,2,4,0,1,6,0],\"Sci-Fi\":[0,2,2,6,6,7,2,1],\"Sport\":[0,0,0,0,2,0,3,0],\"Talk-Show\":[0,0,1,1,0,0,0,0],\"Thriller\":[0,6,3,13,13,9,24,10],\"War\":[0,0,3,1,0,0,3,0],\"years\":[\"2014\",\"2015\",\"2016\",\"2017\",\"2018\",\"2019\",\"2020\",\"2021\"]},\"selected\":{\"id\":\"2925\"},\"selection_policy\":{\"id\":\"2924\"}},\"id\":\"2901\",\"type\":\"ColumnDataSource\"},{\"attributes\":{\"bottom\":{\"expr\":{\"id\":\"2770\"}},\"fill_alpha\":{\"value\":0.1},\"fill_color\":{\"value\":\"#9AA6EB\"},\"line_alpha\":{\"value\":0.1},\"line_color\":{\"value\":\"#9AA6EB\"},\"top\":{\"expr\":{\"id\":\"2771\"}},\"width\":{\"value\":0.3},\"x\":{\"field\":\"years\"}},\"id\":\"3128\",\"type\":\"VBar\"},{\"attributes\":{},\"id\":\"3049\",\"type\":\"Selection\"},{\"attributes\":{\"bottom\":{\"expr\":{\"id\":\"2760\"}},\"fill_color\":{\"value\":\"#13971C\"},\"line_color\":{\"value\":\"#13971C\"},\"top\":{\"expr\":{\"id\":\"2761\"}},\"width\":{\"value\":0.3},\"x\":{\"field\":\"years\"}},\"id\":\"2957\",\"type\":\"VBar\"},{\"attributes\":{\"data_source\":{\"id\":\"2955\"},\"glyph\":{\"id\":\"2957\"},\"hover_glyph\":null,\"muted_glyph\":null,\"name\":\"History\",\"nonselection_glyph\":{\"id\":\"2958\"},\"selection_glyph\":null,\"view\":{\"id\":\"2960\"}},\"id\":\"2959\",\"type\":\"GlyphRenderer\"},{\"attributes\":{\"label\":{\"value\":\"Animation\"},\"renderers\":[{\"id\":\"3129\"}]},\"id\":\"3164\",\"type\":\"LegendItem\"},{\"attributes\":{\"bottom\":{\"expr\":{\"id\":\"2760\"}},\"fill_alpha\":{\"value\":0.1},\"fill_color\":{\"value\":\"#13971C\"},\"line_alpha\":{\"value\":0.1},\"line_color\":{\"value\":\"#13971C\"},\"top\":{\"expr\":{\"id\":\"2761\"}},\"width\":{\"value\":0.3},\"x\":{\"field\":\"years\"}},\"id\":\"2958\",\"type\":\"VBar\"},{\"attributes\":{\"data\":{\"Action\":[0,4,7,11,9,9,5,1],\"Adventure\":[0,3,5,6,6,7,5,2],\"Animation\":[0,0,1,0,0,1,2,1],\"Biography\":[0,2,8,7,2,3,6,1],\"Comedy\":[0,6,9,5,2,3,24,4],\"Crime\":[0,4,9,16,12,14,42,12],\"Documentary\":[0,0,2,2,7,2,9,2],\"Drama\":[0,11,27,30,19,20,61,19],\"Family\":[0,0,0,0,1,0,1,0],\"Fantasy\":[0,0,4,2,2,0,1,2],\"History\":[0,1,3,4,2,3,5,2],\"Horror\":[0,0,3,4,2,2,5,4],\"Music\":[0,1,1,0,0,0,0,0],\"Mystery\":[0,1,8,7,8,7,15,9],\"News\":[0,0,0,1,0,0,0,0],\"Romance\":[0,5,2,4,0,1,6,0],\"Sci-Fi\":[0,2,2,6,6,7,2,1],\"Sport\":[0,0,0,0,2,0,3,0],\"Talk-Show\":[0,0,1,1,0,0,0,0],\"Thriller\":[0,6,3,13,13,9,24,10],\"War\":[0,0,3,1,0,0,3,0],\"years\":[\"2014\",\"2015\",\"2016\",\"2017\",\"2018\",\"2019\",\"2020\",\"2021\"]},\"selected\":{\"id\":\"3205\"},\"selection_policy\":{\"id\":\"3204\"}},\"id\":\"3165\",\"type\":\"ColumnDataSource\"},{\"attributes\":{},\"id\":\"2898\",\"type\":\"UnionRenderers\"},{\"attributes\":{\"label\":{\"value\":\"History\"},\"renderers\":[{\"id\":\"2959\"}]},\"id\":\"2984\",\"type\":\"LegendItem\"},{\"attributes\":{},\"id\":\"2899\",\"type\":\"Selection\"},{\"attributes\":{\"data\":{\"Action\":[0,4,7,11,9,9,5,1],\"Adventure\":[0,3,5,6,6,7,5,2],\"Animation\":[0,0,1,0,0,1,2,1],\"Biography\":[0,2,8,7,2,3,6,1],\"Comedy\":[0,6,9,5,2,3,24,4],\"Crime\":[0,4,9,16,12,14,42,12],\"Documentary\":[0,0,2,2,7,2,9,2],\"Drama\":[0,11,27,30,19,20,61,19],\"Family\":[0,0,0,0,1,0,1,0],\"Fantasy\":[0,0,4,2,2,0,1,2],\"History\":[0,1,3,4,2,3,5,2],\"Horror\":[0,0,3,4,2,2,5,4],\"Music\":[0,1,1,0,0,0,0,0],\"Mystery\":[0,1,8,7,8,7,15,9],\"News\":[0,0,0,1,0,0,0,0],\"Romance\":[0,5,2,4,0,1,6,0],\"Sci-Fi\":[0,2,2,6,6,7,2,1],\"Sport\":[0,0,0,0,2,0,3,0],\"Talk-Show\":[0,0,1,1,0,0,0,0],\"Thriller\":[0,6,3,13,13,9,24,10],\"War\":[0,0,3,1,0,0,3,0],\"years\":[\"2014\",\"2015\",\"2016\",\"2017\",\"2018\",\"2019\",\"2020\",\"2021\"]},\"selected\":{\"id\":\"2853\"},\"selection_policy\":{\"id\":\"2852\"}},\"id\":\"2835\",\"type\":\"ColumnDataSource\"},{\"attributes\":{\"data\":{\"Action\":[0,4,7,11,9,9,5,1],\"Adventure\":[0,3,5,6,6,7,5,2],\"Animation\":[0,0,1,0,0,1,2,1],\"Biography\":[0,2,8,7,2,3,6,1],\"Comedy\":[0,6,9,5,2,3,24,4],\"Crime\":[0,4,9,16,12,14,42,12],\"Documentary\":[0,0,2,2,7,2,9,2],\"Drama\":[0,11,27,30,19,20,61,19],\"Family\":[0,0,0,0,1,0,1,0],\"Fantasy\":[0,0,4,2,2,0,1,2],\"History\":[0,1,3,4,2,3,5,2],\"Horror\":[0,0,3,4,2,2,5,4],\"Music\":[0,1,1,0,0,0,0,0],\"Mystery\":[0,1,8,7,8,7,15,9],\"News\":[0,0,0,1,0,0,0,0],\"Romance\":[0,5,2,4,0,1,6,0],\"Sci-Fi\":[0,2,2,6,6,7,2,1],\"Sport\":[0,0,0,0,2,0,3,0],\"Talk-Show\":[0,0,1,1,0,0,0,0],\"Thriller\":[0,6,3,13,13,9,24,10],\"War\":[0,0,3,1,0,0,3,0],\"years\":[\"2014\",\"2015\",\"2016\",\"2017\",\"2018\",\"2019\",\"2020\",\"2021\"]},\"selected\":{\"id\":\"3015\"},\"selection_policy\":{\"id\":\"3014\"}},\"id\":\"2985\",\"type\":\"ColumnDataSource\"},{\"attributes\":{\"source\":{\"id\":\"2835\"}},\"id\":\"2840\",\"type\":\"CDSView\"},{\"attributes\":{},\"id\":\"2798\",\"type\":\"Selection\"},{\"attributes\":{},\"id\":\"3084\",\"type\":\"UnionRenderers\"},{\"attributes\":{},\"id\":\"3162\",\"type\":\"UnionRenderers\"},{\"attributes\":{},\"id\":\"3163\",\"type\":\"Selection\"},{\"attributes\":{\"bottom\":{\"expr\":{\"id\":\"2750\"}},\"fill_color\":{\"value\":\"#4FA10F\"},\"line_color\":{\"value\":\"#4FA10F\"},\"top\":{\"expr\":{\"id\":\"2751\"}},\"width\":{\"value\":0.3},\"x\":{\"field\":\"years\"}},\"id\":\"2837\",\"type\":\"VBar\"},{\"attributes\":{\"data_source\":{\"id\":\"2835\"},\"glyph\":{\"id\":\"2837\"},\"hover_glyph\":null,\"muted_glyph\":null,\"name\":\"Comedy\",\"nonselection_glyph\":{\"id\":\"2838\"},\"selection_glyph\":null,\"view\":{\"id\":\"2840\"}},\"id\":\"2839\",\"type\":\"GlyphRenderer\"},{\"attributes\":{},\"id\":\"2982\",\"type\":\"UnionRenderers\"},{\"attributes\":{\"bottom\":{\"expr\":{\"id\":\"2750\"}},\"fill_alpha\":{\"value\":0.1},\"fill_color\":{\"value\":\"#4FA10F\"},\"line_alpha\":{\"value\":0.1},\"line_color\":{\"value\":\"#4FA10F\"},\"top\":{\"expr\":{\"id\":\"2751\"}},\"width\":{\"value\":0.3},\"x\":{\"field\":\"years\"}},\"id\":\"2838\",\"type\":\"VBar\"},{\"attributes\":{},\"id\":\"2983\",\"type\":\"Selection\"},{\"attributes\":{\"data\":{\"Action\":[0,4,7,11,9,9,5,1],\"Adventure\":[0,3,5,6,6,7,5,2],\"Animation\":[0,0,1,0,0,1,2,1],\"Biography\":[0,2,8,7,2,3,6,1],\"Comedy\":[0,6,9,5,2,3,24,4],\"Crime\":[0,4,9,16,12,14,42,12],\"Documentary\":[0,0,2,2,7,2,9,2],\"Drama\":[0,11,27,30,19,20,61,19],\"Family\":[0,0,0,0,1,0,1,0],\"Fantasy\":[0,0,4,2,2,0,1,2],\"History\":[0,1,3,4,2,3,5,2],\"Horror\":[0,0,3,4,2,2,5,4],\"Music\":[0,1,1,0,0,0,0,0],\"Mystery\":[0,1,8,7,8,7,15,9],\"News\":[0,0,0,1,0,0,0,0],\"Romance\":[0,5,2,4,0,1,6,0],\"Sci-Fi\":[0,2,2,6,6,7,2,1],\"Sport\":[0,0,0,0,2,0,3,0],\"Talk-Show\":[0,0,1,1,0,0,0,0],\"Thriller\":[0,6,3,13,13,9,24,10],\"War\":[0,0,3,1,0,0,3,0],\"years\":[\"2014\",\"2015\",\"2016\",\"2017\",\"2018\",\"2019\",\"2020\",\"2021\"]},\"selected\":{\"id\":\"3295\"},\"selection_policy\":{\"id\":\"3294\"}},\"id\":\"3251\",\"type\":\"ColumnDataSource\"},{\"attributes\":{},\"id\":\"3085\",\"type\":\"Selection\"},{\"attributes\":{\"label\":{\"value\":\"Comedy\"},\"renderers\":[{\"id\":\"2839\"}]},\"id\":\"2854\",\"type\":\"LegendItem\"},{\"attributes\":{\"data\":{\"Action\":[0,4,7,11,9,9,5,1],\"Adventure\":[0,3,5,6,6,7,5,2],\"Animation\":[0,0,1,0,0,1,2,1],\"Biography\":[0,2,8,7,2,3,6,1],\"Comedy\":[0,6,9,5,2,3,24,4],\"Crime\":[0,4,9,16,12,14,42,12],\"Documentary\":[0,0,2,2,7,2,9,2],\"Drama\":[0,11,27,30,19,20,61,19],\"Family\":[0,0,0,0,1,0,1,0],\"Fantasy\":[0,0,4,2,2,0,1,2],\"History\":[0,1,3,4,2,3,5,2],\"Horror\":[0,0,3,4,2,2,5,4],\"Music\":[0,1,1,0,0,0,0,0],\"Mystery\":[0,1,8,7,8,7,15,9],\"News\":[0,0,0,1,0,0,0,0],\"Romance\":[0,5,2,4,0,1,6,0],\"Sci-Fi\":[0,2,2,6,6,7,2,1],\"Sport\":[0,0,0,0,2,0,3,0],\"Talk-Show\":[0,0,1,1,0,0,0,0],\"Thriller\":[0,6,3,13,13,9,24,10],\"War\":[0,0,3,1,0,0,3,0],\"years\":[\"2014\",\"2015\",\"2016\",\"2017\",\"2018\",\"2019\",\"2020\",\"2021\"]},\"selected\":{\"id\":\"3343\"},\"selection_policy\":{\"id\":\"3342\"}},\"id\":\"3297\",\"type\":\"ColumnDataSource\"},{\"attributes\":{\"label\":{\"value\":\"War\"},\"renderers\":[{\"id\":\"3255\"}]},\"id\":\"3296\",\"type\":\"LegendItem\"},{\"attributes\":{\"data\":{\"Action\":[0,4,7,11,9,9,5,1],\"Adventure\":[0,3,5,6,6,7,5,2],\"Animation\":[0,0,1,0,0,1,2,1],\"Biography\":[0,2,8,7,2,3,6,1],\"Comedy\":[0,6,9,5,2,3,24,4],\"Crime\":[0,4,9,16,12,14,42,12],\"Documentary\":[0,0,2,2,7,2,9,2],\"Drama\":[0,11,27,30,19,20,61,19],\"Family\":[0,0,0,0,1,0,1,0],\"Fantasy\":[0,0,4,2,2,0,1,2],\"History\":[0,1,3,4,2,3,5,2],\"Horror\":[0,0,3,4,2,2,5,4],\"Music\":[0,1,1,0,0,0,0,0],\"Mystery\":[0,1,8,7,8,7,15,9],\"News\":[0,0,0,1,0,0,0,0],\"Romance\":[0,5,2,4,0,1,6,0],\"Sci-Fi\":[0,2,2,6,6,7,2,1],\"Sport\":[0,0,0,0,2,0,3,0],\"Talk-Show\":[0,0,1,1,0,0,0,0],\"Thriller\":[0,6,3,13,13,9,24,10],\"War\":[0,0,3,1,0,0,3,0],\"years\":[\"2014\",\"2015\",\"2016\",\"2017\",\"2018\",\"2019\",\"2020\",\"2021\"]},\"selected\":{\"id\":\"2875\"},\"selection_policy\":{\"id\":\"2874\"}},\"id\":\"2855\",\"type\":\"ColumnDataSource\"},{\"attributes\":{\"data\":{\"Action\":[0,4,7,11,9,9,5,1],\"Adventure\":[0,3,5,6,6,7,5,2],\"Animation\":[0,0,1,0,0,1,2,1],\"Biography\":[0,2,8,7,2,3,6,1],\"Comedy\":[0,6,9,5,2,3,24,4],\"Crime\":[0,4,9,16,12,14,42,12],\"Documentary\":[0,0,2,2,7,2,9,2],\"Drama\":[0,11,27,30,19,20,61,19],\"Family\":[0,0,0,0,1,0,1,0],\"Fantasy\":[0,0,4,2,2,0,1,2],\"History\":[0,1,3,4,2,3,5,2],\"Horror\":[0,0,3,4,2,2,5,4],\"Music\":[0,1,1,0,0,0,0,0],\"Mystery\":[0,1,8,7,8,7,15,9],\"News\":[0,0,0,1,0,0,0,0],\"Romance\":[0,5,2,4,0,1,6,0],\"Sci-Fi\":[0,2,2,6,6,7,2,1],\"Sport\":[0,0,0,0,2,0,3,0],\"Talk-Show\":[0,0,1,1,0,0,0,0],\"Thriller\":[0,6,3,13,13,9,24,10],\"War\":[0,0,3,1,0,0,3,0],\"years\":[\"2014\",\"2015\",\"2016\",\"2017\",\"2018\",\"2019\",\"2020\",\"2021\"]},\"selected\":{\"id\":\"3085\"},\"selection_policy\":{\"id\":\"3084\"}},\"id\":\"3051\",\"type\":\"ColumnDataSource\"},{\"attributes\":{\"source\":{\"id\":\"3051\"}},\"id\":\"3056\",\"type\":\"CDSView\"},{\"attributes\":{\"bottom\":{\"expr\":{\"id\":\"2776\"}},\"fill_color\":{\"value\":\"#A4E8D5\"},\"line_color\":{\"value\":\"#A4E8D5\"},\"top\":{\"expr\":{\"id\":\"2777\"}},\"width\":{\"value\":0.3},\"x\":{\"field\":\"years\"}},\"id\":\"3253\",\"type\":\"VBar\"},{\"attributes\":{\"data_source\":{\"id\":\"3051\"},\"glyph\":{\"id\":\"3053\"},\"hover_glyph\":null,\"muted_glyph\":null,\"name\":\"Sci-Fi\",\"nonselection_glyph\":{\"id\":\"3054\"},\"selection_glyph\":null,\"view\":{\"id\":\"3056\"}},\"id\":\"3055\",\"type\":\"GlyphRenderer\"},{\"attributes\":{\"data_source\":{\"id\":\"3251\"},\"glyph\":{\"id\":\"3253\"},\"hover_glyph\":null,\"muted_glyph\":null,\"name\":\"War\",\"nonselection_glyph\":{\"id\":\"3254\"},\"selection_glyph\":null,\"view\":{\"id\":\"3256\"}},\"id\":\"3255\",\"type\":\"GlyphRenderer\"},{\"attributes\":{},\"id\":\"2852\",\"type\":\"UnionRenderers\"},{\"attributes\":{\"bottom\":{\"expr\":{\"id\":\"2776\"}},\"fill_alpha\":{\"value\":0.1},\"fill_color\":{\"value\":\"#A4E8D5\"},\"line_alpha\":{\"value\":0.1},\"line_color\":{\"value\":\"#A4E8D5\"},\"top\":{\"expr\":{\"id\":\"2777\"}},\"width\":{\"value\":0.3},\"x\":{\"field\":\"years\"}},\"id\":\"3254\",\"type\":\"VBar\"},{\"attributes\":{\"bottom\":{\"expr\":{\"id\":\"2766\"}},\"fill_color\":{\"value\":\"#6C0BC2\"},\"line_color\":{\"value\":\"#6C0BC2\"},\"top\":{\"expr\":{\"id\":\"2767\"}},\"width\":{\"value\":0.3},\"x\":{\"field\":\"years\"}},\"id\":\"3053\",\"type\":\"VBar\"},{\"attributes\":{\"bottom\":{\"expr\":{\"id\":\"2766\"}},\"fill_alpha\":{\"value\":0.1},\"fill_color\":{\"value\":\"#6C0BC2\"},\"line_alpha\":{\"value\":0.1},\"line_color\":{\"value\":\"#6C0BC2\"},\"top\":{\"expr\":{\"id\":\"2767\"}},\"width\":{\"value\":0.3},\"x\":{\"field\":\"years\"}},\"id\":\"3054\",\"type\":\"VBar\"}],\"root_ids\":[\"2723\"]},\"title\":\"Bokeh Application\",\"version\":\"2.2.3\"}};\n",
       "  var render_items = [{\"docid\":\"4f95d281-695f-4bd3-99ff-8ebaca47b533\",\"root_ids\":[\"2723\"],\"roots\":{\"2723\":\"dcff05ab-e901-4600-884a-f1c9e51f21f9\"}}];\n",
       "  root.Bokeh.embed.embed_items_notebook(docs_json, render_items);\n",
       "\n",
       "  }\n",
       "  if (root.Bokeh !== undefined) {\n",
       "    embed_document(root);\n",
       "  } else {\n",
       "    var attempts = 0;\n",
       "    var timer = setInterval(function(root) {\n",
       "      if (root.Bokeh !== undefined) {\n",
       "        clearInterval(timer);\n",
       "        embed_document(root);\n",
       "      } else {\n",
       "        attempts++;\n",
       "        if (attempts > 100) {\n",
       "          clearInterval(timer);\n",
       "          console.log(\"Bokeh: ERROR: Unable to run BokehJS code because BokehJS library is missing\");\n",
       "        }\n",
       "      }\n",
       "    }, 10, root)\n",
       "  }\n",
       "})(window);"
      ],
      "application/vnd.bokehjs_exec.v0+json": ""
     },
     "metadata": {
      "application/vnd.bokehjs_exec.v0+json": {
       "id": "2723"
      }
     },
     "output_type": "display_data"
    }
   ],
   "source": [
    "all_possible_genres_seen, source = build_data_source_for_graph()\n",
    "\n",
    "labels = [str(l) for l in all_possible_genres_seen]\n",
    "\n",
    "p = figure(x_range=source['years'], plot_height=450, plot_width=1000, y_range=(0,200),\n",
    "           title=\"Genre Distribution per Year\",\n",
    "           toolbar_location=None, tools=\"hover\", tooltips=\"$name in @years: @$name\")\n",
    "\n",
    "p.vbar_stack(labels, x='years', width=0.3, \n",
    "             color=random_HEX_colors(len(labels)), source=source,\n",
    "             legend_label=labels)\n",
    "\n",
    "# p.y_range.start = 0\n",
    "p.x_range.range_padding = .15\n",
    "# p.min_border_bottom=10\n",
    "p.xgrid.grid_line_color = None\n",
    "p.axis.minor_tick_line_color = None\n",
    "p.outline_line_color = None\n",
    "\n",
    "p.legend.orientation = \"horizontal\"\n",
    "# p.legend.label_text_font_size = \"5px\"\n",
    "\n",
    "new_legend = p.legend[0]\n",
    "p.add_layout(new_legend, 'below')\n",
    "\n",
    "show(p)"
   ]
  },
  {
   "cell_type": "markdown",
   "metadata": {},
   "source": [
    "## Most recent data"
   ]
  },
  {
   "cell_type": "code",
   "execution_count": 68,
   "metadata": {},
   "outputs": [
    {
     "name": "stdout",
     "output_type": "stream",
     "text": [
      "Retrieving the most recently seen shows/movies this past 2 weeks\n"
     ]
    },
    {
     "data": {
      "text/plain": [
       "[{'ID': 'tt0407887',\n",
       "  'type': 'movie',\n",
       "  'title': 'The Departed',\n",
       "  'genre': 'Crime, Drama, Thriller',\n",
       "  'year': '2006',\n",
       "  'personal_rating': '9',\n",
       "  'IMDB_rating': '8.5',\n",
       "  'rated_on': '14 Feb 2021',\n",
       "  'actors': ['Leonardo DiCaprio',\n",
       "   'Matt Damon',\n",
       "   'Jack Nicholson',\n",
       "   'Mark Wahlberg'],\n",
       "  'director': 'Martin Scorsese',\n",
       "  'runtime': '2 hr 31 min'},\n",
       " {'ID': 'tt0117951',\n",
       "  'type': 'movie',\n",
       "  'title': 'Trainspotting',\n",
       "  'genre': 'Drama',\n",
       "  'year': '1996',\n",
       "  'personal_rating': '8',\n",
       "  'IMDB_rating': '8.1',\n",
       "  'rated_on': '12 Feb 2021',\n",
       "  'actors': ['Ewan McGregor',\n",
       "   'Ewen Bremner',\n",
       "   'Jonny Lee Miller',\n",
       "   'Kevin McKidd'],\n",
       "  'director': 'Danny Boyle',\n",
       "  'runtime': '1 hr 33 min'},\n",
       " {'ID': 'tt8980602',\n",
       "  'type': 'movie',\n",
       "  'title': 'The Kid Detective',\n",
       "  'genre': 'Comedy, Drama, Mystery',\n",
       "  'year': '2020',\n",
       "  'personal_rating': '8',\n",
       "  'IMDB_rating': '6.9',\n",
       "  'rated_on': '11 Feb 2021',\n",
       "  'actors': ['Kaitlyn Chalmers-Rizzato',\n",
       "   'Adam Brody',\n",
       "   'Kaleb Horn',\n",
       "   'Wendy Crewson'],\n",
       "  'director': 'Evan Morgan',\n",
       "  'runtime': '1 hr 40 min'},\n",
       " {'ID': 'tt2401256',\n",
       "  'type': 'tv_series',\n",
       "  'title': 'The Night Of',\n",
       "  'genre': 'Crime, Drama, Mystery',\n",
       "  'year': '2016',\n",
       "  'personal_rating': '9',\n",
       "  'IMDB_rating': '8.5',\n",
       "  'rated_on': '11 Feb 2021',\n",
       "  'actors': ['Riz Ahmed', 'John Turturro', 'Bill Camp', 'Amara Karan'],\n",
       "  'director': '',\n",
       "  'runtime': ''},\n",
       " {'ID': 'tt9620292',\n",
       "  'type': 'movie',\n",
       "  'title': 'Promising Young Woman',\n",
       "  'genre': 'Crime, Drama, Thriller',\n",
       "  'year': '2020',\n",
       "  'personal_rating': '9',\n",
       "  'IMDB_rating': '7.5',\n",
       "  'rated_on': '08 Feb 2021',\n",
       "  'actors': ['Carey Mulligan', 'Bo Burnham', 'Alison Brie', 'Clancy Brown'],\n",
       "  'director': 'Emerald Fennell',\n",
       "  'runtime': '1 hr 53 min'},\n",
       " {'ID': 'tt10016180',\n",
       "  'type': 'movie',\n",
       "  'title': 'The Little Things',\n",
       "  'genre': 'Crime, Drama, Thriller',\n",
       "  'year': '2021',\n",
       "  'personal_rating': '6',\n",
       "  'IMDB_rating': '6.3',\n",
       "  'rated_on': '08 Feb 2021',\n",
       "  'actors': ['Denzel Washington', 'Rami Malek', 'Jared Leto', 'Chris Bauer'],\n",
       "  'director': 'John Lee Hancock',\n",
       "  'runtime': '2 hr 8 min'},\n",
       " {'ID': 'tt10287954',\n",
       "  'type': 'tv_series',\n",
       "  'title': 'Rose Island',\n",
       "  'genre': 'Adventure, Comedy, Drama',\n",
       "  'year': '2020',\n",
       "  'personal_rating': '8',\n",
       "  'IMDB_rating': '7',\n",
       "  'rated_on': '07 Feb 2021',\n",
       "  'actors': ['Elio Germano',\n",
       "   'Leonardo Lidi',\n",
       "   'Matilda De Angelis',\n",
       "   'Tom Wlaschiha'],\n",
       "  'director': '',\n",
       "  'runtime': ''},\n",
       " {'ID': 'tt8550800',\n",
       "  'type': 'tv_series',\n",
       "  'title': 'The Outsider',\n",
       "  'genre': 'Crime, Drama, Fantasy',\n",
       "  'year': '2020– ',\n",
       "  'personal_rating': '8',\n",
       "  'IMDB_rating': '7.8',\n",
       "  'rated_on': '06 Feb 2021',\n",
       "  'actors': ['Ben Mendelsohn', 'Bill Camp', 'Jeremy Bobb', 'Mare Winningham'],\n",
       "  'director': '',\n",
       "  'runtime': ''}]"
      ]
     },
     "execution_count": 68,
     "metadata": {},
     "output_type": "execute_result"
    }
   ],
   "source": [
    "def retrieve_most_recent_seen():\n",
    "    \n",
    "    print(\"\"\"Retrieving the most recently seen shows/movies this past 2 weeks\"\"\")\n",
    "    \n",
    "    recent_data = []\n",
    "    \n",
    "    last_2_weeks = timestring.Range('last 14 days')\n",
    "    \n",
    "    for ID, data in movieRatings.items():\n",
    "        d = data['rated_on'].split(' ')\n",
    "        finalDate = d[1] +' ' + d[0] + ' ' + d[2]\n",
    "        finalDate = timestring.Date(finalDate)\n",
    "        \n",
    "        if finalDate not in last_2_weeks:\n",
    "            break\n",
    "        else:\n",
    "            recent_data.append(data)\n",
    "        \n",
    "    return recent_data\n",
    "\n",
    "\n",
    "retrieve_most_recent_seen()"
   ]
  },
  {
   "cell_type": "markdown",
   "metadata": {},
   "source": [
    "## TMDB API"
   ]
  },
  {
   "cell_type": "code",
   "execution_count": 69,
   "metadata": {},
   "outputs": [
    {
     "name": "stdout",
     "output_type": "stream",
     "text": [
      "Retrieving the most recently seen shows/movies this past 2 weeks\n"
     ]
    }
   ],
   "source": [
    "import requests\n",
    "import json\n",
    "import shutil\n",
    "import glob, os\n",
    "from PIL import Image\n",
    "\n",
    "TMDB_API = '2410c5007d1bd89e6f524c8659332ca4'\n",
    "external_source = '&external_source=imdb_id'\n",
    "img_url = []\n",
    "        \n",
    "recent_data = retrieve_most_recent_seen()\n",
    "\n",
    "for recent in recent_data:\n",
    "    ID_find = recent['ID']\n",
    "    r = requests.get(f'https://api.themoviedb.org/3/find/{ID_find}?api_key={TMDB_API}&{external_source}')\n",
    "    data = r.json()\n",
    "\n",
    "    for i in data:\n",
    "        for data_inner in data[i]:\n",
    "            if data_inner != '':\n",
    "                img_TMDB = data_inner['poster_path']\n",
    "                \n",
    "    img_url.append(f'https://image.tmdb.org/t/p/w500{img_TMDB}')\n",
    "\n",
    "    \n",
    "for n, img in enumerate(img_url):\n",
    "    response = requests.get(img, stream=True)\n",
    "    with open(f'img_{n}.png', 'wb') as out_file:\n",
    "        shutil.copyfileobj(response.raw, out_file)\n",
    "    del response"
   ]
  },
  {
   "cell_type": "markdown",
   "metadata": {},
   "source": [
    "## Retrieve people data"
   ]
  },
  {
   "cell_type": "code",
   "execution_count": 70,
   "metadata": {},
   "outputs": [],
   "source": [
    "def retrieve_people(d):\n",
    "    actors = {}\n",
    "    directors = {}\n",
    "    \n",
    "    for ID, data in d.items():\n",
    "        tmp_act = data['actors']\n",
    "        tmp_dir = data['director']\n",
    "        \n",
    "        if tmp_act != '':\n",
    "            for _ in tmp_act:\n",
    "                try:\n",
    "                    if _ == '':\n",
    "                        print(f\"This: {data['title']}\")\n",
    "                    actors[_] += 1\n",
    "                except KeyError:\n",
    "                    actors[_] = 1\n",
    "                                       \n",
    "        if tmp_dir != '':\n",
    "            try:\n",
    "                directors[tmp_dir] += 1\n",
    "            except KeyError:\n",
    "                directors[tmp_dir] = 1\n",
    "    \n",
    "    return directors, actors"
   ]
  },
  {
   "cell_type": "code",
   "execution_count": 71,
   "metadata": {},
   "outputs": [],
   "source": [
    "def bulk_download_images(people_type, url):\n",
    "    \n",
    "    for n, img in enumerate(url):\n",
    "        response = requests.get(img, stream=True)\n",
    "        with open(f'{people_type}_{n}.png', 'wb') as out_file:\n",
    "            shutil.copyfileobj(response.raw, out_file)\n",
    "        del response\n",
    "        \n",
    "    return f\"Downloaded {people_type}-related data.\""
   ]
  },
  {
   "cell_type": "code",
   "execution_count": 72,
   "metadata": {},
   "outputs": [
    {
     "data": {
      "text/plain": [
       "({'Brad Pitt': 7, 'Jake Gyllenhaal': 8, 'Robert De Niro': 14},\n",
       " {'Christopher Nolan': 4, 'David Fincher': 5, 'Martin Scorsese': 8})"
      ]
     },
     "execution_count": 72,
     "metadata": {},
     "output_type": "execute_result"
    }
   ],
   "source": [
    "di, ac = retrieve_people(movieRatings)\n",
    "\n",
    "sorted_actors = dict(sorted(ac.items(), key=lambda item: item[1]))\n",
    "sorted_directors = dict(sorted(di.items(), key=lambda item: item[1]))\n",
    "\n",
    "top_three_actors = {k: sorted_actors[k] for k in list(sorted_actors)[len(sorted_actors)-3:]}\n",
    "top_three_directors = {k: sorted_directors[k] for k in list(sorted_directors)[len(sorted_directors)-3:]}\n",
    "top_three_actors, top_three_directors"
   ]
  },
  {
   "cell_type": "code",
   "execution_count": 73,
   "metadata": {},
   "outputs": [
    {
     "data": {
      "text/plain": [
       "'Downloaded actor-related data.'"
      ]
     },
     "execution_count": 73,
     "metadata": {},
     "output_type": "execute_result"
    }
   ],
   "source": [
    "# Retriving TMDB images for actors\n",
    "TMDB_API = '2410c5007d1bd89e6f524c8659332ca4'\n",
    "img_url = []\n",
    "        \n",
    "# https://api.themoviedb.org/3/search/person?api_key=2410c5007d1bd89e6f524c8659332ca4&query=asdasd\n",
    "\n",
    "for actor in top_three_actors.keys():\n",
    "    query = actor\n",
    "    page_number = 1\n",
    "    r = requests.get(f'https://api.themoviedb.org/3/search/person?api_key={TMDB_API}&query={query}&page={page_number}')\n",
    "    data = r.json()\n",
    "\n",
    "    for d in data['results']:\n",
    "        img_TMDB = d['profile_path']\n",
    "        if img_TMDB != None:\n",
    "            img_url.append(f'https://image.tmdb.org/t/p/w500{img_TMDB}')\n",
    "            break\n",
    "\n",
    "\n",
    "bulk_download_images('actor', img_url)"
   ]
  },
  {
   "cell_type": "code",
   "execution_count": 74,
   "metadata": {},
   "outputs": [
    {
     "data": {
      "text/plain": [
       "'Downloaded director-related data.'"
      ]
     },
     "execution_count": 74,
     "metadata": {},
     "output_type": "execute_result"
    }
   ],
   "source": [
    "# Retriving TMDB images for directors\n",
    "TMDB_API = '2410c5007d1bd89e6f524c8659332ca4'\n",
    "img_url = []\n",
    "        \n",
    "# https://api.themoviedb.org/3/search/person?api_key=2410c5007d1bd89e6f524c8659332ca4&query=asdasd\n",
    "\n",
    "for director in top_three_directors.keys():\n",
    "    query = director\n",
    "    page_number = 1\n",
    "    r = requests.get(f'https://api.themoviedb.org/3/search/person?api_key={TMDB_API}&query={query}&page={page_number}')\n",
    "    data = r.json()\n",
    "\n",
    "    for d in data['results']:\n",
    "        img_TMDB = d['profile_path']\n",
    "        if img_TMDB != None:\n",
    "            img_url.append(f'https://image.tmdb.org/t/p/w500{img_TMDB}')\n",
    "            break\n",
    "\n",
    "bulk_download_images('director', img_url)"
   ]
  },
  {
   "cell_type": "markdown",
   "metadata": {},
   "source": [
    "## Average rating yearly"
   ]
  },
  {
   "cell_type": "code",
   "execution_count": 75,
   "metadata": {},
   "outputs": [],
   "source": [
    "def average_yearly_rating(years, debug=False):\n",
    "    average_rating_data = []\n",
    "    \n",
    "    for y in years:\n",
    "        tmp_ratings = []\n",
    "        current_m, current_t = retrieve_year_specific_data(y)\n",
    "        current_data = current_m + current_t\n",
    "\n",
    "        for data in current_data:\n",
    "            tmp_ratings.append(int(data['personal_rating']))\n",
    "        try:\n",
    "            mean = statistics.mean(tmp_ratings)\n",
    "            median = statistics.median(tmp_ratings)\n",
    "            stdev = statistics.stdev(tmp_ratings)\n",
    "            \n",
    "            if debug:\n",
    "                print(f\"In {y}:\")\n",
    "                print(f'Mean: {mean}, Median: {median}, Stdev: {stdev}')\n",
    "            \n",
    "            average_rating_data.append(round(mean,2))\n",
    "            \n",
    "        except statistics.StatisticsError:\n",
    "            if debug:\n",
    "                print(f\"No Data in {y}.\")\n",
    "            average_rating_data.append(np.nan)\n",
    "    \n",
    "    return average_rating_data"
   ]
  },
  {
   "cell_type": "code",
   "execution_count": 76,
   "metadata": {},
   "outputs": [
    {
     "data": {
      "text/html": [
       "\n",
       "\n",
       "\n",
       "\n",
       "\n",
       "\n",
       "  <div class=\"bk-root\" id=\"8a265207-3250-435d-9428-96bc6a42ac2b\" data-root-id=\"3870\"></div>\n"
      ]
     },
     "metadata": {},
     "output_type": "display_data"
    },
    {
     "data": {
      "application/javascript": [
       "(function(root) {\n",
       "  function embed_document(root) {\n",
       "    \n",
       "  var docs_json = {\"f84d55d6-6a8d-4356-9a6d-200f3cf2c216\":{\"roots\":{\"references\":[{\"attributes\":{\"below\":[{\"id\":\"3881\"}],\"center\":[{\"id\":\"3883\"},{\"id\":\"3887\"}],\"left\":[{\"id\":\"3884\"}],\"plot_height\":350,\"renderers\":[{\"id\":\"3894\"}],\"title\":{\"id\":\"3871\"},\"toolbar\":{\"id\":\"3889\"},\"toolbar_location\":null,\"x_range\":{\"id\":\"3873\"},\"x_scale\":{\"id\":\"3877\"},\"y_range\":{\"id\":\"3875\"},\"y_scale\":{\"id\":\"3879\"}},\"id\":\"3870\",\"subtype\":\"Figure\",\"type\":\"Plot\"},{\"attributes\":{\"active_drag\":\"auto\",\"active_inspect\":\"auto\",\"active_multi\":null,\"active_scroll\":\"auto\",\"active_tap\":\"auto\",\"tools\":[{\"id\":\"3888\"}]},\"id\":\"3889\",\"type\":\"Toolbar\"},{\"attributes\":{},\"id\":\"3879\",\"type\":\"LinearScale\"},{\"attributes\":{},\"id\":\"4034\",\"type\":\"UnionRenderers\"},{\"attributes\":{},\"id\":\"4030\",\"type\":\"BasicTickFormatter\"},{\"attributes\":{},\"id\":\"3885\",\"type\":\"BasicTicker\"},{\"attributes\":{\"formatter\":{\"id\":\"4030\"},\"ticker\":{\"id\":\"3885\"}},\"id\":\"3884\",\"type\":\"LinearAxis\"},{\"attributes\":{},\"id\":\"4032\",\"type\":\"CategoricalTickFormatter\"},{\"attributes\":{\"axis\":{\"id\":\"3881\"},\"grid_line_color\":null,\"ticker\":null},\"id\":\"3883\",\"type\":\"Grid\"},{\"attributes\":{\"end\":102},\"id\":\"3875\",\"type\":\"Range1d\"},{\"attributes\":{\"formatter\":{\"id\":\"4032\"},\"ticker\":{\"id\":\"3882\"}},\"id\":\"3881\",\"type\":\"CategoricalAxis\"},{\"attributes\":{},\"id\":\"3877\",\"type\":\"CategoricalScale\"},{\"attributes\":{\"axis\":{\"id\":\"3884\"},\"dimension\":1,\"ticker\":null},\"id\":\"3887\",\"type\":\"Grid\"},{\"attributes\":{\"factors\":[\"2014\",\"2015\",\"2016\",\"2017\",\"2018\",\"2019\",\"2020\",\"2021\"]},\"id\":\"3873\",\"type\":\"FactorRange\"},{\"attributes\":{\"data\":{\"avg\":[\"NaN\",8.17,7.61,7.07,7.14,7.18,7.71,7.8],\"color\":[\"#440154\",\"#46317E\",\"#365A8C\",\"#277E8E\",\"#1EA087\",\"#49C16D\",\"#9DD93A\",\"#FDE724\"],\"counts\":[0,18,36,46,36,33,82,25],\"year\":[\"2014\",\"2015\",\"2016\",\"2017\",\"2018\",\"2019\",\"2020\",\"2021\"]},\"selected\":{\"id\":\"4035\"},\"selection_policy\":{\"id\":\"4034\"}},\"id\":\"3869\",\"type\":\"ColumnDataSource\"},{\"attributes\":{\"text\":\"Yearly Distribution w/ Ratings Average\"},\"id\":\"3871\",\"type\":\"Title\"},{\"attributes\":{},\"id\":\"3882\",\"type\":\"CategoricalTicker\"},{\"attributes\":{\"fill_color\":{\"field\":\"color\"},\"line_color\":{\"field\":\"color\"},\"top\":{\"field\":\"counts\"},\"width\":{\"value\":0.9},\"x\":{\"field\":\"year\"}},\"id\":\"3892\",\"type\":\"VBar\"},{\"attributes\":{},\"id\":\"4035\",\"type\":\"Selection\"},{\"attributes\":{\"source\":{\"id\":\"3869\"}},\"id\":\"3895\",\"type\":\"CDSView\"},{\"attributes\":{\"data_source\":{\"id\":\"3869\"},\"glyph\":{\"id\":\"3892\"},\"hover_glyph\":null,\"muted_glyph\":null,\"nonselection_glyph\":{\"id\":\"3893\"},\"selection_glyph\":null,\"view\":{\"id\":\"3895\"}},\"id\":\"3894\",\"type\":\"GlyphRenderer\"},{\"attributes\":{\"fill_alpha\":{\"value\":0.1},\"fill_color\":{\"field\":\"color\"},\"line_alpha\":{\"value\":0.1},\"line_color\":{\"field\":\"color\"},\"top\":{\"field\":\"counts\"},\"width\":{\"value\":0.9},\"x\":{\"field\":\"year\"}},\"id\":\"3893\",\"type\":\"VBar\"},{\"attributes\":{\"callback\":null,\"tooltips\":\"data points: @counts, average: @avg\"},\"id\":\"3888\",\"type\":\"HoverTool\"}],\"root_ids\":[\"3870\"]},\"title\":\"Bokeh Application\",\"version\":\"2.2.3\"}};\n",
       "  var render_items = [{\"docid\":\"f84d55d6-6a8d-4356-9a6d-200f3cf2c216\",\"root_ids\":[\"3870\"],\"roots\":{\"3870\":\"8a265207-3250-435d-9428-96bc6a42ac2b\"}}];\n",
       "  root.Bokeh.embed.embed_items_notebook(docs_json, render_items);\n",
       "\n",
       "  }\n",
       "  if (root.Bokeh !== undefined) {\n",
       "    embed_document(root);\n",
       "  } else {\n",
       "    var attempts = 0;\n",
       "    var timer = setInterval(function(root) {\n",
       "      if (root.Bokeh !== undefined) {\n",
       "        clearInterval(timer);\n",
       "        embed_document(root);\n",
       "      } else {\n",
       "        attempts++;\n",
       "        if (attempts > 100) {\n",
       "          clearInterval(timer);\n",
       "          console.log(\"Bokeh: ERROR: Unable to run BokehJS code because BokehJS library is missing\");\n",
       "        }\n",
       "      }\n",
       "    }, 10, root)\n",
       "  }\n",
       "})(window);"
      ],
      "application/vnd.bokehjs_exec.v0+json": ""
     },
     "metadata": {
      "application/vnd.bokehjs_exec.v0+json": {
       "id": "3870"
      }
     },
     "output_type": "display_data"
    }
   ],
   "source": [
    "years, counts, _, _ = yearly_stats_distribution()\n",
    "\n",
    "avg = average_yearly_rating(years)\n",
    "\n",
    "source = ColumnDataSource(data=dict(year=years, counts=counts, avg=avg, color=small_palettes['Viridis'][len(years)]))\n",
    "\n",
    "p = figure(x_range=years, y_range=(min(counts),max(counts)+20), plot_height=350, title=\"Yearly Distribution w/ Ratings Average\",\n",
    "           toolbar_location=None, tools=\"hover\", tooltips=\"data points: @counts, average: @avg\")\n",
    "\n",
    "p.vbar(x='year', top='counts', width=0.9, color='color', source=source)\n",
    "\n",
    "p.xgrid.grid_line_color = None\n",
    "\n",
    "show(p)"
   ]
  },
  {
   "cell_type": "code",
   "execution_count": 77,
   "metadata": {},
   "outputs": [
    {
     "name": "stdout",
     "output_type": "stream",
     "text": [
      "7.525714285714286 7.61 7.07 8.17\n"
     ]
    }
   ],
   "source": [
    "global_mean = np.nanmean(avg)\n",
    "global_median = np.nanmedian(avg)\n",
    "global_min = np.nanmin(avg)\n",
    "global_max = np.nanmax(avg)\n",
    "\n",
    "print(global_mean, global_median, global_min, global_max)"
   ]
  },
  {
   "cell_type": "markdown",
   "metadata": {},
   "source": [
    "## Longest Runtime Yearly"
   ]
  },
  {
   "cell_type": "code",
   "execution_count": 137,
   "metadata": {},
   "outputs": [
    {
     "data": {
      "text/plain": [
       "{'ID': 'tt0087843',\n",
       " 'type': 'movie',\n",
       " 'title': 'Once Upon a Time in America',\n",
       " 'genre': 'Crime, Drama',\n",
       " 'year': '1984',\n",
       " 'personal_rating': '9',\n",
       " 'IMDB_rating': '8.4',\n",
       " 'rated_on': '25 Dec 2019',\n",
       " 'actors': ['Robert De Niro',\n",
       "  'James Woods',\n",
       "  'Elizabeth McGovern',\n",
       "  'Treat Williams'],\n",
       " 'director': 'Sergio Leone',\n",
       " 'runtime': '3 hr 49 min'}"
      ]
     },
     "execution_count": 137,
     "metadata": {},
     "output_type": "execute_result"
    }
   ],
   "source": [
    "# Extrapolating minutes\n",
    "def runtime_extrapolator(s):    \n",
    "    s = s.split('hr')\n",
    "    \n",
    "    if len(s) != 1:\n",
    "        if 'min' not in str(s):\n",
    "            h = runtime_extrapolator(s[0])\n",
    "            m = 0\n",
    "        else:\n",
    "            h = runtime_extrapolator(s[0])\n",
    "            m = runtime_extrapolator(s[1])\n",
    "        \n",
    "        s = h*60 + m\n",
    "        \n",
    "    else:\n",
    "        if 'hr' in s:\n",
    "            s = s[0].split('hr')[0]\n",
    "        else:\n",
    "            s = s[0].split('min')[0]\n",
    "    \n",
    "    \n",
    "    return int(s)\n",
    "\n",
    "\n",
    "def longest_runtime_movie_yearly(debug=False):\n",
    "    current_year = datetime.datetime.now().year + 1\n",
    "    years = [i for i in range(2014, current_year)]\n",
    "\n",
    "    longest_runtimes = [0 for i in range(0, len(years))]\n",
    "    \n",
    "    runtimes_yearly = []\n",
    "    \n",
    "    try:\n",
    "        for y in years:\n",
    "            mov, _ = retrieve_year_specific_data(y)\n",
    "\n",
    "            # rated_on(year), ID, runtime\n",
    "            max_runtime = [y, 'None', 0]\n",
    "\n",
    "            for d in mov:\n",
    "                if d['runtime'] == '' or '– ' in d['year']:\n",
    "                    continue\n",
    "                new_runtime = runtime_extrapolator(d['runtime'])\n",
    "                if new_runtime > max_runtime[2]:\n",
    "                    max_runtime[1] = d['ID']\n",
    "                    max_runtime[2] = new_runtime\n",
    "                if debug:\n",
    "                    print(f\"{d['runtime']}, {d['year']}, {d['title']}\")\n",
    "\n",
    "            runtimes_yearly.append(max_runtime)\n",
    "    \n",
    "    except Exception as e:\n",
    "        print(\"*** Error ***\")\n",
    "        print(e)\n",
    "        print(d)\n",
    "        \n",
    "    return runtimes_yearly\n",
    "\n",
    "r = longest_runtime_movie_yearly()\n",
    "r\n",
    "# movieRatings[r[1][1]]"
   ]
  }
 ],
 "metadata": {
  "kernelspec": {
   "display_name": "Python 3",
   "language": "python",
   "name": "python3"
  },
  "language_info": {
   "codemirror_mode": {
    "name": "ipython",
    "version": 3
   },
   "file_extension": ".py",
   "mimetype": "text/x-python",
   "name": "python",
   "nbconvert_exporter": "python",
   "pygments_lexer": "ipython3",
   "version": "3.8.5"
  }
 },
 "nbformat": 4,
 "nbformat_minor": 2
}
