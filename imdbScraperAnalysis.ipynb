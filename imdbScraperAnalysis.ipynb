{
 "cells": [
  {
   "cell_type": "code",
   "execution_count": 290,
   "metadata": {},
   "outputs": [
    {
     "data": {
      "text/html": [
       "\n",
       "    <div class=\"bk-root\">\n",
       "        <a href=\"https://bokeh.org\" target=\"_blank\" class=\"bk-logo bk-logo-small bk-logo-notebook\"></a>\n",
       "        <span id=\"9206\">Loading BokehJS ...</span>\n",
       "    </div>"
      ]
     },
     "metadata": {},
     "output_type": "display_data"
    },
    {
     "data": {
      "application/javascript": [
       "\n",
       "(function(root) {\n",
       "  function now() {\n",
       "    return new Date();\n",
       "  }\n",
       "\n",
       "  var force = true;\n",
       "\n",
       "  if (typeof root._bokeh_onload_callbacks === \"undefined\" || force === true) {\n",
       "    root._bokeh_onload_callbacks = [];\n",
       "    root._bokeh_is_loading = undefined;\n",
       "  }\n",
       "\n",
       "  var JS_MIME_TYPE = 'application/javascript';\n",
       "  var HTML_MIME_TYPE = 'text/html';\n",
       "  var EXEC_MIME_TYPE = 'application/vnd.bokehjs_exec.v0+json';\n",
       "  var CLASS_NAME = 'output_bokeh rendered_html';\n",
       "\n",
       "  /**\n",
       "   * Render data to the DOM node\n",
       "   */\n",
       "  function render(props, node) {\n",
       "    var script = document.createElement(\"script\");\n",
       "    node.appendChild(script);\n",
       "  }\n",
       "\n",
       "  /**\n",
       "   * Handle when an output is cleared or removed\n",
       "   */\n",
       "  function handleClearOutput(event, handle) {\n",
       "    var cell = handle.cell;\n",
       "\n",
       "    var id = cell.output_area._bokeh_element_id;\n",
       "    var server_id = cell.output_area._bokeh_server_id;\n",
       "    // Clean up Bokeh references\n",
       "    if (id != null && id in Bokeh.index) {\n",
       "      Bokeh.index[id].model.document.clear();\n",
       "      delete Bokeh.index[id];\n",
       "    }\n",
       "\n",
       "    if (server_id !== undefined) {\n",
       "      // Clean up Bokeh references\n",
       "      var cmd = \"from bokeh.io.state import curstate; print(curstate().uuid_to_server['\" + server_id + \"'].get_sessions()[0].document.roots[0]._id)\";\n",
       "      cell.notebook.kernel.execute(cmd, {\n",
       "        iopub: {\n",
       "          output: function(msg) {\n",
       "            var id = msg.content.text.trim();\n",
       "            if (id in Bokeh.index) {\n",
       "              Bokeh.index[id].model.document.clear();\n",
       "              delete Bokeh.index[id];\n",
       "            }\n",
       "          }\n",
       "        }\n",
       "      });\n",
       "      // Destroy server and session\n",
       "      var cmd = \"import bokeh.io.notebook as ion; ion.destroy_server('\" + server_id + \"')\";\n",
       "      cell.notebook.kernel.execute(cmd);\n",
       "    }\n",
       "  }\n",
       "\n",
       "  /**\n",
       "   * Handle when a new output is added\n",
       "   */\n",
       "  function handleAddOutput(event, handle) {\n",
       "    var output_area = handle.output_area;\n",
       "    var output = handle.output;\n",
       "\n",
       "    // limit handleAddOutput to display_data with EXEC_MIME_TYPE content only\n",
       "    if ((output.output_type != \"display_data\") || (!output.data.hasOwnProperty(EXEC_MIME_TYPE))) {\n",
       "      return\n",
       "    }\n",
       "\n",
       "    var toinsert = output_area.element.find(\".\" + CLASS_NAME.split(' ')[0]);\n",
       "\n",
       "    if (output.metadata[EXEC_MIME_TYPE][\"id\"] !== undefined) {\n",
       "      toinsert[toinsert.length - 1].firstChild.textContent = output.data[JS_MIME_TYPE];\n",
       "      // store reference to embed id on output_area\n",
       "      output_area._bokeh_element_id = output.metadata[EXEC_MIME_TYPE][\"id\"];\n",
       "    }\n",
       "    if (output.metadata[EXEC_MIME_TYPE][\"server_id\"] !== undefined) {\n",
       "      var bk_div = document.createElement(\"div\");\n",
       "      bk_div.innerHTML = output.data[HTML_MIME_TYPE];\n",
       "      var script_attrs = bk_div.children[0].attributes;\n",
       "      for (var i = 0; i < script_attrs.length; i++) {\n",
       "        toinsert[toinsert.length - 1].firstChild.setAttribute(script_attrs[i].name, script_attrs[i].value);\n",
       "        toinsert[toinsert.length - 1].firstChild.textContent = bk_div.children[0].textContent\n",
       "      }\n",
       "      // store reference to server id on output_area\n",
       "      output_area._bokeh_server_id = output.metadata[EXEC_MIME_TYPE][\"server_id\"];\n",
       "    }\n",
       "  }\n",
       "\n",
       "  function register_renderer(events, OutputArea) {\n",
       "\n",
       "    function append_mime(data, metadata, element) {\n",
       "      // create a DOM node to render to\n",
       "      var toinsert = this.create_output_subarea(\n",
       "        metadata,\n",
       "        CLASS_NAME,\n",
       "        EXEC_MIME_TYPE\n",
       "      );\n",
       "      this.keyboard_manager.register_events(toinsert);\n",
       "      // Render to node\n",
       "      var props = {data: data, metadata: metadata[EXEC_MIME_TYPE]};\n",
       "      render(props, toinsert[toinsert.length - 1]);\n",
       "      element.append(toinsert);\n",
       "      return toinsert\n",
       "    }\n",
       "\n",
       "    /* Handle when an output is cleared or removed */\n",
       "    events.on('clear_output.CodeCell', handleClearOutput);\n",
       "    events.on('delete.Cell', handleClearOutput);\n",
       "\n",
       "    /* Handle when a new output is added */\n",
       "    events.on('output_added.OutputArea', handleAddOutput);\n",
       "\n",
       "    /**\n",
       "     * Register the mime type and append_mime function with output_area\n",
       "     */\n",
       "    OutputArea.prototype.register_mime_type(EXEC_MIME_TYPE, append_mime, {\n",
       "      /* Is output safe? */\n",
       "      safe: true,\n",
       "      /* Index of renderer in `output_area.display_order` */\n",
       "      index: 0\n",
       "    });\n",
       "  }\n",
       "\n",
       "  // register the mime type if in Jupyter Notebook environment and previously unregistered\n",
       "  if (root.Jupyter !== undefined) {\n",
       "    var events = require('base/js/events');\n",
       "    var OutputArea = require('notebook/js/outputarea').OutputArea;\n",
       "\n",
       "    if (OutputArea.prototype.mime_types().indexOf(EXEC_MIME_TYPE) == -1) {\n",
       "      register_renderer(events, OutputArea);\n",
       "    }\n",
       "  }\n",
       "\n",
       "  \n",
       "  if (typeof (root._bokeh_timeout) === \"undefined\" || force === true) {\n",
       "    root._bokeh_timeout = Date.now() + 5000;\n",
       "    root._bokeh_failed_load = false;\n",
       "  }\n",
       "\n",
       "  var NB_LOAD_WARNING = {'data': {'text/html':\n",
       "     \"<div style='background-color: #fdd'>\\n\"+\n",
       "     \"<p>\\n\"+\n",
       "     \"BokehJS does not appear to have successfully loaded. If loading BokehJS from CDN, this \\n\"+\n",
       "     \"may be due to a slow or bad network connection. Possible fixes:\\n\"+\n",
       "     \"</p>\\n\"+\n",
       "     \"<ul>\\n\"+\n",
       "     \"<li>re-rerun `output_notebook()` to attempt to load from CDN again, or</li>\\n\"+\n",
       "     \"<li>use INLINE resources instead, as so:</li>\\n\"+\n",
       "     \"</ul>\\n\"+\n",
       "     \"<code>\\n\"+\n",
       "     \"from bokeh.resources import INLINE\\n\"+\n",
       "     \"output_notebook(resources=INLINE)\\n\"+\n",
       "     \"</code>\\n\"+\n",
       "     \"</div>\"}};\n",
       "\n",
       "  function display_loaded() {\n",
       "    var el = document.getElementById(\"9206\");\n",
       "    if (el != null) {\n",
       "      el.textContent = \"BokehJS is loading...\";\n",
       "    }\n",
       "    if (root.Bokeh !== undefined) {\n",
       "      if (el != null) {\n",
       "        el.textContent = \"BokehJS \" + root.Bokeh.version + \" successfully loaded.\";\n",
       "      }\n",
       "    } else if (Date.now() < root._bokeh_timeout) {\n",
       "      setTimeout(display_loaded, 100)\n",
       "    }\n",
       "  }\n",
       "\n",
       "\n",
       "  function run_callbacks() {\n",
       "    try {\n",
       "      root._bokeh_onload_callbacks.forEach(function(callback) {\n",
       "        if (callback != null)\n",
       "          callback();\n",
       "      });\n",
       "    } finally {\n",
       "      delete root._bokeh_onload_callbacks\n",
       "    }\n",
       "    console.debug(\"Bokeh: all callbacks have finished\");\n",
       "  }\n",
       "\n",
       "  function load_libs(css_urls, js_urls, callback) {\n",
       "    if (css_urls == null) css_urls = [];\n",
       "    if (js_urls == null) js_urls = [];\n",
       "\n",
       "    root._bokeh_onload_callbacks.push(callback);\n",
       "    if (root._bokeh_is_loading > 0) {\n",
       "      console.debug(\"Bokeh: BokehJS is being loaded, scheduling callback at\", now());\n",
       "      return null;\n",
       "    }\n",
       "    if (js_urls == null || js_urls.length === 0) {\n",
       "      run_callbacks();\n",
       "      return null;\n",
       "    }\n",
       "    console.debug(\"Bokeh: BokehJS not loaded, scheduling load and callback at\", now());\n",
       "    root._bokeh_is_loading = css_urls.length + js_urls.length;\n",
       "\n",
       "    function on_load() {\n",
       "      root._bokeh_is_loading--;\n",
       "      if (root._bokeh_is_loading === 0) {\n",
       "        console.debug(\"Bokeh: all BokehJS libraries/stylesheets loaded\");\n",
       "        run_callbacks()\n",
       "      }\n",
       "    }\n",
       "\n",
       "    function on_error() {\n",
       "      console.error(\"failed to load \" + url);\n",
       "    }\n",
       "\n",
       "    for (var i = 0; i < css_urls.length; i++) {\n",
       "      var url = css_urls[i];\n",
       "      const element = document.createElement(\"link\");\n",
       "      element.onload = on_load;\n",
       "      element.onerror = on_error;\n",
       "      element.rel = \"stylesheet\";\n",
       "      element.type = \"text/css\";\n",
       "      element.href = url;\n",
       "      console.debug(\"Bokeh: injecting link tag for BokehJS stylesheet: \", url);\n",
       "      document.body.appendChild(element);\n",
       "    }\n",
       "\n",
       "    const hashes = {\"https://cdn.bokeh.org/bokeh/release/bokeh-2.2.3.min.js\": \"T2yuo9Oe71Cz/I4X9Ac5+gpEa5a8PpJCDlqKYO0CfAuEszu1JrXLl8YugMqYe3sM\", \"https://cdn.bokeh.org/bokeh/release/bokeh-widgets-2.2.3.min.js\": \"98GDGJ0kOMCUMUePhksaQ/GYgB3+NH9h996V88sh3aOiUNX3N+fLXAtry6xctSZ6\", \"https://cdn.bokeh.org/bokeh/release/bokeh-tables-2.2.3.min.js\": \"89bArO+nlbP3sgakeHjCo1JYxYR5wufVgA3IbUvDY+K7w4zyxJqssu7wVnfeKCq8\"};\n",
       "\n",
       "    for (var i = 0; i < js_urls.length; i++) {\n",
       "      var url = js_urls[i];\n",
       "      var element = document.createElement('script');\n",
       "      element.onload = on_load;\n",
       "      element.onerror = on_error;\n",
       "      element.async = false;\n",
       "      element.src = url;\n",
       "      if (url in hashes) {\n",
       "        element.crossOrigin = \"anonymous\";\n",
       "        element.integrity = \"sha384-\" + hashes[url];\n",
       "      }\n",
       "      console.debug(\"Bokeh: injecting script tag for BokehJS library: \", url);\n",
       "      document.head.appendChild(element);\n",
       "    }\n",
       "  };\n",
       "\n",
       "  function inject_raw_css(css) {\n",
       "    const element = document.createElement(\"style\");\n",
       "    element.appendChild(document.createTextNode(css));\n",
       "    document.body.appendChild(element);\n",
       "  }\n",
       "\n",
       "  \n",
       "  var js_urls = [\"https://cdn.bokeh.org/bokeh/release/bokeh-2.2.3.min.js\", \"https://cdn.bokeh.org/bokeh/release/bokeh-widgets-2.2.3.min.js\", \"https://cdn.bokeh.org/bokeh/release/bokeh-tables-2.2.3.min.js\"];\n",
       "  var css_urls = [];\n",
       "  \n",
       "\n",
       "  var inline_js = [\n",
       "    function(Bokeh) {\n",
       "      Bokeh.set_log_level(\"info\");\n",
       "    },\n",
       "    function(Bokeh) {\n",
       "    \n",
       "    \n",
       "    }\n",
       "  ];\n",
       "\n",
       "  function run_inline_js() {\n",
       "    \n",
       "    if (root.Bokeh !== undefined || force === true) {\n",
       "      \n",
       "    for (var i = 0; i < inline_js.length; i++) {\n",
       "      inline_js[i].call(root, root.Bokeh);\n",
       "    }\n",
       "    if (force === true) {\n",
       "        display_loaded();\n",
       "      }} else if (Date.now() < root._bokeh_timeout) {\n",
       "      setTimeout(run_inline_js, 100);\n",
       "    } else if (!root._bokeh_failed_load) {\n",
       "      console.log(\"Bokeh: BokehJS failed to load within specified timeout.\");\n",
       "      root._bokeh_failed_load = true;\n",
       "    } else if (force !== true) {\n",
       "      var cell = $(document.getElementById(\"9206\")).parents('.cell').data().cell;\n",
       "      cell.output_area.append_execute_result(NB_LOAD_WARNING)\n",
       "    }\n",
       "\n",
       "  }\n",
       "\n",
       "  if (root._bokeh_is_loading === 0) {\n",
       "    console.debug(\"Bokeh: BokehJS loaded, going straight to plotting\");\n",
       "    run_inline_js();\n",
       "  } else {\n",
       "    load_libs(css_urls, js_urls, function() {\n",
       "      console.debug(\"Bokeh: BokehJS plotting callback run at\", now());\n",
       "      run_inline_js();\n",
       "    });\n",
       "  }\n",
       "}(window));"
      ],
      "application/vnd.bokehjs_load.v0+json": "\n(function(root) {\n  function now() {\n    return new Date();\n  }\n\n  var force = true;\n\n  if (typeof root._bokeh_onload_callbacks === \"undefined\" || force === true) {\n    root._bokeh_onload_callbacks = [];\n    root._bokeh_is_loading = undefined;\n  }\n\n  \n\n  \n  if (typeof (root._bokeh_timeout) === \"undefined\" || force === true) {\n    root._bokeh_timeout = Date.now() + 5000;\n    root._bokeh_failed_load = false;\n  }\n\n  var NB_LOAD_WARNING = {'data': {'text/html':\n     \"<div style='background-color: #fdd'>\\n\"+\n     \"<p>\\n\"+\n     \"BokehJS does not appear to have successfully loaded. If loading BokehJS from CDN, this \\n\"+\n     \"may be due to a slow or bad network connection. Possible fixes:\\n\"+\n     \"</p>\\n\"+\n     \"<ul>\\n\"+\n     \"<li>re-rerun `output_notebook()` to attempt to load from CDN again, or</li>\\n\"+\n     \"<li>use INLINE resources instead, as so:</li>\\n\"+\n     \"</ul>\\n\"+\n     \"<code>\\n\"+\n     \"from bokeh.resources import INLINE\\n\"+\n     \"output_notebook(resources=INLINE)\\n\"+\n     \"</code>\\n\"+\n     \"</div>\"}};\n\n  function display_loaded() {\n    var el = document.getElementById(\"9206\");\n    if (el != null) {\n      el.textContent = \"BokehJS is loading...\";\n    }\n    if (root.Bokeh !== undefined) {\n      if (el != null) {\n        el.textContent = \"BokehJS \" + root.Bokeh.version + \" successfully loaded.\";\n      }\n    } else if (Date.now() < root._bokeh_timeout) {\n      setTimeout(display_loaded, 100)\n    }\n  }\n\n\n  function run_callbacks() {\n    try {\n      root._bokeh_onload_callbacks.forEach(function(callback) {\n        if (callback != null)\n          callback();\n      });\n    } finally {\n      delete root._bokeh_onload_callbacks\n    }\n    console.debug(\"Bokeh: all callbacks have finished\");\n  }\n\n  function load_libs(css_urls, js_urls, callback) {\n    if (css_urls == null) css_urls = [];\n    if (js_urls == null) js_urls = [];\n\n    root._bokeh_onload_callbacks.push(callback);\n    if (root._bokeh_is_loading > 0) {\n      console.debug(\"Bokeh: BokehJS is being loaded, scheduling callback at\", now());\n      return null;\n    }\n    if (js_urls == null || js_urls.length === 0) {\n      run_callbacks();\n      return null;\n    }\n    console.debug(\"Bokeh: BokehJS not loaded, scheduling load and callback at\", now());\n    root._bokeh_is_loading = css_urls.length + js_urls.length;\n\n    function on_load() {\n      root._bokeh_is_loading--;\n      if (root._bokeh_is_loading === 0) {\n        console.debug(\"Bokeh: all BokehJS libraries/stylesheets loaded\");\n        run_callbacks()\n      }\n    }\n\n    function on_error() {\n      console.error(\"failed to load \" + url);\n    }\n\n    for (var i = 0; i < css_urls.length; i++) {\n      var url = css_urls[i];\n      const element = document.createElement(\"link\");\n      element.onload = on_load;\n      element.onerror = on_error;\n      element.rel = \"stylesheet\";\n      element.type = \"text/css\";\n      element.href = url;\n      console.debug(\"Bokeh: injecting link tag for BokehJS stylesheet: \", url);\n      document.body.appendChild(element);\n    }\n\n    const hashes = {\"https://cdn.bokeh.org/bokeh/release/bokeh-2.2.3.min.js\": \"T2yuo9Oe71Cz/I4X9Ac5+gpEa5a8PpJCDlqKYO0CfAuEszu1JrXLl8YugMqYe3sM\", \"https://cdn.bokeh.org/bokeh/release/bokeh-widgets-2.2.3.min.js\": \"98GDGJ0kOMCUMUePhksaQ/GYgB3+NH9h996V88sh3aOiUNX3N+fLXAtry6xctSZ6\", \"https://cdn.bokeh.org/bokeh/release/bokeh-tables-2.2.3.min.js\": \"89bArO+nlbP3sgakeHjCo1JYxYR5wufVgA3IbUvDY+K7w4zyxJqssu7wVnfeKCq8\"};\n\n    for (var i = 0; i < js_urls.length; i++) {\n      var url = js_urls[i];\n      var element = document.createElement('script');\n      element.onload = on_load;\n      element.onerror = on_error;\n      element.async = false;\n      element.src = url;\n      if (url in hashes) {\n        element.crossOrigin = \"anonymous\";\n        element.integrity = \"sha384-\" + hashes[url];\n      }\n      console.debug(\"Bokeh: injecting script tag for BokehJS library: \", url);\n      document.head.appendChild(element);\n    }\n  };\n\n  function inject_raw_css(css) {\n    const element = document.createElement(\"style\");\n    element.appendChild(document.createTextNode(css));\n    document.body.appendChild(element);\n  }\n\n  \n  var js_urls = [\"https://cdn.bokeh.org/bokeh/release/bokeh-2.2.3.min.js\", \"https://cdn.bokeh.org/bokeh/release/bokeh-widgets-2.2.3.min.js\", \"https://cdn.bokeh.org/bokeh/release/bokeh-tables-2.2.3.min.js\"];\n  var css_urls = [];\n  \n\n  var inline_js = [\n    function(Bokeh) {\n      Bokeh.set_log_level(\"info\");\n    },\n    function(Bokeh) {\n    \n    \n    }\n  ];\n\n  function run_inline_js() {\n    \n    if (root.Bokeh !== undefined || force === true) {\n      \n    for (var i = 0; i < inline_js.length; i++) {\n      inline_js[i].call(root, root.Bokeh);\n    }\n    if (force === true) {\n        display_loaded();\n      }} else if (Date.now() < root._bokeh_timeout) {\n      setTimeout(run_inline_js, 100);\n    } else if (!root._bokeh_failed_load) {\n      console.log(\"Bokeh: BokehJS failed to load within specified timeout.\");\n      root._bokeh_failed_load = true;\n    } else if (force !== true) {\n      var cell = $(document.getElementById(\"9206\")).parents('.cell').data().cell;\n      cell.output_area.append_execute_result(NB_LOAD_WARNING)\n    }\n\n  }\n\n  if (root._bokeh_is_loading === 0) {\n    console.debug(\"Bokeh: BokehJS loaded, going straight to plotting\");\n    run_inline_js();\n  } else {\n    load_libs(css_urls, js_urls, function() {\n      console.debug(\"Bokeh: BokehJS plotting callback run at\", now());\n      run_inline_js();\n    });\n  }\n}(window));"
     },
     "metadata": {},
     "output_type": "display_data"
    }
   ],
   "source": [
    "import pandas as pd\n",
    "import numpy as np\n",
    "import _pickle as pickle\n",
    "import datetime\n",
    "import random\n",
    "import timestring\n",
    "\n",
    "from bokeh.io import output_file, show, output_notebook\n",
    "from bokeh.models import ColumnDataSource\n",
    "from bokeh.palettes import *\n",
    "from bokeh.plotting import figure\n",
    "\n",
    "fileHandler = open(b\"../vagrant_shared_folder/movieRatings.obj\", \"rb\")\n",
    "movieRatings = pickle.load(fileHandler)\n",
    "fileHandler.close()\n",
    "\n",
    "output_notebook()"
   ]
  },
  {
   "cell_type": "code",
   "execution_count": 291,
   "metadata": {},
   "outputs": [],
   "source": [
    "def random_HEX_colors(n=1):\n",
    "\n",
    "    color = [\"#\"+''.join([random.choice('0123456789ABCDEF') for j in range(6)])\n",
    "             for i in range(n)]\n",
    "    \n",
    "    return color"
   ]
  },
  {
   "cell_type": "code",
   "execution_count": 292,
   "metadata": {},
   "outputs": [
    {
     "name": "stdout",
     "output_type": "stream",
     "text": [
      "There are 273 movies.\n"
     ]
    }
   ],
   "source": [
    "print(f'There are {len(movieRatings)} movies.')"
   ]
  },
  {
   "cell_type": "code",
   "execution_count": 293,
   "metadata": {},
   "outputs": [
    {
     "name": "stdout",
     "output_type": "stream",
     "text": [
      "The Silence of the Lambs, vote = 9\n"
     ]
    }
   ],
   "source": [
    "for ID, data in movieRatings.items():\n",
    "    if 'Silence' in data['title']:\n",
    "        print(\"{}, vote = {}\".format(data['title'],data['personal_rating']))"
   ]
  },
  {
   "cell_type": "code",
   "execution_count": 294,
   "metadata": {},
   "outputs": [
    {
     "data": {
      "text/plain": [
       "{'ID': 'tt4550098',\n",
       " 'type': 'movie',\n",
       " 'title': 'Nocturnal Animals',\n",
       " 'genre': 'Drama, Thriller',\n",
       " 'year': '2016',\n",
       " 'personal_rating': '9',\n",
       " 'IMDB_rating': '7.5',\n",
       " 'rated_on': '03 Jan 2021',\n",
       " 'actors': ['Amy Adams',\n",
       "  'Jake Gyllenhaal',\n",
       "  'Michael Shannon',\n",
       "  'Aaron Taylor-Johnson'],\n",
       " 'director': 'Tom Ford'}"
      ]
     },
     "execution_count": 294,
     "metadata": {},
     "output_type": "execute_result"
    }
   ],
   "source": [
    "movieRatings['tt4550098']"
   ]
  },
  {
   "cell_type": "markdown",
   "metadata": {},
   "source": [
    "## Best-rated {9-10}"
   ]
  },
  {
   "cell_type": "code",
   "execution_count": 295,
   "metadata": {},
   "outputs": [],
   "source": [
    "tens = []\n",
    "nines = []\n",
    "\n",
    "for ID, data in movieRatings.items():\n",
    "    t = int(data['personal_rating'])\n",
    "    if t in [9,10]:\n",
    "        if t == 9:\n",
    "            nines.append(data['title'])\n",
    "        else:\n",
    "            tens.append(data['title'])"
   ]
  },
  {
   "cell_type": "code",
   "execution_count": 296,
   "metadata": {},
   "outputs": [
    {
     "name": "stdout",
     "output_type": "stream",
     "text": [
      "10s: ['Soul', 'Heat', 'Se7en', 'The Last Dance', 'Ozark', 'When Harry Met Sally', 'Succession', 'Peaky Blinders', 'Game of Thrones', 'The Big Bang Theory']; 10\n",
      "9s: ['The Night Of', 'Promising Young Woman', 'Dark Waters', 'Night Stalker: The Hunt for a Serial Killer', 'Run', 'Inside Out', 'Nocturnal Animals', 'The Boys', 'Prisoners', 'There Will Be Blood', '1917', '12 Angry Men', 'Casino', 'Nightcrawler', 'The Shawshank Redemption', 'Goodfellas', 'Inglourious Basterds', 'The Lobster', 'Moneyball', 'Apollo 11', 'Joker', 'BoJack Horseman', 'James May: Our Man in Japan', 'The Mandalorian', 'Once Upon a Time in America', 'The Day After Tomorrow', 'Mindhunter', 'Billions', 'Chernobyl', 'Presumed Innocent', 'Luther', 'Black Mirror: Bandersnatch', 'The Staircase', 'Making a Murderer', 'Black Mirror', 'Icarus', 'The Silence of the Lambs', 'Spotlight', 'Last Week Tonight with John Oliver', 'Halt and Catch Fire', 'Inception', 'The Godfather: Part II', 'The Godfather', 'House of Cards', 'Master of None', 'Brooklyn', 'Fracture', 'The Grand Tour', 'Narcos', 'The Social Network', 'The Big Short', 'House', 'Bridge of Spies', 'The Intouchables', 'The Martian', 'And Then There Were None', 'Mr. Robot', 'Ex Machina', 'Silicon Valley', 'Whiplash']; 60\n"
     ]
    }
   ],
   "source": [
    "print(f\"10s: {tens}; {len(tens)}\")\n",
    "print(f\"9s: {nines}; {len(nines)}\")"
   ]
  },
  {
   "cell_type": "markdown",
   "metadata": {},
   "source": [
    "## Year-based stats"
   ]
  },
  {
   "cell_type": "code",
   "execution_count": 297,
   "metadata": {},
   "outputs": [],
   "source": [
    "def retrieve_year_specific_data(year, debug=False):\n",
    "    data_year = []\n",
    "    movies_year = []\n",
    "    tv_year = []\n",
    "    \n",
    "    year = str(year)\n",
    "\n",
    "    for ID, data in movieRatings.items():\n",
    "        t = data['rated_on']\n",
    "        if year in t:\n",
    "            data_year.append(data)\n",
    "\n",
    "    for d in data_year:\n",
    "        t = d['type']\n",
    "        if 'movie' in t:\n",
    "            movies_year.append(d)\n",
    "        else:\n",
    "            tv_year.append(d)\n",
    "    \n",
    "    if len(movies_year)+len(tv_year) == len(data_year):\n",
    "        if debug:\n",
    "            print(f\"Amount of movies/tv_series seen in {year}: {len(data_year)}\")\n",
    "            print(f\"Movies seen in {year}: {len(movies_year)}\")\n",
    "            print(f\"TV Series seen in {year}: {len(tv_year)}\")\n",
    "        return movies_year, tv_year\n",
    "    else:\n",
    "        print(\"Error...\")\n",
    "        return None, None"
   ]
  },
  {
   "cell_type": "code",
   "execution_count": 298,
   "metadata": {},
   "outputs": [
    {
     "data": {
      "text/plain": [
       "(16, 6)"
      ]
     },
     "execution_count": 298,
     "metadata": {},
     "output_type": "execute_result"
    }
   ],
   "source": [
    "mov, tv = retrieve_year_specific_data(2021)\n",
    "len(mov), len(tv)"
   ]
  },
  {
   "cell_type": "markdown",
   "metadata": {},
   "source": [
    "## Yearly-stats distribution"
   ]
  },
  {
   "cell_type": "code",
   "execution_count": 299,
   "metadata": {},
   "outputs": [],
   "source": [
    "def yearly_stats_distribution():\n",
    "    current_year = datetime.datetime.now().year + 1\n",
    "    possible_years = [i for i in range(2014, current_year)]\n",
    "    counts_tot = []\n",
    "    counts_mov = []\n",
    "    counts_tv = []\n",
    "    \n",
    "    effective_years = []\n",
    "\n",
    "    for y in possible_years:\n",
    "        mov, tv = retrieve_year_specific_data(y)\n",
    "\n",
    "        effective_years.append(y)\n",
    "        counts_tot.append(len(mov)+len(tv))\n",
    "        counts_mov.append(len(mov))\n",
    "        counts_tv.append(len(tv))\n",
    "\n",
    "    strYears = []\n",
    "    for _ in effective_years:\n",
    "        strYears.append(str(_))\n",
    "    \n",
    "    return strYears, counts_tot, counts_mov, counts_tv"
   ]
  },
  {
   "cell_type": "code",
   "execution_count": 300,
   "metadata": {},
   "outputs": [
    {
     "data": {
      "text/html": [
       "\n",
       "\n",
       "\n",
       "\n",
       "\n",
       "\n",
       "  <div class=\"bk-root\" id=\"ce77c0c8-69fd-4847-9dfb-5be584d6a906\" data-root-id=\"9208\"></div>\n"
      ]
     },
     "metadata": {},
     "output_type": "display_data"
    },
    {
     "data": {
      "application/javascript": [
       "(function(root) {\n",
       "  function embed_document(root) {\n",
       "    \n",
       "  var docs_json = {\"43d5d161-bfee-4e6f-b53d-8b4b3c48a4a6\":{\"roots\":{\"references\":[{\"attributes\":{\"below\":[{\"id\":\"9219\"}],\"center\":[{\"id\":\"9221\"},{\"id\":\"9225\"}],\"left\":[{\"id\":\"9222\"}],\"plot_height\":350,\"renderers\":[{\"id\":\"9232\"}],\"title\":{\"id\":\"9209\"},\"toolbar\":{\"id\":\"9227\"},\"toolbar_location\":null,\"x_range\":{\"id\":\"9211\"},\"x_scale\":{\"id\":\"9215\"},\"y_range\":{\"id\":\"9213\"},\"y_scale\":{\"id\":\"9217\"}},\"id\":\"9208\",\"subtype\":\"Figure\",\"type\":\"Plot\"},{\"attributes\":{\"active_drag\":\"auto\",\"active_inspect\":\"auto\",\"active_multi\":null,\"active_scroll\":\"auto\",\"active_tap\":\"auto\",\"tools\":[{\"id\":\"9226\"}]},\"id\":\"9227\",\"type\":\"Toolbar\"},{\"attributes\":{\"end\":102},\"id\":\"9213\",\"type\":\"Range1d\"},{\"attributes\":{},\"id\":\"9551\",\"type\":\"BasicTickFormatter\"},{\"attributes\":{},\"id\":\"9555\",\"type\":\"Selection\"},{\"attributes\":{\"formatter\":{\"id\":\"9551\"},\"ticker\":{\"id\":\"9223\"}},\"id\":\"9222\",\"type\":\"LinearAxis\"},{\"attributes\":{\"axis\":{\"id\":\"9222\"},\"dimension\":1,\"ticker\":null},\"id\":\"9225\",\"type\":\"Grid\"},{\"attributes\":{\"fill_alpha\":{\"value\":0.1},\"fill_color\":{\"field\":\"color\"},\"line_alpha\":{\"value\":0.1},\"line_color\":{\"field\":\"color\"},\"top\":{\"field\":\"counts\"},\"width\":{\"value\":0.9},\"x\":{\"field\":\"year\"}},\"id\":\"9231\",\"type\":\"VBar\"},{\"attributes\":{\"source\":{\"id\":\"9207\"}},\"id\":\"9233\",\"type\":\"CDSView\"},{\"attributes\":{},\"id\":\"9220\",\"type\":\"CategoricalTicker\"},{\"attributes\":{},\"id\":\"9217\",\"type\":\"LinearScale\"},{\"attributes\":{\"formatter\":{\"id\":\"9553\"},\"ticker\":{\"id\":\"9220\"}},\"id\":\"9219\",\"type\":\"CategoricalAxis\"},{\"attributes\":{\"fill_color\":{\"field\":\"color\"},\"line_color\":{\"field\":\"color\"},\"top\":{\"field\":\"counts\"},\"width\":{\"value\":0.9},\"x\":{\"field\":\"year\"}},\"id\":\"9230\",\"type\":\"VBar\"},{\"attributes\":{},\"id\":\"9215\",\"type\":\"CategoricalScale\"},{\"attributes\":{\"axis\":{\"id\":\"9219\"},\"grid_line_color\":null,\"ticker\":null},\"id\":\"9221\",\"type\":\"Grid\"},{\"attributes\":{\"callback\":null,\"tooltips\":\"data points: @counts\"},\"id\":\"9226\",\"type\":\"HoverTool\"},{\"attributes\":{\"data\":{\"color\":[\"#440154\",\"#46317E\",\"#365A8C\",\"#277E8E\",\"#1EA087\",\"#49C16D\",\"#9DD93A\",\"#FDE724\"],\"counts\":[0,18,36,46,36,33,82,22],\"year\":[\"2014\",\"2015\",\"2016\",\"2017\",\"2018\",\"2019\",\"2020\",\"2021\"]},\"selected\":{\"id\":\"9555\"},\"selection_policy\":{\"id\":\"9554\"}},\"id\":\"9207\",\"type\":\"ColumnDataSource\"},{\"attributes\":{\"data_source\":{\"id\":\"9207\"},\"glyph\":{\"id\":\"9230\"},\"hover_glyph\":null,\"muted_glyph\":null,\"nonselection_glyph\":{\"id\":\"9231\"},\"selection_glyph\":null,\"view\":{\"id\":\"9233\"}},\"id\":\"9232\",\"type\":\"GlyphRenderer\"},{\"attributes\":{},\"id\":\"9554\",\"type\":\"UnionRenderers\"},{\"attributes\":{\"factors\":[\"2014\",\"2015\",\"2016\",\"2017\",\"2018\",\"2019\",\"2020\",\"2021\"]},\"id\":\"9211\",\"type\":\"FactorRange\"},{\"attributes\":{\"text\":\"Yearly Distribution\"},\"id\":\"9209\",\"type\":\"Title\"},{\"attributes\":{},\"id\":\"9553\",\"type\":\"CategoricalTickFormatter\"},{\"attributes\":{},\"id\":\"9223\",\"type\":\"BasicTicker\"}],\"root_ids\":[\"9208\"]},\"title\":\"Bokeh Application\",\"version\":\"2.2.3\"}};\n",
       "  var render_items = [{\"docid\":\"43d5d161-bfee-4e6f-b53d-8b4b3c48a4a6\",\"root_ids\":[\"9208\"],\"roots\":{\"9208\":\"ce77c0c8-69fd-4847-9dfb-5be584d6a906\"}}];\n",
       "  root.Bokeh.embed.embed_items_notebook(docs_json, render_items);\n",
       "\n",
       "  }\n",
       "  if (root.Bokeh !== undefined) {\n",
       "    embed_document(root);\n",
       "  } else {\n",
       "    var attempts = 0;\n",
       "    var timer = setInterval(function(root) {\n",
       "      if (root.Bokeh !== undefined) {\n",
       "        clearInterval(timer);\n",
       "        embed_document(root);\n",
       "      } else {\n",
       "        attempts++;\n",
       "        if (attempts > 100) {\n",
       "          clearInterval(timer);\n",
       "          console.log(\"Bokeh: ERROR: Unable to run BokehJS code because BokehJS library is missing\");\n",
       "        }\n",
       "      }\n",
       "    }, 10, root)\n",
       "  }\n",
       "})(window);"
      ],
      "application/vnd.bokehjs_exec.v0+json": ""
     },
     "metadata": {
      "application/vnd.bokehjs_exec.v0+json": {
       "id": "9208"
      }
     },
     "output_type": "display_data"
    }
   ],
   "source": [
    "# output_file(\"bar_colors.html\")\n",
    "\n",
    "years, counts, _, _ = yearly_stats_distribution()\n",
    "\n",
    "source = ColumnDataSource(data=dict(year=years, counts=counts, color=small_palettes['Viridis'][len(years)]))\n",
    "\n",
    "p = figure(x_range=years, y_range=(min(counts),max(counts)+20), plot_height=350, title=\"Yearly Distribution\",\n",
    "           toolbar_location=None, tools=\"hover\", tooltips=\"data points: @counts\")\n",
    "\n",
    "p.vbar(x='year', top='counts', width=0.9, color='color', source=source)\n",
    "\n",
    "p.xgrid.grid_line_color = None\n",
    "\n",
    "show(p)"
   ]
  },
  {
   "cell_type": "code",
   "execution_count": 301,
   "metadata": {},
   "outputs": [
    {
     "data": {
      "text/html": [
       "\n",
       "\n",
       "\n",
       "\n",
       "\n",
       "\n",
       "  <div class=\"bk-root\" id=\"a0897ac7-4a50-4db3-a188-ae961ee3fc03\" data-root-id=\"9591\"></div>\n"
      ]
     },
     "metadata": {},
     "output_type": "display_data"
    },
    {
     "data": {
      "application/javascript": [
       "(function(root) {\n",
       "  function embed_document(root) {\n",
       "    \n",
       "  var docs_json = {\"043a88b7-ef6d-4dca-a7a3-8a5a87b675a3\":{\"roots\":{\"references\":[{\"attributes\":{\"below\":[{\"id\":\"9602\"}],\"center\":[{\"id\":\"9604\"},{\"id\":\"9608\"},{\"id\":\"9629\"}],\"left\":[{\"id\":\"9605\"}],\"outline_line_color\":null,\"plot_height\":250,\"renderers\":[{\"id\":\"9620\"},{\"id\":\"9635\"}],\"title\":{\"id\":\"9592\"},\"toolbar\":{\"id\":\"9610\"},\"toolbar_location\":null,\"x_range\":{\"id\":\"9594\"},\"x_scale\":{\"id\":\"9598\"},\"y_range\":{\"id\":\"9596\"},\"y_scale\":{\"id\":\"9600\"}},\"id\":\"9591\",\"subtype\":\"Figure\",\"type\":\"Plot\"},{\"attributes\":{},\"id\":\"9624\",\"type\":\"BasicTickFormatter\"},{\"attributes\":{\"active_drag\":\"auto\",\"active_inspect\":\"auto\",\"active_multi\":null,\"active_scroll\":\"auto\",\"active_tap\":\"auto\",\"tools\":[{\"id\":\"9609\"}]},\"id\":\"9610\",\"type\":\"Toolbar\"},{\"attributes\":{},\"id\":\"9603\",\"type\":\"CategoricalTicker\"},{\"attributes\":{\"data\":{\"movies\":[0,10,23,35,22,17,63,16],\"tv series\":[0,8,13,11,14,16,19,6],\"years\":[\"2014\",\"2015\",\"2016\",\"2017\",\"2018\",\"2019\",\"2020\",\"2021\"]},\"selected\":{\"id\":\"9628\"},\"selection_policy\":{\"id\":\"9627\"}},\"id\":\"9616\",\"type\":\"ColumnDataSource\"},{\"attributes\":{\"data\":{\"movies\":[0,10,23,35,22,17,63,16],\"tv series\":[0,8,13,11,14,16,19,6],\"years\":[\"2014\",\"2015\",\"2016\",\"2017\",\"2018\",\"2019\",\"2020\",\"2021\"]},\"selected\":{\"id\":\"9645\"},\"selection_policy\":{\"id\":\"9644\"}},\"id\":\"9631\",\"type\":\"ColumnDataSource\"},{\"attributes\":{\"fields\":[\"movies\"]},\"id\":\"9613\",\"type\":\"Stack\"},{\"attributes\":{},\"id\":\"9628\",\"type\":\"Selection\"},{\"attributes\":{\"end\":102},\"id\":\"9596\",\"type\":\"Range1d\"},{\"attributes\":{\"fields\":[\"movies\",\"tv series\"]},\"id\":\"9615\",\"type\":\"Stack\"},{\"attributes\":{},\"id\":\"9626\",\"type\":\"CategoricalTickFormatter\"},{\"attributes\":{\"data_source\":{\"id\":\"9631\"},\"glyph\":{\"id\":\"9633\"},\"hover_glyph\":null,\"muted_glyph\":null,\"name\":\"tv series\",\"nonselection_glyph\":{\"id\":\"9634\"},\"selection_glyph\":null,\"view\":{\"id\":\"9636\"}},\"id\":\"9635\",\"type\":\"GlyphRenderer\"},{\"attributes\":{\"data_source\":{\"id\":\"9616\"},\"glyph\":{\"id\":\"9618\"},\"hover_glyph\":null,\"muted_glyph\":null,\"name\":\"movies\",\"nonselection_glyph\":{\"id\":\"9619\"},\"selection_glyph\":null,\"view\":{\"id\":\"9621\"}},\"id\":\"9620\",\"type\":\"GlyphRenderer\"},{\"attributes\":{\"formatter\":{\"id\":\"9626\"},\"minor_tick_line_color\":null,\"ticker\":{\"id\":\"9603\"}},\"id\":\"9602\",\"type\":\"CategoricalAxis\"},{\"attributes\":{},\"id\":\"9644\",\"type\":\"UnionRenderers\"},{\"attributes\":{\"formatter\":{\"id\":\"9624\"},\"minor_tick_line_color\":null,\"ticker\":{\"id\":\"9606\"}},\"id\":\"9605\",\"type\":\"LinearAxis\"},{\"attributes\":{\"text\":\"Yearly Distribution by Type\"},\"id\":\"9592\",\"type\":\"Title\"},{\"attributes\":{},\"id\":\"9627\",\"type\":\"UnionRenderers\"},{\"attributes\":{\"bottom\":{\"expr\":{\"id\":\"9614\"}},\"fill_alpha\":{\"value\":0.1},\"fill_color\":{\"value\":\"#058C0B\"},\"line_alpha\":{\"value\":0.1},\"line_color\":{\"value\":\"#058C0B\"},\"top\":{\"expr\":{\"id\":\"9615\"}},\"width\":{\"value\":0.9},\"x\":{\"field\":\"years\"}},\"id\":\"9634\",\"type\":\"VBar\"},{\"attributes\":{\"factors\":[\"2014\",\"2015\",\"2016\",\"2017\",\"2018\",\"2019\",\"2020\",\"2021\"],\"range_padding\":0.1},\"id\":\"9594\",\"type\":\"FactorRange\"},{\"attributes\":{\"source\":{\"id\":\"9631\"}},\"id\":\"9636\",\"type\":\"CDSView\"},{\"attributes\":{\"callback\":null,\"tooltips\":\"$name in @years: @$name\"},\"id\":\"9609\",\"type\":\"HoverTool\"},{\"attributes\":{},\"id\":\"9600\",\"type\":\"LinearScale\"},{\"attributes\":{\"axis\":{\"id\":\"9605\"},\"dimension\":1,\"ticker\":null},\"id\":\"9608\",\"type\":\"Grid\"},{\"attributes\":{\"bottom\":{\"expr\":{\"id\":\"9612\"}},\"fill_alpha\":{\"value\":0.1},\"fill_color\":{\"value\":\"#FFC300\"},\"line_alpha\":{\"value\":0.1},\"line_color\":{\"value\":\"#FFC300\"},\"top\":{\"expr\":{\"id\":\"9613\"}},\"width\":{\"value\":0.9},\"x\":{\"field\":\"years\"}},\"id\":\"9619\",\"type\":\"VBar\"},{\"attributes\":{\"label\":{\"value\":\"tv series\"},\"renderers\":[{\"id\":\"9635\"}]},\"id\":\"9646\",\"type\":\"LegendItem\"},{\"attributes\":{\"label\":{\"value\":\"movies\"},\"renderers\":[{\"id\":\"9620\"}]},\"id\":\"9630\",\"type\":\"LegendItem\"},{\"attributes\":{\"fields\":[]},\"id\":\"9612\",\"type\":\"Stack\"},{\"attributes\":{\"axis\":{\"id\":\"9602\"},\"grid_line_color\":null,\"ticker\":null},\"id\":\"9604\",\"type\":\"Grid\"},{\"attributes\":{},\"id\":\"9645\",\"type\":\"Selection\"},{\"attributes\":{\"fields\":[\"movies\"]},\"id\":\"9614\",\"type\":\"Stack\"},{\"attributes\":{\"items\":[{\"id\":\"9630\"},{\"id\":\"9646\"}],\"location\":\"top_center\",\"orientation\":\"horizontal\"},\"id\":\"9629\",\"type\":\"Legend\"},{\"attributes\":{\"source\":{\"id\":\"9616\"}},\"id\":\"9621\",\"type\":\"CDSView\"},{\"attributes\":{\"bottom\":{\"expr\":{\"id\":\"9614\"}},\"fill_color\":{\"value\":\"#058C0B\"},\"line_color\":{\"value\":\"#058C0B\"},\"top\":{\"expr\":{\"id\":\"9615\"}},\"width\":{\"value\":0.9},\"x\":{\"field\":\"years\"}},\"id\":\"9633\",\"type\":\"VBar\"},{\"attributes\":{},\"id\":\"9598\",\"type\":\"CategoricalScale\"},{\"attributes\":{},\"id\":\"9606\",\"type\":\"BasicTicker\"},{\"attributes\":{\"bottom\":{\"expr\":{\"id\":\"9612\"}},\"fill_color\":{\"value\":\"#FFC300\"},\"line_color\":{\"value\":\"#FFC300\"},\"top\":{\"expr\":{\"id\":\"9613\"}},\"width\":{\"value\":0.9},\"x\":{\"field\":\"years\"}},\"id\":\"9618\",\"type\":\"VBar\"}],\"root_ids\":[\"9591\"]},\"title\":\"Bokeh Application\",\"version\":\"2.2.3\"}};\n",
       "  var render_items = [{\"docid\":\"043a88b7-ef6d-4dca-a7a3-8a5a87b675a3\",\"root_ids\":[\"9591\"],\"roots\":{\"9591\":\"a0897ac7-4a50-4db3-a188-ae961ee3fc03\"}}];\n",
       "  root.Bokeh.embed.embed_items_notebook(docs_json, render_items);\n",
       "\n",
       "  }\n",
       "  if (root.Bokeh !== undefined) {\n",
       "    embed_document(root);\n",
       "  } else {\n",
       "    var attempts = 0;\n",
       "    var timer = setInterval(function(root) {\n",
       "      if (root.Bokeh !== undefined) {\n",
       "        clearInterval(timer);\n",
       "        embed_document(root);\n",
       "      } else {\n",
       "        attempts++;\n",
       "        if (attempts > 100) {\n",
       "          clearInterval(timer);\n",
       "          console.log(\"Bokeh: ERROR: Unable to run BokehJS code because BokehJS library is missing\");\n",
       "        }\n",
       "      }\n",
       "    }, 10, root)\n",
       "  }\n",
       "})(window);"
      ],
      "application/vnd.bokehjs_exec.v0+json": ""
     },
     "metadata": {
      "application/vnd.bokehjs_exec.v0+json": {
       "id": "9591"
      }
     },
     "output_type": "display_data"
    }
   ],
   "source": [
    "years, counts, mov, tv = yearly_stats_distribution()\n",
    "\n",
    "type_data = {\n",
    "    'years'    : years,\n",
    "    'movies'   : mov,\n",
    "    'tv series': tv\n",
    "            }\n",
    "\n",
    "p = figure(x_range=years, plot_height=250,y_range=(min(counts),max(counts)+20), title=\"Yearly Distribution by Type\",\n",
    "           toolbar_location=None, tools=\"hover\", tooltips=\"$name in @years: @$name\")\n",
    "\n",
    "p.vbar_stack(['movies', 'tv series'], x='years', width=0.9, color=[\"#FFC300\", \"#058C0B\"], source=type_data,\n",
    "             legend_label=['movies', 'tv series'])\n",
    "\n",
    "p.y_range.start = 0\n",
    "p.x_range.range_padding = 0.1\n",
    "p.xgrid.grid_line_color = None\n",
    "p.axis.minor_tick_line_color = None\n",
    "p.outline_line_color = None\n",
    "p.legend.location = \"top_center\"\n",
    "p.legend.orientation = \"horizontal\"\n",
    "\n",
    "show(p)"
   ]
  },
  {
   "cell_type": "markdown",
   "metadata": {},
   "source": [
    "## Genre-based analysis"
   ]
  },
  {
   "cell_type": "code",
   "execution_count": 302,
   "metadata": {},
   "outputs": [],
   "source": [
    "def build_genre_dict():\n",
    "    genres = {}\n",
    "\n",
    "    for ID, data in movieRatings.items():\n",
    "        genre_current = data['genre'].split(',')\n",
    "        for g in genre_current:\n",
    "            g = g.strip()\n",
    "            try:\n",
    "                genres[g] += 1\n",
    "            except KeyError:\n",
    "                genres[g] = 1\n",
    "            \n",
    "    return genres"
   ]
  },
  {
   "cell_type": "code",
   "execution_count": 303,
   "metadata": {},
   "outputs": [
    {
     "data": {
      "text/plain": [
       "{'Crime': 108,\n",
       " 'Drama': 184,\n",
       " 'Mystery': 54,\n",
       " 'Thriller': 77,\n",
       " 'Adventure': 34,\n",
       " 'Comedy': 52,\n",
       " 'Fantasy': 11,\n",
       " 'Biography': 29,\n",
       " 'History': 20,\n",
       " 'Documentary': 24,\n",
       " 'Horror': 20,\n",
       " 'Sci-Fi': 26,\n",
       " 'Action': 46,\n",
       " 'Animation': 5,\n",
       " 'Romance': 18,\n",
       " 'Family': 2,\n",
       " 'War': 7,\n",
       " 'Sport': 5,\n",
       " 'News': 1,\n",
       " 'Talk-Show': 2,\n",
       " 'Music': 2}"
      ]
     },
     "execution_count": 303,
     "metadata": {},
     "output_type": "execute_result"
    }
   ],
   "source": [
    "genre_dict = build_genre_dict()\n",
    "genre_dict"
   ]
  },
  {
   "cell_type": "code",
   "execution_count": 304,
   "metadata": {},
   "outputs": [],
   "source": [
    "# Genre-based on yearly data\n",
    "def genre_yearly_data():\n",
    "    current_year = datetime.datetime.now().year + 1\n",
    "    possible_years = [str(i) for i in range(2014, current_year)]\n",
    "\n",
    "    current_year_mov, current_year_tv = None, None\n",
    "    yearly_genres = {}\n",
    "    \n",
    "    for year in possible_years:\n",
    "        \n",
    "        yearly_genres[year] = {}\n",
    "        \n",
    "        current_year_mov, current_year_tv = retrieve_year_specific_data(year)\n",
    "        current_year_data = current_year_mov + current_year_tv\n",
    "        \n",
    "        for data in current_year_data:\n",
    "            for g in data['genre'].split(','):\n",
    "                g = g.strip()\n",
    "                try:\n",
    "                    yearly_genres[year][g] += 1\n",
    "                except KeyError:\n",
    "                    yearly_genres[year][g] = 1\n",
    "                    \n",
    "    return yearly_genres"
   ]
  },
  {
   "cell_type": "code",
   "execution_count": 305,
   "metadata": {},
   "outputs": [
    {
     "data": {
      "text/plain": [
       "{'2014': {},\n",
       " '2015': {'Crime': 4,\n",
       "  'Mystery': 1,\n",
       "  'Thriller': 6,\n",
       "  'Comedy': 6,\n",
       "  'Romance': 5,\n",
       "  'Action': 4,\n",
       "  'Adventure': 3,\n",
       "  'Sci-Fi': 2,\n",
       "  'Biography': 2,\n",
       "  'Drama': 11,\n",
       "  'Music': 1,\n",
       "  'History': 1},\n",
       " '2016': {'Crime': 9,\n",
       "  'Drama': 27,\n",
       "  'Mystery': 8,\n",
       "  'Action': 7,\n",
       "  'Adventure': 5,\n",
       "  'Fantasy': 4,\n",
       "  'Thriller': 3,\n",
       "  'Comedy': 9,\n",
       "  'Romance': 2,\n",
       "  'Sci-Fi': 2,\n",
       "  'Biography': 8,\n",
       "  'Horror': 3,\n",
       "  'Documentary': 2,\n",
       "  'History': 3,\n",
       "  'War': 3,\n",
       "  'Talk-Show': 1,\n",
       "  'Music': 1,\n",
       "  'Animation': 1},\n",
       " '2017': {'Drama': 30,\n",
       "  'Sci-Fi': 6,\n",
       "  'Thriller': 13,\n",
       "  'Crime': 16,\n",
       "  'Romance': 4,\n",
       "  'Biography': 7,\n",
       "  'Action': 11,\n",
       "  'Adventure': 6,\n",
       "  'Comedy': 5,\n",
       "  'Horror': 4,\n",
       "  'Documentary': 2,\n",
       "  'History': 4,\n",
       "  'Fantasy': 2,\n",
       "  'Mystery': 7,\n",
       "  'War': 1,\n",
       "  'News': 1,\n",
       "  'Talk-Show': 1},\n",
       " '2018': {'Drama': 19,\n",
       "  'Mystery': 8,\n",
       "  'Thriller': 13,\n",
       "  'Action': 9,\n",
       "  'Adventure': 6,\n",
       "  'Sci-Fi': 6,\n",
       "  'Crime': 12,\n",
       "  'Biography': 2,\n",
       "  'Sport': 2,\n",
       "  'History': 2,\n",
       "  'Comedy': 2,\n",
       "  'Horror': 2,\n",
       "  'Documentary': 7,\n",
       "  'Family': 1,\n",
       "  'Fantasy': 2},\n",
       " '2019': {'Crime': 14,\n",
       "  'Drama': 20,\n",
       "  'Comedy': 3,\n",
       "  'Biography': 3,\n",
       "  'Action': 9,\n",
       "  'Adventure': 7,\n",
       "  'Sci-Fi': 7,\n",
       "  'History': 3,\n",
       "  'Animation': 1,\n",
       "  'Thriller': 9,\n",
       "  'Horror': 2,\n",
       "  'Mystery': 7,\n",
       "  'Documentary': 2,\n",
       "  'Romance': 1},\n",
       " '2020': {'Drama': 61,\n",
       "  'Mystery': 15,\n",
       "  'Thriller': 24,\n",
       "  'Crime': 42,\n",
       "  'Animation': 2,\n",
       "  'Adventure': 5,\n",
       "  'Comedy': 24,\n",
       "  'Romance': 6,\n",
       "  'Horror': 5,\n",
       "  'History': 5,\n",
       "  'Action': 5,\n",
       "  'Biography': 6,\n",
       "  'War': 3,\n",
       "  'Sport': 3,\n",
       "  'Fantasy': 1,\n",
       "  'Sci-Fi': 2,\n",
       "  'Documentary': 9,\n",
       "  'Family': 1},\n",
       " '2021': {'Crime': 11,\n",
       "  'Drama': 16,\n",
       "  'Thriller': 9,\n",
       "  'Mystery': 8,\n",
       "  'Biography': 1,\n",
       "  'History': 2,\n",
       "  'Horror': 4,\n",
       "  'Sci-Fi': 1,\n",
       "  'Fantasy': 2,\n",
       "  'Comedy': 3,\n",
       "  'Animation': 1,\n",
       "  'Adventure': 2,\n",
       "  'Documentary': 2,\n",
       "  'Action': 1}}"
      ]
     },
     "execution_count": 305,
     "metadata": {},
     "output_type": "execute_result"
    }
   ],
   "source": [
    "genre_yearly_data()"
   ]
  },
  {
   "cell_type": "code",
   "execution_count": 306,
   "metadata": {},
   "outputs": [],
   "source": [
    "def build_data_source_for_graph():\n",
    "    all_possible_genres_seen = build_genre_dict().keys()\n",
    "\n",
    "    source = {}\n",
    "\n",
    "    yearly_data = genre_yearly_data()\n",
    "\n",
    "    source['years'] = [str(i) for i in yearly_data.keys()]\n",
    "\n",
    "    for genre in all_possible_genres_seen:\n",
    "        source[genre] = [0 for i in range(0, len(source['years']))]\n",
    "\n",
    "    for n, year in enumerate(yearly_data.keys()):\n",
    "        genres = yearly_data[year]\n",
    "        for g in genres:\n",
    "            source[g][n] = genres[g]\n",
    "\n",
    "    return all_possible_genres_seen, source"
   ]
  },
  {
   "cell_type": "code",
   "execution_count": 307,
   "metadata": {},
   "outputs": [
    {
     "data": {
      "text/html": [
       "\n",
       "\n",
       "\n",
       "\n",
       "\n",
       "\n",
       "  <div class=\"bk-root\" id=\"15f9431f-94f5-4a6a-b7b7-3e444c2dffcb\" data-root-id=\"10023\"></div>\n"
      ]
     },
     "metadata": {},
     "output_type": "display_data"
    },
    {
     "data": {
      "application/javascript": [
       "(function(root) {\n",
       "  function embed_document(root) {\n",
       "    \n",
       "  var docs_json = {\"520b2b14-f8de-4d97-9fc1-6175e1cfefbc\":{\"roots\":{\"references\":[{\"attributes\":{\"below\":[{\"id\":\"10034\"},{\"id\":\"10099\"}],\"center\":[{\"id\":\"10036\"},{\"id\":\"10040\"},{\"id\":\"10099\"}],\"left\":[{\"id\":\"10037\"}],\"outline_line_color\":null,\"plot_height\":450,\"plot_width\":1000,\"renderers\":[{\"id\":\"10090\"},{\"id\":\"10105\"},{\"id\":\"10121\"},{\"id\":\"10139\"},{\"id\":\"10159\"},{\"id\":\"10181\"},{\"id\":\"10205\"},{\"id\":\"10231\"},{\"id\":\"10259\"},{\"id\":\"10289\"},{\"id\":\"10321\"},{\"id\":\"10355\"},{\"id\":\"10391\"},{\"id\":\"10429\"},{\"id\":\"10469\"},{\"id\":\"10511\"},{\"id\":\"10555\"},{\"id\":\"10601\"},{\"id\":\"10649\"},{\"id\":\"10699\"},{\"id\":\"10751\"}],\"title\":{\"id\":\"10024\"},\"toolbar\":{\"id\":\"10042\"},\"toolbar_location\":null,\"x_range\":{\"id\":\"10026\"},\"x_scale\":{\"id\":\"10030\"},\"y_range\":{\"id\":\"10028\"},\"y_scale\":{\"id\":\"10032\"}},\"id\":\"10023\",\"subtype\":\"Figure\",\"type\":\"Plot\"},{\"attributes\":{\"bottom\":{\"expr\":{\"id\":\"10044\"}},\"fill_color\":{\"value\":\"#BBF425\"},\"line_color\":{\"value\":\"#BBF425\"},\"top\":{\"expr\":{\"id\":\"10045\"}},\"width\":{\"value\":0.3},\"x\":{\"field\":\"years\"}},\"id\":\"10088\",\"type\":\"VBar\"},{\"attributes\":{\"bottom\":{\"expr\":{\"id\":\"10058\"}},\"fill_alpha\":{\"value\":0.1},\"fill_color\":{\"value\":\"#B6DBEC\"},\"line_alpha\":{\"value\":0.1},\"line_color\":{\"value\":\"#B6DBEC\"},\"top\":{\"expr\":{\"id\":\"10059\"}},\"width\":{\"value\":0.3},\"x\":{\"field\":\"years\"}},\"id\":\"10230\",\"type\":\"VBar\"},{\"attributes\":{\"fields\":[\"Crime\",\"Drama\",\"Mystery\",\"Thriller\",\"Adventure\",\"Comedy\"]},\"id\":\"10056\",\"type\":\"Stack\"},{\"attributes\":{},\"id\":\"10463\",\"type\":\"Selection\"},{\"attributes\":{},\"id\":\"10594\",\"type\":\"UnionRenderers\"},{\"attributes\":{\"items\":[{\"id\":\"10100\"},{\"id\":\"10116\"},{\"id\":\"10134\"},{\"id\":\"10154\"},{\"id\":\"10176\"},{\"id\":\"10200\"},{\"id\":\"10226\"},{\"id\":\"10254\"},{\"id\":\"10284\"},{\"id\":\"10316\"},{\"id\":\"10350\"},{\"id\":\"10386\"},{\"id\":\"10424\"},{\"id\":\"10464\"},{\"id\":\"10506\"},{\"id\":\"10550\"},{\"id\":\"10596\"},{\"id\":\"10644\"},{\"id\":\"10694\"},{\"id\":\"10746\"},{\"id\":\"10800\"}],\"orientation\":\"horizontal\"},\"id\":\"10099\",\"type\":\"Legend\"},{\"attributes\":{\"source\":{\"id\":\"10177\"}},\"id\":\"10182\",\"type\":\"CDSView\"},{\"attributes\":{},\"id\":\"10252\",\"type\":\"UnionRenderers\"},{\"attributes\":{\"fields\":[\"Crime\",\"Drama\",\"Mystery\",\"Thriller\",\"Adventure\",\"Comedy\",\"Fantasy\",\"Biography\",\"History\",\"Documentary\",\"Horror\",\"Sci-Fi\",\"Action\",\"Animation\",\"Romance\"]},\"id\":\"10074\",\"type\":\"Stack\"},{\"attributes\":{\"fields\":[\"Crime\",\"Drama\",\"Mystery\",\"Thriller\",\"Adventure\"]},\"id\":\"10054\",\"type\":\"Stack\"},{\"attributes\":{\"fields\":[\"Crime\",\"Drama\",\"Mystery\",\"Thriller\",\"Adventure\",\"Comedy\",\"Fantasy\"]},\"id\":\"10058\",\"type\":\"Stack\"},{\"attributes\":{\"fields\":[\"Crime\",\"Drama\",\"Mystery\",\"Thriller\",\"Adventure\",\"Comedy\",\"Fantasy\",\"Biography\",\"History\",\"Documentary\",\"Horror\",\"Sci-Fi\",\"Action\"]},\"id\":\"10069\",\"type\":\"Stack\"},{\"attributes\":{\"label\":{\"value\":\"Horror\"},\"renderers\":[{\"id\":\"10321\"}]},\"id\":\"10350\",\"type\":\"LegendItem\"},{\"attributes\":{\"fields\":[\"Crime\",\"Drama\",\"Mystery\",\"Thriller\",\"Adventure\",\"Comedy\",\"Fantasy\",\"Biography\",\"History\",\"Documentary\",\"Horror\",\"Sci-Fi\",\"Action\",\"Animation\"]},\"id\":\"10072\",\"type\":\"Stack\"},{\"attributes\":{\"bottom\":{\"expr\":{\"id\":\"10052\"}},\"fill_alpha\":{\"value\":0.1},\"fill_color\":{\"value\":\"#DBB175\"},\"line_alpha\":{\"value\":0.1},\"line_color\":{\"value\":\"#DBB175\"},\"top\":{\"expr\":{\"id\":\"10053\"}},\"width\":{\"value\":0.3},\"x\":{\"field\":\"years\"}},\"id\":\"10158\",\"type\":\"VBar\"},{\"attributes\":{\"bottom\":{\"expr\":{\"id\":\"10054\"}},\"fill_color\":{\"value\":\"#AAE5C7\"},\"line_color\":{\"value\":\"#AAE5C7\"},\"top\":{\"expr\":{\"id\":\"10055\"}},\"width\":{\"value\":0.3},\"x\":{\"field\":\"years\"}},\"id\":\"10179\",\"type\":\"VBar\"},{\"attributes\":{\"data\":{\"Action\":[0,4,7,11,9,9,5,1],\"Adventure\":[0,3,5,6,6,7,5,2],\"Animation\":[0,0,1,0,0,1,2,1],\"Biography\":[0,2,8,7,2,3,6,1],\"Comedy\":[0,6,9,5,2,3,24,3],\"Crime\":[0,4,9,16,12,14,42,11],\"Documentary\":[0,0,2,2,7,2,9,2],\"Drama\":[0,11,27,30,19,20,61,16],\"Family\":[0,0,0,0,1,0,1,0],\"Fantasy\":[0,0,4,2,2,0,1,2],\"History\":[0,1,3,4,2,3,5,2],\"Horror\":[0,0,3,4,2,2,5,4],\"Music\":[0,1,1,0,0,0,0,0],\"Mystery\":[0,1,8,7,8,7,15,8],\"News\":[0,0,0,1,0,0,0,0],\"Romance\":[0,5,2,4,0,1,6,0],\"Sci-Fi\":[0,2,2,6,6,7,2,1],\"Sport\":[0,0,0,0,2,0,3,0],\"Talk-Show\":[0,0,1,1,0,0,0,0],\"Thriller\":[0,6,3,13,13,9,24,9],\"War\":[0,0,3,1,0,0,3,0],\"years\":[\"2014\",\"2015\",\"2016\",\"2017\",\"2018\",\"2019\",\"2020\",\"2021\"]},\"selected\":{\"id\":\"10549\"},\"selection_policy\":{\"id\":\"10548\"}},\"id\":\"10507\",\"type\":\"ColumnDataSource\"},{\"attributes\":{\"callback\":null,\"tooltips\":\"$name in @years: @$name\"},\"id\":\"10041\",\"type\":\"HoverTool\"},{\"attributes\":{\"fields\":[\"Crime\",\"Drama\",\"Mystery\",\"Thriller\",\"Adventure\",\"Comedy\",\"Fantasy\",\"Biography\",\"History\",\"Documentary\",\"Horror\",\"Sci-Fi\",\"Action\",\"Animation\",\"Romance\",\"Family\"]},\"id\":\"10076\",\"type\":\"Stack\"},{\"attributes\":{\"bottom\":{\"expr\":{\"id\":\"10048\"}},\"fill_alpha\":{\"value\":0.1},\"fill_color\":{\"value\":\"#49FA99\"},\"line_alpha\":{\"value\":0.1},\"line_color\":{\"value\":\"#49FA99\"},\"top\":{\"expr\":{\"id\":\"10049\"}},\"width\":{\"value\":0.3},\"x\":{\"field\":\"years\"}},\"id\":\"10120\",\"type\":\"VBar\"},{\"attributes\":{\"fields\":[\"Crime\",\"Drama\",\"Mystery\",\"Thriller\",\"Adventure\",\"Comedy\",\"Fantasy\",\"Biography\",\"History\",\"Documentary\",\"Horror\",\"Sci-Fi\",\"Action\",\"Animation\",\"Romance\",\"Family\",\"War\",\"Sport\"]},\"id\":\"10080\",\"type\":\"Stack\"},{\"attributes\":{\"bottom\":{\"expr\":{\"id\":\"10072\"}},\"fill_alpha\":{\"value\":0.1},\"fill_color\":{\"value\":\"#BA27D6\"},\"line_alpha\":{\"value\":0.1},\"line_color\":{\"value\":\"#BA27D6\"},\"top\":{\"expr\":{\"id\":\"10073\"}},\"width\":{\"value\":0.3},\"x\":{\"field\":\"years\"}},\"id\":\"10468\",\"type\":\"VBar\"},{\"attributes\":{},\"id\":\"10032\",\"type\":\"LinearScale\"},{\"attributes\":{\"label\":{\"value\":\"Adventure\"},\"renderers\":[{\"id\":\"10159\"}]},\"id\":\"10176\",\"type\":\"LegendItem\"},{\"attributes\":{\"bottom\":{\"expr\":{\"id\":\"10050\"}},\"fill_color\":{\"value\":\"#7CAF9A\"},\"line_color\":{\"value\":\"#7CAF9A\"},\"top\":{\"expr\":{\"id\":\"10051\"}},\"width\":{\"value\":0.3},\"x\":{\"field\":\"years\"}},\"id\":\"10137\",\"type\":\"VBar\"},{\"attributes\":{\"source\":{\"id\":\"10465\"}},\"id\":\"10470\",\"type\":\"CDSView\"},{\"attributes\":{\"label\":{\"value\":\"Fantasy\"},\"renderers\":[{\"id\":\"10205\"}]},\"id\":\"10226\",\"type\":\"LegendItem\"},{\"attributes\":{\"bottom\":{\"expr\":{\"id\":\"10054\"}},\"fill_alpha\":{\"value\":0.1},\"fill_color\":{\"value\":\"#AAE5C7\"},\"line_alpha\":{\"value\":0.1},\"line_color\":{\"value\":\"#AAE5C7\"},\"top\":{\"expr\":{\"id\":\"10055\"}},\"width\":{\"value\":0.3},\"x\":{\"field\":\"years\"}},\"id\":\"10180\",\"type\":\"VBar\"},{\"attributes\":{\"fields\":[\"Crime\",\"Drama\",\"Mystery\",\"Thriller\",\"Adventure\",\"Comedy\",\"Fantasy\",\"Biography\",\"History\",\"Documentary\",\"Horror\",\"Sci-Fi\"]},\"id\":\"10067\",\"type\":\"Stack\"},{\"attributes\":{\"data_source\":{\"id\":\"10465\"},\"glyph\":{\"id\":\"10467\"},\"hover_glyph\":null,\"muted_glyph\":null,\"name\":\"Romance\",\"nonselection_glyph\":{\"id\":\"10468\"},\"selection_glyph\":null,\"view\":{\"id\":\"10470\"}},\"id\":\"10469\",\"type\":\"GlyphRenderer\"},{\"attributes\":{\"source\":{\"id\":\"10101\"}},\"id\":\"10106\",\"type\":\"CDSView\"},{\"attributes\":{\"fields\":[\"Crime\",\"Drama\",\"Mystery\",\"Thriller\",\"Adventure\",\"Comedy\",\"Fantasy\",\"Biography\",\"History\",\"Documentary\",\"Horror\"]},\"id\":\"10066\",\"type\":\"Stack\"},{\"attributes\":{\"data_source\":{\"id\":\"10135\"},\"glyph\":{\"id\":\"10137\"},\"hover_glyph\":null,\"muted_glyph\":null,\"name\":\"Thriller\",\"nonselection_glyph\":{\"id\":\"10138\"},\"selection_glyph\":null,\"view\":{\"id\":\"10140\"}},\"id\":\"10139\",\"type\":\"GlyphRenderer\"},{\"attributes\":{\"axis\":{\"id\":\"10037\"},\"dimension\":1,\"ticker\":null},\"id\":\"10040\",\"type\":\"Grid\"},{\"attributes\":{\"bottom\":{\"expr\":{\"id\":\"10066\"}},\"fill_alpha\":{\"value\":0.1},\"fill_color\":{\"value\":\"#66F852\"},\"line_alpha\":{\"value\":0.1},\"line_color\":{\"value\":\"#66F852\"},\"top\":{\"expr\":{\"id\":\"10067\"}},\"width\":{\"value\":0.3},\"x\":{\"field\":\"years\"}},\"id\":\"10354\",\"type\":\"VBar\"},{\"attributes\":{\"fields\":[]},\"id\":\"10044\",\"type\":\"Stack\"},{\"attributes\":{\"fields\":[\"Crime\",\"Drama\",\"Mystery\",\"Thriller\",\"Adventure\",\"Comedy\",\"Fantasy\",\"Biography\",\"History\",\"Documentary\",\"Horror\",\"Sci-Fi\",\"Action\",\"Animation\",\"Romance\",\"Family\",\"War\",\"Sport\",\"News\"]},\"id\":\"10082\",\"type\":\"Stack\"},{\"attributes\":{\"text\":\"Genre Distribution per Year\"},\"id\":\"10024\",\"type\":\"Title\"},{\"attributes\":{\"formatter\":{\"id\":\"10094\"},\"minor_tick_line_color\":null,\"ticker\":{\"id\":\"10038\"}},\"id\":\"10037\",\"type\":\"LinearAxis\"},{\"attributes\":{\"bottom\":{\"expr\":{\"id\":\"10066\"}},\"fill_color\":{\"value\":\"#66F852\"},\"line_color\":{\"value\":\"#66F852\"},\"top\":{\"expr\":{\"id\":\"10067\"}},\"width\":{\"value\":0.3},\"x\":{\"field\":\"years\"}},\"id\":\"10353\",\"type\":\"VBar\"},{\"attributes\":{\"fields\":[\"Crime\",\"Drama\",\"Mystery\",\"Thriller\",\"Adventure\",\"Comedy\",\"Fantasy\",\"Biography\",\"History\",\"Documentary\",\"Horror\",\"Sci-Fi\",\"Action\",\"Animation\",\"Romance\",\"Family\",\"War\",\"Sport\",\"News\",\"Talk-Show\",\"Music\"]},\"id\":\"10085\",\"type\":\"Stack\"},{\"attributes\":{\"data\":{\"Action\":[0,4,7,11,9,9,5,1],\"Adventure\":[0,3,5,6,6,7,5,2],\"Animation\":[0,0,1,0,0,1,2,1],\"Biography\":[0,2,8,7,2,3,6,1],\"Comedy\":[0,6,9,5,2,3,24,3],\"Crime\":[0,4,9,16,12,14,42,11],\"Documentary\":[0,0,2,2,7,2,9,2],\"Drama\":[0,11,27,30,19,20,61,16],\"Family\":[0,0,0,0,1,0,1,0],\"Fantasy\":[0,0,4,2,2,0,1,2],\"History\":[0,1,3,4,2,3,5,2],\"Horror\":[0,0,3,4,2,2,5,4],\"Music\":[0,1,1,0,0,0,0,0],\"Mystery\":[0,1,8,7,8,7,15,8],\"News\":[0,0,0,1,0,0,0,0],\"Romance\":[0,5,2,4,0,1,6,0],\"Sci-Fi\":[0,2,2,6,6,7,2,1],\"Sport\":[0,0,0,0,2,0,3,0],\"Talk-Show\":[0,0,1,1,0,0,0,0],\"Thriller\":[0,6,3,13,13,9,24,9],\"War\":[0,0,3,1,0,0,3,0],\"years\":[\"2014\",\"2015\",\"2016\",\"2017\",\"2018\",\"2019\",\"2020\",\"2021\"]},\"selected\":{\"id\":\"10133\"},\"selection_policy\":{\"id\":\"10132\"}},\"id\":\"10117\",\"type\":\"ColumnDataSource\"},{\"attributes\":{\"bottom\":{\"expr\":{\"id\":\"10052\"}},\"fill_color\":{\"value\":\"#DBB175\"},\"line_color\":{\"value\":\"#DBB175\"},\"top\":{\"expr\":{\"id\":\"10053\"}},\"width\":{\"value\":0.3},\"x\":{\"field\":\"years\"}},\"id\":\"10157\",\"type\":\"VBar\"},{\"attributes\":{\"data\":{\"Action\":[0,4,7,11,9,9,5,1],\"Adventure\":[0,3,5,6,6,7,5,2],\"Animation\":[0,0,1,0,0,1,2,1],\"Biography\":[0,2,8,7,2,3,6,1],\"Comedy\":[0,6,9,5,2,3,24,3],\"Crime\":[0,4,9,16,12,14,42,11],\"Documentary\":[0,0,2,2,7,2,9,2],\"Drama\":[0,11,27,30,19,20,61,16],\"Family\":[0,0,0,0,1,0,1,0],\"Fantasy\":[0,0,4,2,2,0,1,2],\"History\":[0,1,3,4,2,3,5,2],\"Horror\":[0,0,3,4,2,2,5,4],\"Music\":[0,1,1,0,0,0,0,0],\"Mystery\":[0,1,8,7,8,7,15,8],\"News\":[0,0,0,1,0,0,0,0],\"Romance\":[0,5,2,4,0,1,6,0],\"Sci-Fi\":[0,2,2,6,6,7,2,1],\"Sport\":[0,0,0,0,2,0,3,0],\"Talk-Show\":[0,0,1,1,0,0,0,0],\"Thriller\":[0,6,3,13,13,9,24,9],\"War\":[0,0,3,1,0,0,3,0],\"years\":[\"2014\",\"2015\",\"2016\",\"2017\",\"2018\",\"2019\",\"2020\",\"2021\"]},\"selected\":{\"id\":\"10153\"},\"selection_policy\":{\"id\":\"10152\"}},\"id\":\"10135\",\"type\":\"ColumnDataSource\"},{\"attributes\":{\"bottom\":{\"expr\":{\"id\":\"10050\"}},\"fill_alpha\":{\"value\":0.1},\"fill_color\":{\"value\":\"#7CAF9A\"},\"line_alpha\":{\"value\":0.1},\"line_color\":{\"value\":\"#7CAF9A\"},\"top\":{\"expr\":{\"id\":\"10051\"}},\"width\":{\"value\":0.3},\"x\":{\"field\":\"years\"}},\"id\":\"10138\",\"type\":\"VBar\"},{\"attributes\":{\"fields\":[\"Crime\",\"Drama\",\"Mystery\",\"Thriller\",\"Adventure\",\"Comedy\",\"Fantasy\",\"Biography\",\"History\",\"Documentary\",\"Horror\"]},\"id\":\"10065\",\"type\":\"Stack\"},{\"attributes\":{\"source\":{\"id\":\"10351\"}},\"id\":\"10356\",\"type\":\"CDSView\"},{\"attributes\":{\"source\":{\"id\":\"10086\"}},\"id\":\"10091\",\"type\":\"CDSView\"},{\"attributes\":{\"data\":{\"Action\":[0,4,7,11,9,9,5,1],\"Adventure\":[0,3,5,6,6,7,5,2],\"Animation\":[0,0,1,0,0,1,2,1],\"Biography\":[0,2,8,7,2,3,6,1],\"Comedy\":[0,6,9,5,2,3,24,3],\"Crime\":[0,4,9,16,12,14,42,11],\"Documentary\":[0,0,2,2,7,2,9,2],\"Drama\":[0,11,27,30,19,20,61,16],\"Family\":[0,0,0,0,1,0,1,0],\"Fantasy\":[0,0,4,2,2,0,1,2],\"History\":[0,1,3,4,2,3,5,2],\"Horror\":[0,0,3,4,2,2,5,4],\"Music\":[0,1,1,0,0,0,0,0],\"Mystery\":[0,1,8,7,8,7,15,8],\"News\":[0,0,0,1,0,0,0,0],\"Romance\":[0,5,2,4,0,1,6,0],\"Sci-Fi\":[0,2,2,6,6,7,2,1],\"Sport\":[0,0,0,0,2,0,3,0],\"Talk-Show\":[0,0,1,1,0,0,0,0],\"Thriller\":[0,6,3,13,13,9,24,9],\"War\":[0,0,3,1,0,0,3,0],\"years\":[\"2014\",\"2015\",\"2016\",\"2017\",\"2018\",\"2019\",\"2020\",\"2021\"]},\"selected\":{\"id\":\"10175\"},\"selection_policy\":{\"id\":\"10174\"}},\"id\":\"10155\",\"type\":\"ColumnDataSource\"},{\"attributes\":{},\"id\":\"10198\",\"type\":\"UnionRenderers\"},{\"attributes\":{\"data\":{\"Action\":[0,4,7,11,9,9,5,1],\"Adventure\":[0,3,5,6,6,7,5,2],\"Animation\":[0,0,1,0,0,1,2,1],\"Biography\":[0,2,8,7,2,3,6,1],\"Comedy\":[0,6,9,5,2,3,24,3],\"Crime\":[0,4,9,16,12,14,42,11],\"Documentary\":[0,0,2,2,7,2,9,2],\"Drama\":[0,11,27,30,19,20,61,16],\"Family\":[0,0,0,0,1,0,1,0],\"Fantasy\":[0,0,4,2,2,0,1,2],\"History\":[0,1,3,4,2,3,5,2],\"Horror\":[0,0,3,4,2,2,5,4],\"Music\":[0,1,1,0,0,0,0,0],\"Mystery\":[0,1,8,7,8,7,15,8],\"News\":[0,0,0,1,0,0,0,0],\"Romance\":[0,5,2,4,0,1,6,0],\"Sci-Fi\":[0,2,2,6,6,7,2,1],\"Sport\":[0,0,0,0,2,0,3,0],\"Talk-Show\":[0,0,1,1,0,0,0,0],\"Thriller\":[0,6,3,13,13,9,24,9],\"War\":[0,0,3,1,0,0,3,0],\"years\":[\"2014\",\"2015\",\"2016\",\"2017\",\"2018\",\"2019\",\"2020\",\"2021\"]},\"selected\":{\"id\":\"10199\"},\"selection_policy\":{\"id\":\"10198\"}},\"id\":\"10177\",\"type\":\"ColumnDataSource\"},{\"attributes\":{\"data\":{\"Action\":[0,4,7,11,9,9,5,1],\"Adventure\":[0,3,5,6,6,7,5,2],\"Animation\":[0,0,1,0,0,1,2,1],\"Biography\":[0,2,8,7,2,3,6,1],\"Comedy\":[0,6,9,5,2,3,24,3],\"Crime\":[0,4,9,16,12,14,42,11],\"Documentary\":[0,0,2,2,7,2,9,2],\"Drama\":[0,11,27,30,19,20,61,16],\"Family\":[0,0,0,0,1,0,1,0],\"Fantasy\":[0,0,4,2,2,0,1,2],\"History\":[0,1,3,4,2,3,5,2],\"Horror\":[0,0,3,4,2,2,5,4],\"Music\":[0,1,1,0,0,0,0,0],\"Mystery\":[0,1,8,7,8,7,15,8],\"News\":[0,0,0,1,0,0,0,0],\"Romance\":[0,5,2,4,0,1,6,0],\"Sci-Fi\":[0,2,2,6,6,7,2,1],\"Sport\":[0,0,0,0,2,0,3,0],\"Talk-Show\":[0,0,1,1,0,0,0,0],\"Thriller\":[0,6,3,13,13,9,24,9],\"War\":[0,0,3,1,0,0,3,0],\"years\":[\"2014\",\"2015\",\"2016\",\"2017\",\"2018\",\"2019\",\"2020\",\"2021\"]},\"selected\":{\"id\":\"10283\"},\"selection_policy\":{\"id\":\"10282\"}},\"id\":\"10255\",\"type\":\"ColumnDataSource\"},{\"attributes\":{\"source\":{\"id\":\"10135\"}},\"id\":\"10140\",\"type\":\"CDSView\"},{\"attributes\":{\"data\":{\"Action\":[0,4,7,11,9,9,5,1],\"Adventure\":[0,3,5,6,6,7,5,2],\"Animation\":[0,0,1,0,0,1,2,1],\"Biography\":[0,2,8,7,2,3,6,1],\"Comedy\":[0,6,9,5,2,3,24,3],\"Crime\":[0,4,9,16,12,14,42,11],\"Documentary\":[0,0,2,2,7,2,9,2],\"Drama\":[0,11,27,30,19,20,61,16],\"Family\":[0,0,0,0,1,0,1,0],\"Fantasy\":[0,0,4,2,2,0,1,2],\"History\":[0,1,3,4,2,3,5,2],\"Horror\":[0,0,3,4,2,2,5,4],\"Music\":[0,1,1,0,0,0,0,0],\"Mystery\":[0,1,8,7,8,7,15,8],\"News\":[0,0,0,1,0,0,0,0],\"Romance\":[0,5,2,4,0,1,6,0],\"Sci-Fi\":[0,2,2,6,6,7,2,1],\"Sport\":[0,0,0,0,2,0,3,0],\"Talk-Show\":[0,0,1,1,0,0,0,0],\"Thriller\":[0,6,3,13,13,9,24,9],\"War\":[0,0,3,1,0,0,3,0],\"years\":[\"2014\",\"2015\",\"2016\",\"2017\",\"2018\",\"2019\",\"2020\",\"2021\"]},\"selected\":{\"id\":\"10463\"},\"selection_policy\":{\"id\":\"10462\"}},\"id\":\"10425\",\"type\":\"ColumnDataSource\"},{\"attributes\":{},\"id\":\"10253\",\"type\":\"Selection\"},{\"attributes\":{\"data\":{\"Action\":[0,4,7,11,9,9,5,1],\"Adventure\":[0,3,5,6,6,7,5,2],\"Animation\":[0,0,1,0,0,1,2,1],\"Biography\":[0,2,8,7,2,3,6,1],\"Comedy\":[0,6,9,5,2,3,24,3],\"Crime\":[0,4,9,16,12,14,42,11],\"Documentary\":[0,0,2,2,7,2,9,2],\"Drama\":[0,11,27,30,19,20,61,16],\"Family\":[0,0,0,0,1,0,1,0],\"Fantasy\":[0,0,4,2,2,0,1,2],\"History\":[0,1,3,4,2,3,5,2],\"Horror\":[0,0,3,4,2,2,5,4],\"Music\":[0,1,1,0,0,0,0,0],\"Mystery\":[0,1,8,7,8,7,15,8],\"News\":[0,0,0,1,0,0,0,0],\"Romance\":[0,5,2,4,0,1,6,0],\"Sci-Fi\":[0,2,2,6,6,7,2,1],\"Sport\":[0,0,0,0,2,0,3,0],\"Talk-Show\":[0,0,1,1,0,0,0,0],\"Thriller\":[0,6,3,13,13,9,24,9],\"War\":[0,0,3,1,0,0,3,0],\"years\":[\"2014\",\"2015\",\"2016\",\"2017\",\"2018\",\"2019\",\"2020\",\"2021\"]},\"selected\":{\"id\":\"10115\"},\"selection_policy\":{\"id\":\"10114\"}},\"id\":\"10101\",\"type\":\"ColumnDataSource\"},{\"attributes\":{\"fields\":[\"Crime\",\"Drama\",\"Mystery\",\"Thriller\",\"Adventure\",\"Comedy\",\"Fantasy\",\"Biography\",\"History\"]},\"id\":\"10062\",\"type\":\"Stack\"},{\"attributes\":{},\"id\":\"10348\",\"type\":\"UnionRenderers\"},{\"attributes\":{\"fields\":[\"Crime\",\"Drama\",\"Mystery\",\"Thriller\",\"Adventure\",\"Comedy\",\"Fantasy\",\"Biography\",\"History\",\"Documentary\",\"Horror\",\"Sci-Fi\",\"Action\",\"Animation\",\"Romance\"]},\"id\":\"10073\",\"type\":\"Stack\"},{\"attributes\":{},\"id\":\"10745\",\"type\":\"Selection\"},{\"attributes\":{\"fields\":[\"Crime\",\"Drama\",\"Mystery\",\"Thriller\",\"Adventure\",\"Comedy\",\"Fantasy\",\"Biography\",\"History\",\"Documentary\"]},\"id\":\"10063\",\"type\":\"Stack\"},{\"attributes\":{},\"id\":\"10094\",\"type\":\"BasicTickFormatter\"},{\"attributes\":{\"data_source\":{\"id\":\"10086\"},\"glyph\":{\"id\":\"10088\"},\"hover_glyph\":null,\"muted_glyph\":null,\"name\":\"Crime\",\"nonselection_glyph\":{\"id\":\"10089\"},\"selection_glyph\":null,\"view\":{\"id\":\"10091\"}},\"id\":\"10090\",\"type\":\"GlyphRenderer\"},{\"attributes\":{\"bottom\":{\"expr\":{\"id\":\"10056\"}},\"fill_alpha\":{\"value\":0.1},\"fill_color\":{\"value\":\"#5CA497\"},\"line_alpha\":{\"value\":0.1},\"line_color\":{\"value\":\"#5CA497\"},\"top\":{\"expr\":{\"id\":\"10057\"}},\"width\":{\"value\":0.3},\"x\":{\"field\":\"years\"}},\"id\":\"10204\",\"type\":\"VBar\"},{\"attributes\":{\"bottom\":{\"expr\":{\"id\":\"10060\"}},\"fill_color\":{\"value\":\"#1112FB\"},\"line_color\":{\"value\":\"#1112FB\"},\"top\":{\"expr\":{\"id\":\"10061\"}},\"width\":{\"value\":0.3},\"x\":{\"field\":\"years\"}},\"id\":\"10257\",\"type\":\"VBar\"},{\"attributes\":{\"data_source\":{\"id\":\"10101\"},\"glyph\":{\"id\":\"10103\"},\"hover_glyph\":null,\"muted_glyph\":null,\"name\":\"Drama\",\"nonselection_glyph\":{\"id\":\"10104\"},\"selection_glyph\":null,\"view\":{\"id\":\"10106\"}},\"id\":\"10105\",\"type\":\"GlyphRenderer\"},{\"attributes\":{\"data_source\":{\"id\":\"10201\"},\"glyph\":{\"id\":\"10203\"},\"hover_glyph\":null,\"muted_glyph\":null,\"name\":\"Fantasy\",\"nonselection_glyph\":{\"id\":\"10204\"},\"selection_glyph\":null,\"view\":{\"id\":\"10206\"}},\"id\":\"10205\",\"type\":\"GlyphRenderer\"},{\"attributes\":{\"label\":{\"value\":\"Biography\"},\"renderers\":[{\"id\":\"10231\"}]},\"id\":\"10254\",\"type\":\"LegendItem\"},{\"attributes\":{\"source\":{\"id\":\"10201\"}},\"id\":\"10206\",\"type\":\"CDSView\"},{\"attributes\":{\"bottom\":{\"expr\":{\"id\":\"10048\"}},\"fill_color\":{\"value\":\"#49FA99\"},\"line_color\":{\"value\":\"#49FA99\"},\"top\":{\"expr\":{\"id\":\"10049\"}},\"width\":{\"value\":0.3},\"x\":{\"field\":\"years\"}},\"id\":\"10119\",\"type\":\"VBar\"},{\"attributes\":{\"label\":{\"value\":\"Thriller\"},\"renderers\":[{\"id\":\"10139\"}]},\"id\":\"10154\",\"type\":\"LegendItem\"},{\"attributes\":{},\"id\":\"10133\",\"type\":\"Selection\"},{\"attributes\":{\"fields\":[\"Crime\",\"Drama\",\"Mystery\",\"Thriller\",\"Adventure\",\"Comedy\",\"Fantasy\",\"Biography\"]},\"id\":\"10060\",\"type\":\"Stack\"},{\"attributes\":{\"fields\":[\"Crime\",\"Drama\",\"Mystery\",\"Thriller\",\"Adventure\",\"Comedy\",\"Fantasy\",\"Biography\",\"History\",\"Documentary\",\"Horror\",\"Sci-Fi\",\"Action\",\"Animation\",\"Romance\",\"Family\",\"War\"]},\"id\":\"10078\",\"type\":\"Stack\"},{\"attributes\":{},\"id\":\"10153\",\"type\":\"Selection\"},{\"attributes\":{\"label\":{\"value\":\"Romance\"},\"renderers\":[{\"id\":\"10469\"}]},\"id\":\"10506\",\"type\":\"LegendItem\"},{\"attributes\":{},\"id\":\"10224\",\"type\":\"UnionRenderers\"},{\"attributes\":{\"bottom\":{\"expr\":{\"id\":\"10072\"}},\"fill_color\":{\"value\":\"#BA27D6\"},\"line_color\":{\"value\":\"#BA27D6\"},\"top\":{\"expr\":{\"id\":\"10073\"}},\"width\":{\"value\":0.3},\"x\":{\"field\":\"years\"}},\"id\":\"10467\",\"type\":\"VBar\"},{\"attributes\":{},\"id\":\"10115\",\"type\":\"Selection\"},{\"attributes\":{},\"id\":\"10225\",\"type\":\"Selection\"},{\"attributes\":{\"fields\":[\"Crime\",\"Drama\",\"Mystery\",\"Thriller\",\"Adventure\",\"Comedy\",\"Fantasy\",\"Biography\",\"History\",\"Documentary\",\"Horror\",\"Sci-Fi\",\"Action\",\"Animation\",\"Romance\",\"Family\",\"War\",\"Sport\",\"News\",\"Talk-Show\"]},\"id\":\"10083\",\"type\":\"Stack\"},{\"attributes\":{\"bottom\":{\"expr\":{\"id\":\"10080\"}},\"fill_color\":{\"value\":\"#E97AD7\"},\"line_color\":{\"value\":\"#E97AD7\"},\"top\":{\"expr\":{\"id\":\"10081\"}},\"width\":{\"value\":0.3},\"x\":{\"field\":\"years\"}},\"id\":\"10647\",\"type\":\"VBar\"},{\"attributes\":{\"bottom\":{\"expr\":{\"id\":\"10084\"}},\"fill_alpha\":{\"value\":0.1},\"fill_color\":{\"value\":\"#3ED3D3\"},\"line_alpha\":{\"value\":0.1},\"line_color\":{\"value\":\"#3ED3D3\"},\"top\":{\"expr\":{\"id\":\"10085\"}},\"width\":{\"value\":0.3},\"x\":{\"field\":\"years\"}},\"id\":\"10750\",\"type\":\"VBar\"},{\"attributes\":{\"fields\":[\"Crime\",\"Drama\",\"Mystery\",\"Thriller\",\"Adventure\",\"Comedy\",\"Fantasy\",\"Biography\",\"History\",\"Documentary\"]},\"id\":\"10064\",\"type\":\"Stack\"},{\"attributes\":{\"label\":{\"value\":\"Sci-Fi\"},\"renderers\":[{\"id\":\"10355\"}]},\"id\":\"10386\",\"type\":\"LegendItem\"},{\"attributes\":{\"label\":{\"value\":\"Music\"},\"renderers\":[{\"id\":\"10751\"}]},\"id\":\"10800\",\"type\":\"LegendItem\"},{\"attributes\":{},\"id\":\"10349\",\"type\":\"Selection\"},{\"attributes\":{\"data_source\":{\"id\":\"10117\"},\"glyph\":{\"id\":\"10119\"},\"hover_glyph\":null,\"muted_glyph\":null,\"name\":\"Mystery\",\"nonselection_glyph\":{\"id\":\"10120\"},\"selection_glyph\":null,\"view\":{\"id\":\"10122\"}},\"id\":\"10121\",\"type\":\"GlyphRenderer\"},{\"attributes\":{\"bottom\":{\"expr\":{\"id\":\"10084\"}},\"fill_color\":{\"value\":\"#3ED3D3\"},\"line_color\":{\"value\":\"#3ED3D3\"},\"top\":{\"expr\":{\"id\":\"10085\"}},\"width\":{\"value\":0.3},\"x\":{\"field\":\"years\"}},\"id\":\"10749\",\"type\":\"VBar\"},{\"attributes\":{},\"id\":\"10385\",\"type\":\"Selection\"},{\"attributes\":{\"end\":200},\"id\":\"10028\",\"type\":\"Range1d\"},{\"attributes\":{\"bottom\":{\"expr\":{\"id\":\"10056\"}},\"fill_color\":{\"value\":\"#5CA497\"},\"line_color\":{\"value\":\"#5CA497\"},\"top\":{\"expr\":{\"id\":\"10057\"}},\"width\":{\"value\":0.3},\"x\":{\"field\":\"years\"}},\"id\":\"10203\",\"type\":\"VBar\"},{\"attributes\":{},\"id\":\"10152\",\"type\":\"UnionRenderers\"},{\"attributes\":{\"data\":{\"Action\":[0,4,7,11,9,9,5,1],\"Adventure\":[0,3,5,6,6,7,5,2],\"Animation\":[0,0,1,0,0,1,2,1],\"Biography\":[0,2,8,7,2,3,6,1],\"Comedy\":[0,6,9,5,2,3,24,3],\"Crime\":[0,4,9,16,12,14,42,11],\"Documentary\":[0,0,2,2,7,2,9,2],\"Drama\":[0,11,27,30,19,20,61,16],\"Family\":[0,0,0,0,1,0,1,0],\"Fantasy\":[0,0,4,2,2,0,1,2],\"History\":[0,1,3,4,2,3,5,2],\"Horror\":[0,0,3,4,2,2,5,4],\"Music\":[0,1,1,0,0,0,0,0],\"Mystery\":[0,1,8,7,8,7,15,8],\"News\":[0,0,0,1,0,0,0,0],\"Romance\":[0,5,2,4,0,1,6,0],\"Sci-Fi\":[0,2,2,6,6,7,2,1],\"Sport\":[0,0,0,0,2,0,3,0],\"Talk-Show\":[0,0,1,1,0,0,0,0],\"Thriller\":[0,6,3,13,13,9,24,9],\"War\":[0,0,3,1,0,0,3,0],\"years\":[\"2014\",\"2015\",\"2016\",\"2017\",\"2018\",\"2019\",\"2020\",\"2021\"]},\"selected\":{\"id\":\"10385\"},\"selection_policy\":{\"id\":\"10384\"}},\"id\":\"10351\",\"type\":\"ColumnDataSource\"},{\"attributes\":{},\"id\":\"10035\",\"type\":\"CategoricalTicker\"},{\"attributes\":{},\"id\":\"10132\",\"type\":\"UnionRenderers\"},{\"attributes\":{\"data\":{\"Action\":[0,4,7,11,9,9,5,1],\"Adventure\":[0,3,5,6,6,7,5,2],\"Animation\":[0,0,1,0,0,1,2,1],\"Biography\":[0,2,8,7,2,3,6,1],\"Comedy\":[0,6,9,5,2,3,24,3],\"Crime\":[0,4,9,16,12,14,42,11],\"Documentary\":[0,0,2,2,7,2,9,2],\"Drama\":[0,11,27,30,19,20,61,16],\"Family\":[0,0,0,0,1,0,1,0],\"Fantasy\":[0,0,4,2,2,0,1,2],\"History\":[0,1,3,4,2,3,5,2],\"Horror\":[0,0,3,4,2,2,5,4],\"Music\":[0,1,1,0,0,0,0,0],\"Mystery\":[0,1,8,7,8,7,15,8],\"News\":[0,0,0,1,0,0,0,0],\"Romance\":[0,5,2,4,0,1,6,0],\"Sci-Fi\":[0,2,2,6,6,7,2,1],\"Sport\":[0,0,0,0,2,0,3,0],\"Talk-Show\":[0,0,1,1,0,0,0,0],\"Thriller\":[0,6,3,13,13,9,24,9],\"War\":[0,0,3,1,0,0,3,0],\"years\":[\"2014\",\"2015\",\"2016\",\"2017\",\"2018\",\"2019\",\"2020\",\"2021\"]},\"selected\":{\"id\":\"10098\"},\"selection_policy\":{\"id\":\"10097\"}},\"id\":\"10086\",\"type\":\"ColumnDataSource\"},{\"attributes\":{},\"id\":\"10175\",\"type\":\"Selection\"},{\"attributes\":{\"fields\":[\"Crime\",\"Drama\",\"Mystery\",\"Thriller\",\"Adventure\",\"Comedy\",\"Fantasy\",\"Biography\",\"History\"]},\"id\":\"10061\",\"type\":\"Stack\"},{\"attributes\":{\"bottom\":{\"expr\":{\"id\":\"10058\"}},\"fill_color\":{\"value\":\"#B6DBEC\"},\"line_color\":{\"value\":\"#B6DBEC\"},\"top\":{\"expr\":{\"id\":\"10059\"}},\"width\":{\"value\":0.3},\"x\":{\"field\":\"years\"}},\"id\":\"10229\",\"type\":\"VBar\"},{\"attributes\":{},\"id\":\"10114\",\"type\":\"UnionRenderers\"},{\"attributes\":{\"fields\":[\"Crime\",\"Drama\",\"Mystery\",\"Thriller\",\"Adventure\",\"Comedy\",\"Fantasy\",\"Biography\",\"History\",\"Documentary\",\"Horror\",\"Sci-Fi\",\"Action\"]},\"id\":\"10070\",\"type\":\"Stack\"},{\"attributes\":{\"bottom\":{\"expr\":{\"id\":\"10046\"}},\"fill_color\":{\"value\":\"#D2C7E4\"},\"line_color\":{\"value\":\"#D2C7E4\"},\"top\":{\"expr\":{\"id\":\"10047\"}},\"width\":{\"value\":0.3},\"x\":{\"field\":\"years\"}},\"id\":\"10103\",\"type\":\"VBar\"},{\"attributes\":{},\"id\":\"10096\",\"type\":\"CategoricalTickFormatter\"},{\"attributes\":{},\"id\":\"10174\",\"type\":\"UnionRenderers\"},{\"attributes\":{\"axis\":{\"id\":\"10034\"},\"grid_line_color\":null,\"ticker\":null},\"id\":\"10036\",\"type\":\"Grid\"},{\"attributes\":{},\"id\":\"10030\",\"type\":\"CategoricalScale\"},{\"attributes\":{},\"id\":\"10798\",\"type\":\"UnionRenderers\"},{\"attributes\":{\"label\":{\"value\":\"Drama\"},\"renderers\":[{\"id\":\"10105\"}]},\"id\":\"10116\",\"type\":\"LegendItem\"},{\"attributes\":{\"fields\":[\"Crime\",\"Drama\",\"Mystery\",\"Thriller\",\"Adventure\",\"Comedy\",\"Fantasy\",\"Biography\",\"History\",\"Documentary\",\"Horror\",\"Sci-Fi\",\"Action\",\"Animation\",\"Romance\",\"Family\",\"War\",\"Sport\",\"News\",\"Talk-Show\"]},\"id\":\"10084\",\"type\":\"Stack\"},{\"attributes\":{\"label\":{\"value\":\"Comedy\"},\"renderers\":[{\"id\":\"10181\"}]},\"id\":\"10200\",\"type\":\"LegendItem\"},{\"attributes\":{\"fields\":[\"Crime\",\"Drama\",\"Mystery\",\"Thriller\",\"Adventure\",\"Comedy\"]},\"id\":\"10055\",\"type\":\"Stack\"},{\"attributes\":{},\"id\":\"10799\",\"type\":\"Selection\"},{\"attributes\":{\"data_source\":{\"id\":\"10351\"},\"glyph\":{\"id\":\"10353\"},\"hover_glyph\":null,\"muted_glyph\":null,\"name\":\"Sci-Fi\",\"nonselection_glyph\":{\"id\":\"10354\"},\"selection_glyph\":null,\"view\":{\"id\":\"10356\"}},\"id\":\"10355\",\"type\":\"GlyphRenderer\"},{\"attributes\":{\"source\":{\"id\":\"10747\"}},\"id\":\"10752\",\"type\":\"CDSView\"},{\"attributes\":{\"bottom\":{\"expr\":{\"id\":\"10044\"}},\"fill_alpha\":{\"value\":0.1},\"fill_color\":{\"value\":\"#BBF425\"},\"line_alpha\":{\"value\":0.1},\"line_color\":{\"value\":\"#BBF425\"},\"top\":{\"expr\":{\"id\":\"10045\"}},\"width\":{\"value\":0.3},\"x\":{\"field\":\"years\"}},\"id\":\"10089\",\"type\":\"VBar\"},{\"attributes\":{\"fields\":[\"Crime\",\"Drama\",\"Mystery\",\"Thriller\",\"Adventure\",\"Comedy\",\"Fantasy\",\"Biography\",\"History\",\"Documentary\",\"Horror\",\"Sci-Fi\",\"Action\",\"Animation\",\"Romance\",\"Family\",\"War\",\"Sport\",\"News\"]},\"id\":\"10081\",\"type\":\"Stack\"},{\"attributes\":{\"data_source\":{\"id\":\"10177\"},\"glyph\":{\"id\":\"10179\"},\"hover_glyph\":null,\"muted_glyph\":null,\"name\":\"Comedy\",\"nonselection_glyph\":{\"id\":\"10180\"},\"selection_glyph\":null,\"view\":{\"id\":\"10182\"}},\"id\":\"10181\",\"type\":\"GlyphRenderer\"},{\"attributes\":{},\"id\":\"10038\",\"type\":\"BasicTicker\"},{\"attributes\":{\"fields\":[\"Crime\",\"Drama\",\"Mystery\",\"Thriller\",\"Adventure\",\"Comedy\",\"Fantasy\",\"Biography\",\"History\",\"Documentary\",\"Horror\",\"Sci-Fi\",\"Action\",\"Animation\",\"Romance\",\"Family\"]},\"id\":\"10075\",\"type\":\"Stack\"},{\"attributes\":{\"formatter\":{\"id\":\"10096\"},\"minor_tick_line_color\":null,\"ticker\":{\"id\":\"10035\"}},\"id\":\"10034\",\"type\":\"CategoricalAxis\"},{\"attributes\":{\"fields\":[\"Crime\",\"Drama\",\"Mystery\",\"Thriller\",\"Adventure\",\"Comedy\",\"Fantasy\",\"Biography\",\"History\",\"Documentary\",\"Horror\",\"Sci-Fi\",\"Action\",\"Animation\"]},\"id\":\"10071\",\"type\":\"Stack\"},{\"attributes\":{\"fields\":[\"Crime\"]},\"id\":\"10045\",\"type\":\"Stack\"},{\"attributes\":{\"fields\":[\"Crime\",\"Drama\",\"Mystery\",\"Thriller\",\"Adventure\",\"Comedy\",\"Fantasy\"]},\"id\":\"10057\",\"type\":\"Stack\"},{\"attributes\":{},\"id\":\"10384\",\"type\":\"UnionRenderers\"},{\"attributes\":{\"active_drag\":\"auto\",\"active_inspect\":\"auto\",\"active_multi\":null,\"active_scroll\":\"auto\",\"active_tap\":\"auto\",\"tools\":[{\"id\":\"10041\"}]},\"id\":\"10042\",\"type\":\"Toolbar\"},{\"attributes\":{\"source\":{\"id\":\"10155\"}},\"id\":\"10160\",\"type\":\"CDSView\"},{\"attributes\":{\"source\":{\"id\":\"10227\"}},\"id\":\"10232\",\"type\":\"CDSView\"},{\"attributes\":{\"fields\":[\"Crime\",\"Drama\",\"Mystery\",\"Thriller\",\"Adventure\"]},\"id\":\"10053\",\"type\":\"Stack\"},{\"attributes\":{\"data_source\":{\"id\":\"10227\"},\"glyph\":{\"id\":\"10229\"},\"hover_glyph\":null,\"muted_glyph\":null,\"name\":\"Biography\",\"nonselection_glyph\":{\"id\":\"10230\"},\"selection_glyph\":null,\"view\":{\"id\":\"10232\"}},\"id\":\"10231\",\"type\":\"GlyphRenderer\"},{\"attributes\":{\"data\":{\"Action\":[0,4,7,11,9,9,5,1],\"Adventure\":[0,3,5,6,6,7,5,2],\"Animation\":[0,0,1,0,0,1,2,1],\"Biography\":[0,2,8,7,2,3,6,1],\"Comedy\":[0,6,9,5,2,3,24,3],\"Crime\":[0,4,9,16,12,14,42,11],\"Documentary\":[0,0,2,2,7,2,9,2],\"Drama\":[0,11,27,30,19,20,61,16],\"Family\":[0,0,0,0,1,0,1,0],\"Fantasy\":[0,0,4,2,2,0,1,2],\"History\":[0,1,3,4,2,3,5,2],\"Horror\":[0,0,3,4,2,2,5,4],\"Music\":[0,1,1,0,0,0,0,0],\"Mystery\":[0,1,8,7,8,7,15,8],\"News\":[0,0,0,1,0,0,0,0],\"Romance\":[0,5,2,4,0,1,6,0],\"Sci-Fi\":[0,2,2,6,6,7,2,1],\"Sport\":[0,0,0,0,2,0,3,0],\"Talk-Show\":[0,0,1,1,0,0,0,0],\"Thriller\":[0,6,3,13,13,9,24,9],\"War\":[0,0,3,1,0,0,3,0],\"years\":[\"2014\",\"2015\",\"2016\",\"2017\",\"2018\",\"2019\",\"2020\",\"2021\"]},\"selected\":{\"id\":\"10253\"},\"selection_policy\":{\"id\":\"10252\"}},\"id\":\"10227\",\"type\":\"ColumnDataSource\"},{\"attributes\":{},\"id\":\"10462\",\"type\":\"UnionRenderers\"},{\"attributes\":{\"fields\":[\"Crime\",\"Drama\"]},\"id\":\"10047\",\"type\":\"Stack\"},{\"attributes\":{\"fields\":[\"Crime\",\"Drama\",\"Mystery\",\"Thriller\",\"Adventure\",\"Comedy\",\"Fantasy\",\"Biography\",\"History\",\"Documentary\",\"Horror\",\"Sci-Fi\",\"Action\",\"Animation\",\"Romance\",\"Family\",\"War\",\"Sport\"]},\"id\":\"10079\",\"type\":\"Stack\"},{\"attributes\":{},\"id\":\"10744\",\"type\":\"UnionRenderers\"},{\"attributes\":{\"data_source\":{\"id\":\"10155\"},\"glyph\":{\"id\":\"10157\"},\"hover_glyph\":null,\"muted_glyph\":null,\"name\":\"Adventure\",\"nonselection_glyph\":{\"id\":\"10158\"},\"selection_glyph\":null,\"view\":{\"id\":\"10160\"}},\"id\":\"10159\",\"type\":\"GlyphRenderer\"},{\"attributes\":{\"bottom\":{\"expr\":{\"id\":\"10046\"}},\"fill_alpha\":{\"value\":0.1},\"fill_color\":{\"value\":\"#D2C7E4\"},\"line_alpha\":{\"value\":0.1},\"line_color\":{\"value\":\"#D2C7E4\"},\"top\":{\"expr\":{\"id\":\"10047\"}},\"width\":{\"value\":0.3},\"x\":{\"field\":\"years\"}},\"id\":\"10104\",\"type\":\"VBar\"},{\"attributes\":{\"source\":{\"id\":\"10117\"}},\"id\":\"10122\",\"type\":\"CDSView\"},{\"attributes\":{\"data\":{\"Action\":[0,4,7,11,9,9,5,1],\"Adventure\":[0,3,5,6,6,7,5,2],\"Animation\":[0,0,1,0,0,1,2,1],\"Biography\":[0,2,8,7,2,3,6,1],\"Comedy\":[0,6,9,5,2,3,24,3],\"Crime\":[0,4,9,16,12,14,42,11],\"Documentary\":[0,0,2,2,7,2,9,2],\"Drama\":[0,11,27,30,19,20,61,16],\"Family\":[0,0,0,0,1,0,1,0],\"Fantasy\":[0,0,4,2,2,0,1,2],\"History\":[0,1,3,4,2,3,5,2],\"Horror\":[0,0,3,4,2,2,5,4],\"Music\":[0,1,1,0,0,0,0,0],\"Mystery\":[0,1,8,7,8,7,15,8],\"News\":[0,0,0,1,0,0,0,0],\"Romance\":[0,5,2,4,0,1,6,0],\"Sci-Fi\":[0,2,2,6,6,7,2,1],\"Sport\":[0,0,0,0,2,0,3,0],\"Talk-Show\":[0,0,1,1,0,0,0,0],\"Thriller\":[0,6,3,13,13,9,24,9],\"War\":[0,0,3,1,0,0,3,0],\"years\":[\"2014\",\"2015\",\"2016\",\"2017\",\"2018\",\"2019\",\"2020\",\"2021\"]},\"selected\":{\"id\":\"10423\"},\"selection_policy\":{\"id\":\"10422\"}},\"id\":\"10387\",\"type\":\"ColumnDataSource\"},{\"attributes\":{\"fields\":[\"Crime\",\"Drama\",\"Mystery\",\"Thriller\"]},\"id\":\"10052\",\"type\":\"Stack\"},{\"attributes\":{\"fields\":[\"Crime\",\"Drama\",\"Mystery\",\"Thriller\",\"Adventure\",\"Comedy\",\"Fantasy\",\"Biography\",\"History\",\"Documentary\",\"Horror\",\"Sci-Fi\",\"Action\",\"Animation\",\"Romance\",\"Family\",\"War\"]},\"id\":\"10077\",\"type\":\"Stack\"},{\"attributes\":{\"data\":{\"Action\":[0,4,7,11,9,9,5,1],\"Adventure\":[0,3,5,6,6,7,5,2],\"Animation\":[0,0,1,0,0,1,2,1],\"Biography\":[0,2,8,7,2,3,6,1],\"Comedy\":[0,6,9,5,2,3,24,3],\"Crime\":[0,4,9,16,12,14,42,11],\"Documentary\":[0,0,2,2,7,2,9,2],\"Drama\":[0,11,27,30,19,20,61,16],\"Family\":[0,0,0,0,1,0,1,0],\"Fantasy\":[0,0,4,2,2,0,1,2],\"History\":[0,1,3,4,2,3,5,2],\"Horror\":[0,0,3,4,2,2,5,4],\"Music\":[0,1,1,0,0,0,0,0],\"Mystery\":[0,1,8,7,8,7,15,8],\"News\":[0,0,0,1,0,0,0,0],\"Romance\":[0,5,2,4,0,1,6,0],\"Sci-Fi\":[0,2,2,6,6,7,2,1],\"Sport\":[0,0,0,0,2,0,3,0],\"Talk-Show\":[0,0,1,1,0,0,0,0],\"Thriller\":[0,6,3,13,13,9,24,9],\"War\":[0,0,3,1,0,0,3,0],\"years\":[\"2014\",\"2015\",\"2016\",\"2017\",\"2018\",\"2019\",\"2020\",\"2021\"]},\"selected\":{\"id\":\"10225\"},\"selection_policy\":{\"id\":\"10224\"}},\"id\":\"10201\",\"type\":\"ColumnDataSource\"},{\"attributes\":{\"factors\":[\"2014\",\"2015\",\"2016\",\"2017\",\"2018\",\"2019\",\"2020\",\"2021\"],\"range_padding\":0.15},\"id\":\"10026\",\"type\":\"FactorRange\"},{\"attributes\":{},\"id\":\"10199\",\"type\":\"Selection\"},{\"attributes\":{\"fields\":[\"Crime\",\"Drama\",\"Mystery\",\"Thriller\",\"Adventure\",\"Comedy\",\"Fantasy\",\"Biography\",\"History\",\"Documentary\",\"Horror\",\"Sci-Fi\"]},\"id\":\"10068\",\"type\":\"Stack\"},{\"attributes\":{\"data_source\":{\"id\":\"10747\"},\"glyph\":{\"id\":\"10749\"},\"hover_glyph\":null,\"muted_glyph\":null,\"name\":\"Music\",\"nonselection_glyph\":{\"id\":\"10750\"},\"selection_glyph\":null,\"view\":{\"id\":\"10752\"}},\"id\":\"10751\",\"type\":\"GlyphRenderer\"},{\"attributes\":{\"label\":{\"value\":\"Mystery\"},\"renderers\":[{\"id\":\"10121\"}]},\"id\":\"10134\",\"type\":\"LegendItem\"},{\"attributes\":{\"data_source\":{\"id\":\"10597\"},\"glyph\":{\"id\":\"10599\"},\"hover_glyph\":null,\"muted_glyph\":null,\"name\":\"Sport\",\"nonselection_glyph\":{\"id\":\"10600\"},\"selection_glyph\":null,\"view\":{\"id\":\"10602\"}},\"id\":\"10601\",\"type\":\"GlyphRenderer\"},{\"attributes\":{\"bottom\":{\"expr\":{\"id\":\"10060\"}},\"fill_alpha\":{\"value\":0.1},\"fill_color\":{\"value\":\"#1112FB\"},\"line_alpha\":{\"value\":0.1},\"line_color\":{\"value\":\"#1112FB\"},\"top\":{\"expr\":{\"id\":\"10061\"}},\"width\":{\"value\":0.3},\"x\":{\"field\":\"years\"}},\"id\":\"10258\",\"type\":\"VBar\"},{\"attributes\":{},\"id\":\"10643\",\"type\":\"Selection\"},{\"attributes\":{\"label\":{\"value\":\"News\"},\"renderers\":[{\"id\":\"10649\"}]},\"id\":\"10694\",\"type\":\"LegendItem\"},{\"attributes\":{\"label\":{\"value\":\"Action\"},\"renderers\":[{\"id\":\"10391\"}]},\"id\":\"10424\",\"type\":\"LegendItem\"},{\"attributes\":{},\"id\":\"10282\",\"type\":\"UnionRenderers\"},{\"attributes\":{},\"id\":\"10315\",\"type\":\"Selection\"},{\"attributes\":{\"fields\":[\"Crime\",\"Drama\",\"Mystery\"]},\"id\":\"10050\",\"type\":\"Stack\"},{\"attributes\":{},\"id\":\"10097\",\"type\":\"UnionRenderers\"},{\"attributes\":{\"data_source\":{\"id\":\"10507\"},\"glyph\":{\"id\":\"10509\"},\"hover_glyph\":null,\"muted_glyph\":null,\"name\":\"Family\",\"nonselection_glyph\":{\"id\":\"10510\"},\"selection_glyph\":null,\"view\":{\"id\":\"10512\"}},\"id\":\"10511\",\"type\":\"GlyphRenderer\"},{\"attributes\":{\"bottom\":{\"expr\":{\"id\":\"10076\"}},\"fill_alpha\":{\"value\":0.1},\"fill_color\":{\"value\":\"#812EDD\"},\"line_alpha\":{\"value\":0.1},\"line_color\":{\"value\":\"#812EDD\"},\"top\":{\"expr\":{\"id\":\"10077\"}},\"width\":{\"value\":0.3},\"x\":{\"field\":\"years\"}},\"id\":\"10554\",\"type\":\"VBar\"},{\"attributes\":{\"data_source\":{\"id\":\"10285\"},\"glyph\":{\"id\":\"10287\"},\"hover_glyph\":null,\"muted_glyph\":null,\"name\":\"Documentary\",\"nonselection_glyph\":{\"id\":\"10288\"},\"selection_glyph\":null,\"view\":{\"id\":\"10290\"}},\"id\":\"10289\",\"type\":\"GlyphRenderer\"},{\"attributes\":{\"label\":{\"value\":\"Sport\"},\"renderers\":[{\"id\":\"10601\"}]},\"id\":\"10644\",\"type\":\"LegendItem\"},{\"attributes\":{},\"id\":\"10422\",\"type\":\"UnionRenderers\"},{\"attributes\":{\"bottom\":{\"expr\":{\"id\":\"10074\"}},\"fill_color\":{\"value\":\"#821982\"},\"line_color\":{\"value\":\"#821982\"},\"top\":{\"expr\":{\"id\":\"10075\"}},\"width\":{\"value\":0.3},\"x\":{\"field\":\"years\"}},\"id\":\"10509\",\"type\":\"VBar\"},{\"attributes\":{\"bottom\":{\"expr\":{\"id\":\"10064\"}},\"fill_alpha\":{\"value\":0.1},\"fill_color\":{\"value\":\"#CD5A1E\"},\"line_alpha\":{\"value\":0.1},\"line_color\":{\"value\":\"#CD5A1E\"},\"top\":{\"expr\":{\"id\":\"10065\"}},\"width\":{\"value\":0.3},\"x\":{\"field\":\"years\"}},\"id\":\"10320\",\"type\":\"VBar\"},{\"attributes\":{\"data\":{\"Action\":[0,4,7,11,9,9,5,1],\"Adventure\":[0,3,5,6,6,7,5,2],\"Animation\":[0,0,1,0,0,1,2,1],\"Biography\":[0,2,8,7,2,3,6,1],\"Comedy\":[0,6,9,5,2,3,24,3],\"Crime\":[0,4,9,16,12,14,42,11],\"Documentary\":[0,0,2,2,7,2,9,2],\"Drama\":[0,11,27,30,19,20,61,16],\"Family\":[0,0,0,0,1,0,1,0],\"Fantasy\":[0,0,4,2,2,0,1,2],\"History\":[0,1,3,4,2,3,5,2],\"Horror\":[0,0,3,4,2,2,5,4],\"Music\":[0,1,1,0,0,0,0,0],\"Mystery\":[0,1,8,7,8,7,15,8],\"News\":[0,0,0,1,0,0,0,0],\"Romance\":[0,5,2,4,0,1,6,0],\"Sci-Fi\":[0,2,2,6,6,7,2,1],\"Sport\":[0,0,0,0,2,0,3,0],\"Talk-Show\":[0,0,1,1,0,0,0,0],\"Thriller\":[0,6,3,13,13,9,24,9],\"War\":[0,0,3,1,0,0,3,0],\"years\":[\"2014\",\"2015\",\"2016\",\"2017\",\"2018\",\"2019\",\"2020\",\"2021\"]},\"selected\":{\"id\":\"10693\"},\"selection_policy\":{\"id\":\"10692\"}},\"id\":\"10645\",\"type\":\"ColumnDataSource\"},{\"attributes\":{\"bottom\":{\"expr\":{\"id\":\"10082\"}},\"fill_color\":{\"value\":\"#765F76\"},\"line_color\":{\"value\":\"#765F76\"},\"top\":{\"expr\":{\"id\":\"10083\"}},\"width\":{\"value\":0.3},\"x\":{\"field\":\"years\"}},\"id\":\"10697\",\"type\":\"VBar\"},{\"attributes\":{\"bottom\":{\"expr\":{\"id\":\"10062\"}},\"fill_color\":{\"value\":\"#C68A08\"},\"line_color\":{\"value\":\"#C68A08\"},\"top\":{\"expr\":{\"id\":\"10063\"}},\"width\":{\"value\":0.3},\"x\":{\"field\":\"years\"}},\"id\":\"10287\",\"type\":\"VBar\"},{\"attributes\":{\"source\":{\"id\":\"10387\"}},\"id\":\"10392\",\"type\":\"CDSView\"},{\"attributes\":{\"label\":{\"value\":\"Family\"},\"renderers\":[{\"id\":\"10511\"}]},\"id\":\"10550\",\"type\":\"LegendItem\"},{\"attributes\":{\"data\":{\"Action\":[0,4,7,11,9,9,5,1],\"Adventure\":[0,3,5,6,6,7,5,2],\"Animation\":[0,0,1,0,0,1,2,1],\"Biography\":[0,2,8,7,2,3,6,1],\"Comedy\":[0,6,9,5,2,3,24,3],\"Crime\":[0,4,9,16,12,14,42,11],\"Documentary\":[0,0,2,2,7,2,9,2],\"Drama\":[0,11,27,30,19,20,61,16],\"Family\":[0,0,0,0,1,0,1,0],\"Fantasy\":[0,0,4,2,2,0,1,2],\"History\":[0,1,3,4,2,3,5,2],\"Horror\":[0,0,3,4,2,2,5,4],\"Music\":[0,1,1,0,0,0,0,0],\"Mystery\":[0,1,8,7,8,7,15,8],\"News\":[0,0,0,1,0,0,0,0],\"Romance\":[0,5,2,4,0,1,6,0],\"Sci-Fi\":[0,2,2,6,6,7,2,1],\"Sport\":[0,0,0,0,2,0,3,0],\"Talk-Show\":[0,0,1,1,0,0,0,0],\"Thriller\":[0,6,3,13,13,9,24,9],\"War\":[0,0,3,1,0,0,3,0],\"years\":[\"2014\",\"2015\",\"2016\",\"2017\",\"2018\",\"2019\",\"2020\",\"2021\"]},\"selected\":{\"id\":\"10505\"},\"selection_policy\":{\"id\":\"10504\"}},\"id\":\"10465\",\"type\":\"ColumnDataSource\"},{\"attributes\":{},\"id\":\"10505\",\"type\":\"Selection\"},{\"attributes\":{\"data_source\":{\"id\":\"10425\"},\"glyph\":{\"id\":\"10427\"},\"hover_glyph\":null,\"muted_glyph\":null,\"name\":\"Animation\",\"nonselection_glyph\":{\"id\":\"10428\"},\"selection_glyph\":null,\"view\":{\"id\":\"10430\"}},\"id\":\"10429\",\"type\":\"GlyphRenderer\"},{\"attributes\":{\"source\":{\"id\":\"10597\"}},\"id\":\"10602\",\"type\":\"CDSView\"},{\"attributes\":{\"data_source\":{\"id\":\"10255\"},\"glyph\":{\"id\":\"10257\"},\"hover_glyph\":null,\"muted_glyph\":null,\"name\":\"History\",\"nonselection_glyph\":{\"id\":\"10258\"},\"selection_glyph\":null,\"view\":{\"id\":\"10260\"}},\"id\":\"10259\",\"type\":\"GlyphRenderer\"},{\"attributes\":{\"source\":{\"id\":\"10425\"}},\"id\":\"10430\",\"type\":\"CDSView\"},{\"attributes\":{\"data\":{\"Action\":[0,4,7,11,9,9,5,1],\"Adventure\":[0,3,5,6,6,7,5,2],\"Animation\":[0,0,1,0,0,1,2,1],\"Biography\":[0,2,8,7,2,3,6,1],\"Comedy\":[0,6,9,5,2,3,24,3],\"Crime\":[0,4,9,16,12,14,42,11],\"Documentary\":[0,0,2,2,7,2,9,2],\"Drama\":[0,11,27,30,19,20,61,16],\"Family\":[0,0,0,0,1,0,1,0],\"Fantasy\":[0,0,4,2,2,0,1,2],\"History\":[0,1,3,4,2,3,5,2],\"Horror\":[0,0,3,4,2,2,5,4],\"Music\":[0,1,1,0,0,0,0,0],\"Mystery\":[0,1,8,7,8,7,15,8],\"News\":[0,0,0,1,0,0,0,0],\"Romance\":[0,5,2,4,0,1,6,0],\"Sci-Fi\":[0,2,2,6,6,7,2,1],\"Sport\":[0,0,0,0,2,0,3,0],\"Talk-Show\":[0,0,1,1,0,0,0,0],\"Thriller\":[0,6,3,13,13,9,24,9],\"War\":[0,0,3,1,0,0,3,0],\"years\":[\"2014\",\"2015\",\"2016\",\"2017\",\"2018\",\"2019\",\"2020\",\"2021\"]},\"selected\":{\"id\":\"10643\"},\"selection_policy\":{\"id\":\"10642\"}},\"id\":\"10597\",\"type\":\"ColumnDataSource\"},{\"attributes\":{\"data_source\":{\"id\":\"10551\"},\"glyph\":{\"id\":\"10553\"},\"hover_glyph\":null,\"muted_glyph\":null,\"name\":\"War\",\"nonselection_glyph\":{\"id\":\"10554\"},\"selection_glyph\":null,\"view\":{\"id\":\"10556\"}},\"id\":\"10555\",\"type\":\"GlyphRenderer\"},{\"attributes\":{\"fields\":[\"Crime\",\"Drama\",\"Mystery\"]},\"id\":\"10049\",\"type\":\"Stack\"},{\"attributes\":{\"fields\":[\"Crime\",\"Drama\",\"Mystery\",\"Thriller\"]},\"id\":\"10051\",\"type\":\"Stack\"},{\"attributes\":{\"data\":{\"Action\":[0,4,7,11,9,9,5,1],\"Adventure\":[0,3,5,6,6,7,5,2],\"Animation\":[0,0,1,0,0,1,2,1],\"Biography\":[0,2,8,7,2,3,6,1],\"Comedy\":[0,6,9,5,2,3,24,3],\"Crime\":[0,4,9,16,12,14,42,11],\"Documentary\":[0,0,2,2,7,2,9,2],\"Drama\":[0,11,27,30,19,20,61,16],\"Family\":[0,0,0,0,1,0,1,0],\"Fantasy\":[0,0,4,2,2,0,1,2],\"History\":[0,1,3,4,2,3,5,2],\"Horror\":[0,0,3,4,2,2,5,4],\"Music\":[0,1,1,0,0,0,0,0],\"Mystery\":[0,1,8,7,8,7,15,8],\"News\":[0,0,0,1,0,0,0,0],\"Romance\":[0,5,2,4,0,1,6,0],\"Sci-Fi\":[0,2,2,6,6,7,2,1],\"Sport\":[0,0,0,0,2,0,3,0],\"Talk-Show\":[0,0,1,1,0,0,0,0],\"Thriller\":[0,6,3,13,13,9,24,9],\"War\":[0,0,3,1,0,0,3,0],\"years\":[\"2014\",\"2015\",\"2016\",\"2017\",\"2018\",\"2019\",\"2020\",\"2021\"]},\"selected\":{\"id\":\"10349\"},\"selection_policy\":{\"id\":\"10348\"}},\"id\":\"10317\",\"type\":\"ColumnDataSource\"},{\"attributes\":{\"bottom\":{\"expr\":{\"id\":\"10070\"}},\"fill_alpha\":{\"value\":0.1},\"fill_color\":{\"value\":\"#C74BD4\"},\"line_alpha\":{\"value\":0.1},\"line_color\":{\"value\":\"#C74BD4\"},\"top\":{\"expr\":{\"id\":\"10071\"}},\"width\":{\"value\":0.3},\"x\":{\"field\":\"years\"}},\"id\":\"10428\",\"type\":\"VBar\"},{\"attributes\":{},\"id\":\"10692\",\"type\":\"UnionRenderers\"},{\"attributes\":{},\"id\":\"10283\",\"type\":\"Selection\"},{\"attributes\":{\"data_source\":{\"id\":\"10317\"},\"glyph\":{\"id\":\"10319\"},\"hover_glyph\":null,\"muted_glyph\":null,\"name\":\"Horror\",\"nonselection_glyph\":{\"id\":\"10320\"},\"selection_glyph\":null,\"view\":{\"id\":\"10322\"}},\"id\":\"10321\",\"type\":\"GlyphRenderer\"},{\"attributes\":{\"bottom\":{\"expr\":{\"id\":\"10068\"}},\"fill_alpha\":{\"value\":0.1},\"fill_color\":{\"value\":\"#8DAE6B\"},\"line_alpha\":{\"value\":0.1},\"line_color\":{\"value\":\"#8DAE6B\"},\"top\":{\"expr\":{\"id\":\"10069\"}},\"width\":{\"value\":0.3},\"x\":{\"field\":\"years\"}},\"id\":\"10390\",\"type\":\"VBar\"},{\"attributes\":{},\"id\":\"10693\",\"type\":\"Selection\"},{\"attributes\":{},\"id\":\"10548\",\"type\":\"UnionRenderers\"},{\"attributes\":{\"bottom\":{\"expr\":{\"id\":\"10078\"}},\"fill_alpha\":{\"value\":0.1},\"fill_color\":{\"value\":\"#AB4DE5\"},\"line_alpha\":{\"value\":0.1},\"line_color\":{\"value\":\"#AB4DE5\"},\"top\":{\"expr\":{\"id\":\"10079\"}},\"width\":{\"value\":0.3},\"x\":{\"field\":\"years\"}},\"id\":\"10600\",\"type\":\"VBar\"},{\"attributes\":{\"label\":{\"value\":\"War\"},\"renderers\":[{\"id\":\"10555\"}]},\"id\":\"10596\",\"type\":\"LegendItem\"},{\"attributes\":{\"source\":{\"id\":\"10255\"}},\"id\":\"10260\",\"type\":\"CDSView\"},{\"attributes\":{\"label\":{\"value\":\"Animation\"},\"renderers\":[{\"id\":\"10429\"}]},\"id\":\"10464\",\"type\":\"LegendItem\"},{\"attributes\":{\"data\":{\"Action\":[0,4,7,11,9,9,5,1],\"Adventure\":[0,3,5,6,6,7,5,2],\"Animation\":[0,0,1,0,0,1,2,1],\"Biography\":[0,2,8,7,2,3,6,1],\"Comedy\":[0,6,9,5,2,3,24,3],\"Crime\":[0,4,9,16,12,14,42,11],\"Documentary\":[0,0,2,2,7,2,9,2],\"Drama\":[0,11,27,30,19,20,61,16],\"Family\":[0,0,0,0,1,0,1,0],\"Fantasy\":[0,0,4,2,2,0,1,2],\"History\":[0,1,3,4,2,3,5,2],\"Horror\":[0,0,3,4,2,2,5,4],\"Music\":[0,1,1,0,0,0,0,0],\"Mystery\":[0,1,8,7,8,7,15,8],\"News\":[0,0,0,1,0,0,0,0],\"Romance\":[0,5,2,4,0,1,6,0],\"Sci-Fi\":[0,2,2,6,6,7,2,1],\"Sport\":[0,0,0,0,2,0,3,0],\"Talk-Show\":[0,0,1,1,0,0,0,0],\"Thriller\":[0,6,3,13,13,9,24,9],\"War\":[0,0,3,1,0,0,3,0],\"years\":[\"2014\",\"2015\",\"2016\",\"2017\",\"2018\",\"2019\",\"2020\",\"2021\"]},\"selected\":{\"id\":\"10315\"},\"selection_policy\":{\"id\":\"10314\"}},\"id\":\"10285\",\"type\":\"ColumnDataSource\"},{\"attributes\":{\"source\":{\"id\":\"10645\"}},\"id\":\"10650\",\"type\":\"CDSView\"},{\"attributes\":{\"bottom\":{\"expr\":{\"id\":\"10082\"}},\"fill_alpha\":{\"value\":0.1},\"fill_color\":{\"value\":\"#765F76\"},\"line_alpha\":{\"value\":0.1},\"line_color\":{\"value\":\"#765F76\"},\"top\":{\"expr\":{\"id\":\"10083\"}},\"width\":{\"value\":0.3},\"x\":{\"field\":\"years\"}},\"id\":\"10698\",\"type\":\"VBar\"},{\"attributes\":{\"source\":{\"id\":\"10695\"}},\"id\":\"10700\",\"type\":\"CDSView\"},{\"attributes\":{\"bottom\":{\"expr\":{\"id\":\"10062\"}},\"fill_alpha\":{\"value\":0.1},\"fill_color\":{\"value\":\"#C68A08\"},\"line_alpha\":{\"value\":0.1},\"line_color\":{\"value\":\"#C68A08\"},\"top\":{\"expr\":{\"id\":\"10063\"}},\"width\":{\"value\":0.3},\"x\":{\"field\":\"years\"}},\"id\":\"10288\",\"type\":\"VBar\"},{\"attributes\":{\"label\":{\"value\":\"History\"},\"renderers\":[{\"id\":\"10259\"}]},\"id\":\"10284\",\"type\":\"LegendItem\"},{\"attributes\":{\"source\":{\"id\":\"10551\"}},\"id\":\"10556\",\"type\":\"CDSView\"},{\"attributes\":{\"fields\":[\"Crime\",\"Drama\",\"Mystery\",\"Thriller\",\"Adventure\",\"Comedy\",\"Fantasy\",\"Biography\"]},\"id\":\"10059\",\"type\":\"Stack\"},{\"attributes\":{\"data_source\":{\"id\":\"10645\"},\"glyph\":{\"id\":\"10647\"},\"hover_glyph\":null,\"muted_glyph\":null,\"name\":\"News\",\"nonselection_glyph\":{\"id\":\"10648\"},\"selection_glyph\":null,\"view\":{\"id\":\"10650\"}},\"id\":\"10649\",\"type\":\"GlyphRenderer\"},{\"attributes\":{},\"id\":\"10504\",\"type\":\"UnionRenderers\"},{\"attributes\":{\"label\":{\"value\":\"Documentary\"},\"renderers\":[{\"id\":\"10289\"}]},\"id\":\"10316\",\"type\":\"LegendItem\"},{\"attributes\":{\"bottom\":{\"expr\":{\"id\":\"10068\"}},\"fill_color\":{\"value\":\"#8DAE6B\"},\"line_color\":{\"value\":\"#8DAE6B\"},\"top\":{\"expr\":{\"id\":\"10069\"}},\"width\":{\"value\":0.3},\"x\":{\"field\":\"years\"}},\"id\":\"10389\",\"type\":\"VBar\"},{\"attributes\":{\"data_source\":{\"id\":\"10695\"},\"glyph\":{\"id\":\"10697\"},\"hover_glyph\":null,\"muted_glyph\":null,\"name\":\"Talk-Show\",\"nonselection_glyph\":{\"id\":\"10698\"},\"selection_glyph\":null,\"view\":{\"id\":\"10700\"}},\"id\":\"10699\",\"type\":\"GlyphRenderer\"},{\"attributes\":{\"label\":{\"value\":\"Talk-Show\"},\"renderers\":[{\"id\":\"10699\"}]},\"id\":\"10746\",\"type\":\"LegendItem\"},{\"attributes\":{},\"id\":\"10595\",\"type\":\"Selection\"},{\"attributes\":{\"source\":{\"id\":\"10507\"}},\"id\":\"10512\",\"type\":\"CDSView\"},{\"attributes\":{\"label\":{\"value\":\"Crime\"},\"renderers\":[{\"id\":\"10090\"}]},\"id\":\"10100\",\"type\":\"LegendItem\"},{\"attributes\":{\"bottom\":{\"expr\":{\"id\":\"10078\"}},\"fill_color\":{\"value\":\"#AB4DE5\"},\"line_color\":{\"value\":\"#AB4DE5\"},\"top\":{\"expr\":{\"id\":\"10079\"}},\"width\":{\"value\":0.3},\"x\":{\"field\":\"years\"}},\"id\":\"10599\",\"type\":\"VBar\"},{\"attributes\":{\"bottom\":{\"expr\":{\"id\":\"10076\"}},\"fill_color\":{\"value\":\"#812EDD\"},\"line_color\":{\"value\":\"#812EDD\"},\"top\":{\"expr\":{\"id\":\"10077\"}},\"width\":{\"value\":0.3},\"x\":{\"field\":\"years\"}},\"id\":\"10553\",\"type\":\"VBar\"},{\"attributes\":{\"source\":{\"id\":\"10285\"}},\"id\":\"10290\",\"type\":\"CDSView\"},{\"attributes\":{},\"id\":\"10314\",\"type\":\"UnionRenderers\"},{\"attributes\":{\"data_source\":{\"id\":\"10387\"},\"glyph\":{\"id\":\"10389\"},\"hover_glyph\":null,\"muted_glyph\":null,\"name\":\"Action\",\"nonselection_glyph\":{\"id\":\"10390\"},\"selection_glyph\":null,\"view\":{\"id\":\"10392\"}},\"id\":\"10391\",\"type\":\"GlyphRenderer\"},{\"attributes\":{},\"id\":\"10642\",\"type\":\"UnionRenderers\"},{\"attributes\":{},\"id\":\"10549\",\"type\":\"Selection\"},{\"attributes\":{\"source\":{\"id\":\"10317\"}},\"id\":\"10322\",\"type\":\"CDSView\"},{\"attributes\":{},\"id\":\"10098\",\"type\":\"Selection\"},{\"attributes\":{},\"id\":\"10423\",\"type\":\"Selection\"},{\"attributes\":{\"data\":{\"Action\":[0,4,7,11,9,9,5,1],\"Adventure\":[0,3,5,6,6,7,5,2],\"Animation\":[0,0,1,0,0,1,2,1],\"Biography\":[0,2,8,7,2,3,6,1],\"Comedy\":[0,6,9,5,2,3,24,3],\"Crime\":[0,4,9,16,12,14,42,11],\"Documentary\":[0,0,2,2,7,2,9,2],\"Drama\":[0,11,27,30,19,20,61,16],\"Family\":[0,0,0,0,1,0,1,0],\"Fantasy\":[0,0,4,2,2,0,1,2],\"History\":[0,1,3,4,2,3,5,2],\"Horror\":[0,0,3,4,2,2,5,4],\"Music\":[0,1,1,0,0,0,0,0],\"Mystery\":[0,1,8,7,8,7,15,8],\"News\":[0,0,0,1,0,0,0,0],\"Romance\":[0,5,2,4,0,1,6,0],\"Sci-Fi\":[0,2,2,6,6,7,2,1],\"Sport\":[0,0,0,0,2,0,3,0],\"Talk-Show\":[0,0,1,1,0,0,0,0],\"Thriller\":[0,6,3,13,13,9,24,9],\"War\":[0,0,3,1,0,0,3,0],\"years\":[\"2014\",\"2015\",\"2016\",\"2017\",\"2018\",\"2019\",\"2020\",\"2021\"]},\"selected\":{\"id\":\"10745\"},\"selection_policy\":{\"id\":\"10744\"}},\"id\":\"10695\",\"type\":\"ColumnDataSource\"},{\"attributes\":{\"bottom\":{\"expr\":{\"id\":\"10064\"}},\"fill_color\":{\"value\":\"#CD5A1E\"},\"line_color\":{\"value\":\"#CD5A1E\"},\"top\":{\"expr\":{\"id\":\"10065\"}},\"width\":{\"value\":0.3},\"x\":{\"field\":\"years\"}},\"id\":\"10319\",\"type\":\"VBar\"},{\"attributes\":{\"data\":{\"Action\":[0,4,7,11,9,9,5,1],\"Adventure\":[0,3,5,6,6,7,5,2],\"Animation\":[0,0,1,0,0,1,2,1],\"Biography\":[0,2,8,7,2,3,6,1],\"Comedy\":[0,6,9,5,2,3,24,3],\"Crime\":[0,4,9,16,12,14,42,11],\"Documentary\":[0,0,2,2,7,2,9,2],\"Drama\":[0,11,27,30,19,20,61,16],\"Family\":[0,0,0,0,1,0,1,0],\"Fantasy\":[0,0,4,2,2,0,1,2],\"History\":[0,1,3,4,2,3,5,2],\"Horror\":[0,0,3,4,2,2,5,4],\"Music\":[0,1,1,0,0,0,0,0],\"Mystery\":[0,1,8,7,8,7,15,8],\"News\":[0,0,0,1,0,0,0,0],\"Romance\":[0,5,2,4,0,1,6,0],\"Sci-Fi\":[0,2,2,6,6,7,2,1],\"Sport\":[0,0,0,0,2,0,3,0],\"Talk-Show\":[0,0,1,1,0,0,0,0],\"Thriller\":[0,6,3,13,13,9,24,9],\"War\":[0,0,3,1,0,0,3,0],\"years\":[\"2014\",\"2015\",\"2016\",\"2017\",\"2018\",\"2019\",\"2020\",\"2021\"]},\"selected\":{\"id\":\"10595\"},\"selection_policy\":{\"id\":\"10594\"}},\"id\":\"10551\",\"type\":\"ColumnDataSource\"},{\"attributes\":{\"bottom\":{\"expr\":{\"id\":\"10080\"}},\"fill_alpha\":{\"value\":0.1},\"fill_color\":{\"value\":\"#E97AD7\"},\"line_alpha\":{\"value\":0.1},\"line_color\":{\"value\":\"#E97AD7\"},\"top\":{\"expr\":{\"id\":\"10081\"}},\"width\":{\"value\":0.3},\"x\":{\"field\":\"years\"}},\"id\":\"10648\",\"type\":\"VBar\"},{\"attributes\":{\"bottom\":{\"expr\":{\"id\":\"10070\"}},\"fill_color\":{\"value\":\"#C74BD4\"},\"line_color\":{\"value\":\"#C74BD4\"},\"top\":{\"expr\":{\"id\":\"10071\"}},\"width\":{\"value\":0.3},\"x\":{\"field\":\"years\"}},\"id\":\"10427\",\"type\":\"VBar\"},{\"attributes\":{\"fields\":[\"Crime\",\"Drama\"]},\"id\":\"10048\",\"type\":\"Stack\"},{\"attributes\":{\"bottom\":{\"expr\":{\"id\":\"10074\"}},\"fill_alpha\":{\"value\":0.1},\"fill_color\":{\"value\":\"#821982\"},\"line_alpha\":{\"value\":0.1},\"line_color\":{\"value\":\"#821982\"},\"top\":{\"expr\":{\"id\":\"10075\"}},\"width\":{\"value\":0.3},\"x\":{\"field\":\"years\"}},\"id\":\"10510\",\"type\":\"VBar\"},{\"attributes\":{\"fields\":[\"Crime\"]},\"id\":\"10046\",\"type\":\"Stack\"},{\"attributes\":{\"data\":{\"Action\":[0,4,7,11,9,9,5,1],\"Adventure\":[0,3,5,6,6,7,5,2],\"Animation\":[0,0,1,0,0,1,2,1],\"Biography\":[0,2,8,7,2,3,6,1],\"Comedy\":[0,6,9,5,2,3,24,3],\"Crime\":[0,4,9,16,12,14,42,11],\"Documentary\":[0,0,2,2,7,2,9,2],\"Drama\":[0,11,27,30,19,20,61,16],\"Family\":[0,0,0,0,1,0,1,0],\"Fantasy\":[0,0,4,2,2,0,1,2],\"History\":[0,1,3,4,2,3,5,2],\"Horror\":[0,0,3,4,2,2,5,4],\"Music\":[0,1,1,0,0,0,0,0],\"Mystery\":[0,1,8,7,8,7,15,8],\"News\":[0,0,0,1,0,0,0,0],\"Romance\":[0,5,2,4,0,1,6,0],\"Sci-Fi\":[0,2,2,6,6,7,2,1],\"Sport\":[0,0,0,0,2,0,3,0],\"Talk-Show\":[0,0,1,1,0,0,0,0],\"Thriller\":[0,6,3,13,13,9,24,9],\"War\":[0,0,3,1,0,0,3,0],\"years\":[\"2014\",\"2015\",\"2016\",\"2017\",\"2018\",\"2019\",\"2020\",\"2021\"]},\"selected\":{\"id\":\"10799\"},\"selection_policy\":{\"id\":\"10798\"}},\"id\":\"10747\",\"type\":\"ColumnDataSource\"}],\"root_ids\":[\"10023\"]},\"title\":\"Bokeh Application\",\"version\":\"2.2.3\"}};\n",
       "  var render_items = [{\"docid\":\"520b2b14-f8de-4d97-9fc1-6175e1cfefbc\",\"root_ids\":[\"10023\"],\"roots\":{\"10023\":\"15f9431f-94f5-4a6a-b7b7-3e444c2dffcb\"}}];\n",
       "  root.Bokeh.embed.embed_items_notebook(docs_json, render_items);\n",
       "\n",
       "  }\n",
       "  if (root.Bokeh !== undefined) {\n",
       "    embed_document(root);\n",
       "  } else {\n",
       "    var attempts = 0;\n",
       "    var timer = setInterval(function(root) {\n",
       "      if (root.Bokeh !== undefined) {\n",
       "        clearInterval(timer);\n",
       "        embed_document(root);\n",
       "      } else {\n",
       "        attempts++;\n",
       "        if (attempts > 100) {\n",
       "          clearInterval(timer);\n",
       "          console.log(\"Bokeh: ERROR: Unable to run BokehJS code because BokehJS library is missing\");\n",
       "        }\n",
       "      }\n",
       "    }, 10, root)\n",
       "  }\n",
       "})(window);"
      ],
      "application/vnd.bokehjs_exec.v0+json": ""
     },
     "metadata": {
      "application/vnd.bokehjs_exec.v0+json": {
       "id": "10023"
      }
     },
     "output_type": "display_data"
    }
   ],
   "source": [
    "all_possible_genres_seen, source = build_data_source_for_graph()\n",
    "\n",
    "labels = [str(l) for l in all_possible_genres_seen]\n",
    "\n",
    "p = figure(x_range=source['years'], plot_height=450, plot_width=1000, y_range=(0,200),\n",
    "           title=\"Genre Distribution per Year\",\n",
    "           toolbar_location=None, tools=\"hover\", tooltips=\"$name in @years: @$name\")\n",
    "\n",
    "p.vbar_stack(labels, x='years', width=0.3, \n",
    "             color=random_HEX_colors(len(labels)), source=source,\n",
    "             legend_label=labels)\n",
    "\n",
    "# p.y_range.start = 0\n",
    "p.x_range.range_padding = .15\n",
    "# p.min_border_bottom=10\n",
    "p.xgrid.grid_line_color = None\n",
    "p.axis.minor_tick_line_color = None\n",
    "p.outline_line_color = None\n",
    "\n",
    "p.legend.orientation = \"horizontal\"\n",
    "# p.legend.label_text_font_size = \"5px\"\n",
    "\n",
    "new_legend = p.legend[0]\n",
    "p.add_layout(new_legend, 'below')\n",
    "\n",
    "show(p)"
   ]
  },
  {
   "cell_type": "markdown",
   "metadata": {},
   "source": [
    "## Most recent data"
   ]
  },
  {
   "cell_type": "code",
   "execution_count": 308,
   "metadata": {},
   "outputs": [
    {
     "name": "stdout",
     "output_type": "stream",
     "text": [
      "Retrieving the most recently seen shows/movies this past 2 weeks\n"
     ]
    },
    {
     "data": {
      "text/plain": [
       "[{'ID': 'tt2401256',\n",
       "  'type': 'tv_series',\n",
       "  'title': 'The Night Of',\n",
       "  'genre': 'Crime, Drama, Mystery',\n",
       "  'year': '2016',\n",
       "  'personal_rating': '9',\n",
       "  'IMDB_rating': '8.5',\n",
       "  'rated_on': '11 Feb 2021',\n",
       "  'actors': ['Riz Ahmed', 'John Turturro', 'Bill Camp', 'Amara Karan'],\n",
       "  'director': ''},\n",
       " {'ID': 'tt9620292',\n",
       "  'type': 'movie',\n",
       "  'title': 'Promising Young Woman',\n",
       "  'genre': 'Crime, Drama, Thriller',\n",
       "  'year': '2020',\n",
       "  'personal_rating': '9',\n",
       "  'IMDB_rating': '7.5',\n",
       "  'rated_on': '08 Feb 2021',\n",
       "  'actors': ['Carey Mulligan', 'Bo Burnham', 'Alison Brie', 'Clancy Brown'],\n",
       "  'director': 'Emerald Fennell'},\n",
       " {'ID': 'tt10016180',\n",
       "  'type': 'movie',\n",
       "  'title': 'The Little Things',\n",
       "  'genre': 'Crime, Drama, Thriller',\n",
       "  'year': '2021',\n",
       "  'personal_rating': '6',\n",
       "  'IMDB_rating': '6.3',\n",
       "  'rated_on': '08 Feb 2021',\n",
       "  'actors': ['Denzel Washington', 'Rami Malek', 'Jared Leto', 'Chris Bauer'],\n",
       "  'director': 'John Lee Hancock'},\n",
       " {'ID': 'tt10287954',\n",
       "  'type': 'tv_series',\n",
       "  'title': 'Rose Island',\n",
       "  'genre': 'Adventure, Comedy, Drama',\n",
       "  'year': '2020',\n",
       "  'personal_rating': '8',\n",
       "  'IMDB_rating': '7',\n",
       "  'rated_on': '07 Feb 2021',\n",
       "  'actors': ['Elio Germano',\n",
       "   'Leonardo Lidi',\n",
       "   'Matilda De Angelis',\n",
       "   'Tom Wlaschiha'],\n",
       "  'director': ''},\n",
       " {'ID': 'tt8550800',\n",
       "  'type': 'tv_series',\n",
       "  'title': 'The Outsider',\n",
       "  'genre': 'Crime, Drama, Fantasy',\n",
       "  'year': '2020– ',\n",
       "  'personal_rating': '8',\n",
       "  'IMDB_rating': '7.8',\n",
       "  'rated_on': '06 Feb 2021',\n",
       "  'actors': ['Ben Mendelsohn', 'Bill Camp', 'Jeremy Bobb', 'Mare Winningham'],\n",
       "  'director': ''}]"
      ]
     },
     "execution_count": 308,
     "metadata": {},
     "output_type": "execute_result"
    }
   ],
   "source": [
    "def retrieve_most_recent_seen():\n",
    "    \n",
    "    print(\"\"\"Retrieving the most recently seen shows/movies this past 2 weeks\"\"\")\n",
    "    \n",
    "    recent_data = []\n",
    "    \n",
    "    last_2_weeks = timestring.Range('last 14 days')\n",
    "    \n",
    "    for ID, data in movieRatings.items():\n",
    "        d = data['rated_on'].split(' ')\n",
    "        finalDate = d[1] +' ' + d[0] + ' ' + d[2]\n",
    "        finalDate = timestring.Date(finalDate)\n",
    "        \n",
    "        if finalDate not in last_2_weeks:\n",
    "            break\n",
    "        else:\n",
    "            recent_data.append(data)\n",
    "        \n",
    "    return recent_data\n",
    "\n",
    "\n",
    "retrieve_most_recent_seen()"
   ]
  },
  {
   "cell_type": "markdown",
   "metadata": {},
   "source": [
    "## TMDB API"
   ]
  },
  {
   "cell_type": "code",
   "execution_count": 309,
   "metadata": {},
   "outputs": [
    {
     "name": "stdout",
     "output_type": "stream",
     "text": [
      "Retrieving the most recently seen shows/movies this past 2 weeks\n"
     ]
    }
   ],
   "source": [
    "import requests\n",
    "import json\n",
    "import shutil\n",
    "import glob, os\n",
    "from PIL import Image\n",
    "\n",
    "TMDB_API = '2410c5007d1bd89e6f524c8659332ca4'\n",
    "external_source = '&external_source=imdb_id'\n",
    "img_TMDB = ''\n",
    "img_url = []\n",
    "        \n",
    "recent_data = retrieve_most_recent_seen()\n",
    "\n",
    "for recent in recent_data:\n",
    "    ID_find = recent['ID']\n",
    "    r = requests.get(f'https://api.themoviedb.org/3/find/{ID_find}?api_key={TMDB_API}&{external_source}')\n",
    "    data = r.json()\n",
    "\n",
    "    for i in data:\n",
    "        for data_inner in data[i]:\n",
    "            if data_inner != '':\n",
    "                img_TMDB = data_inner['poster_path']\n",
    "                \n",
    "    img_url.append(f'https://image.tmdb.org/t/p/w500{img_TMDB}')\n",
    "\n",
    "    \n",
    "for n, img in enumerate(img_url):\n",
    "    response = requests.get(img, stream=True)\n",
    "    with open(f'img_{n}.png', 'wb') as out_file:\n",
    "        shutil.copyfileobj(response.raw, out_file)\n",
    "    del response"
   ]
  },
  {
   "cell_type": "markdown",
   "metadata": {},
   "source": [
    "## Retrieve people data"
   ]
  },
  {
   "cell_type": "code",
   "execution_count": 310,
   "metadata": {},
   "outputs": [
    {
     "data": {
      "text/plain": [
       "'Ethan Coen, Joel Coen'"
      ]
     },
     "execution_count": 310,
     "metadata": {},
     "output_type": "execute_result"
    }
   ],
   "source": [
    "a = movieRatings['tt0887883']['director']\n",
    "\n",
    "# t = []\n",
    "\n",
    "# for act in a:\n",
    "#     t.append(act)\n",
    "\n",
    "# occ = {}\n",
    "# # Counting occurrences\n",
    "# for _ in t:\n",
    "#     try:\n",
    "#         occ[_] += 1\n",
    "#     except KeyError:\n",
    "#         occ[_] = 1\n",
    "        \n",
    "# occ\n",
    "\n",
    "a"
   ]
  },
  {
   "cell_type": "code",
   "execution_count": 317,
   "metadata": {},
   "outputs": [],
   "source": [
    "def retrieve_people(d):\n",
    "    actors = {}\n",
    "    directors = {}\n",
    "    \n",
    "    for ID, data in d.items():\n",
    "        tmp_act = data['actors']\n",
    "        tmp_dir = data['director']\n",
    "        \n",
    "        if tmp_act != '':\n",
    "            for _ in tmp_act:\n",
    "                try:\n",
    "                    if _ == '':\n",
    "                        print(f\"This: {data['title']}\")\n",
    "                    actors[_] += 1\n",
    "                except KeyError:\n",
    "                    actors[_] = 1\n",
    "                    \n",
    "        # TODO: Work on the directors!                    \n",
    "        if tmp_dir != '':\n",
    "            if not str.isupper(tmp_dir[0]):\n",
    "                print(data)\n",
    "            try:\n",
    "                directors[tmp_dir] += 1\n",
    "            except KeyError:\n",
    "                directors[tmp_dir] = 1\n",
    "    \n",
    "    return directors, actors\n",
    "\n",
    "di, ac = retrieve_people(movieRatings)"
   ]
  },
  {
   "cell_type": "code",
   "execution_count": 332,
   "metadata": {},
   "outputs": [],
   "source": [
    "def bulk_download_images(people_type, url):\n",
    "    \n",
    "    for n, img in enumerate(url):\n",
    "        response = requests.get(img, stream=True)\n",
    "        with open(f'{people_type}_{n}.png', 'wb') as out_file:\n",
    "            shutil.copyfileobj(response.raw, out_file)\n",
    "        del response\n",
    "        \n",
    "    return f\"Downloaded {people_type}-related data.\""
   ]
  },
  {
   "cell_type": "code",
   "execution_count": 323,
   "metadata": {},
   "outputs": [
    {
     "data": {
      "text/plain": [
       "({'Brad Pitt': 7, 'Jake Gyllenhaal': 8, 'Robert De Niro': 14},\n",
       " {'Christopher Nolan': 4, 'David Fincher': 5, 'Martin Scorsese': 7})"
      ]
     },
     "execution_count": 323,
     "metadata": {},
     "output_type": "execute_result"
    }
   ],
   "source": [
    "sorted_actors = dict(sorted(ac.items(), key=lambda item: item[1]))\n",
    "sorted_directors = dict(sorted(di.items(), key=lambda item: item[1]))\n",
    "\n",
    "top_three_actors = {k: sorted_actors[k] for k in list(sorted_actors)[len(sorted_actors)-3:]}\n",
    "top_three_directors = {k: sorted_directors[k] for k in list(sorted_directors)[len(sorted_directors)-3:]}\n",
    "top_three_actors, top_three_directors"
   ]
  },
  {
   "cell_type": "code",
   "execution_count": 333,
   "metadata": {},
   "outputs": [
    {
     "data": {
      "text/plain": [
       "'Downloaded actor-related data.'"
      ]
     },
     "execution_count": 333,
     "metadata": {},
     "output_type": "execute_result"
    }
   ],
   "source": [
    "# Retriving TMDB images for actors\n",
    "TMDB_API = '2410c5007d1bd89e6f524c8659332ca4'\n",
    "img_TMDB = ''\n",
    "img_url = []\n",
    "        \n",
    "# https://api.themoviedb.org/3/search/person?api_key=2410c5007d1bd89e6f524c8659332ca4&query=asdasd\n",
    "\n",
    "for actor in top_three_actors.keys():\n",
    "    query = actor\n",
    "    page_number = 1\n",
    "    r = requests.get(f'https://api.themoviedb.org/3/search/person?api_key={TMDB_API}&query={query}&page={page_number}')\n",
    "    data = r.json()\n",
    "\n",
    "    for d in data['results']:\n",
    "        img_TMDB = d['profile_path']\n",
    "        if img_TMDB != None:\n",
    "            img_url.append(f'https://image.tmdb.org/t/p/w500{img_TMDB}')\n",
    "            break\n",
    "\n",
    "\n",
    "bulk_download_images('actor', img_url)"
   ]
  },
  {
   "cell_type": "code",
   "execution_count": 334,
   "metadata": {},
   "outputs": [
    {
     "data": {
      "text/plain": [
       "'Downloaded director-related data.'"
      ]
     },
     "execution_count": 334,
     "metadata": {},
     "output_type": "execute_result"
    }
   ],
   "source": [
    "# Retriving TMDB images for directors\n",
    "TMDB_API = '2410c5007d1bd89e6f524c8659332ca4'\n",
    "img_TMDB = ''\n",
    "img_url = []\n",
    "        \n",
    "# https://api.themoviedb.org/3/search/person?api_key=2410c5007d1bd89e6f524c8659332ca4&query=asdasd\n",
    "\n",
    "for director in top_three_directors.keys():\n",
    "    query = director\n",
    "    page_number = 1\n",
    "    r = requests.get(f'https://api.themoviedb.org/3/search/person?api_key={TMDB_API}&query={query}&page={page_number}')\n",
    "    data = r.json()\n",
    "\n",
    "    for d in data['results']:\n",
    "        img_TMDB = d['profile_path']\n",
    "        if img_TMDB != None:\n",
    "            img_url.append(f'https://image.tmdb.org/t/p/w500{img_TMDB}')\n",
    "            break\n",
    "\n",
    "bulk_download_images('director', img_url)"
   ]
  }
 ],
 "metadata": {
  "kernelspec": {
   "display_name": "Python 3",
   "language": "python",
   "name": "python3"
  },
  "language_info": {
   "codemirror_mode": {
    "name": "ipython",
    "version": 3
   },
   "file_extension": ".py",
   "mimetype": "text/x-python",
   "name": "python",
   "nbconvert_exporter": "python",
   "pygments_lexer": "ipython3",
   "version": "3.8.5"
  }
 },
 "nbformat": 4,
 "nbformat_minor": 2
}
